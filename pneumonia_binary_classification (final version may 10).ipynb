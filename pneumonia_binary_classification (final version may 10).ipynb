{
  "nbformat": 4,
  "nbformat_minor": 0,
  "metadata": {
    "accelerator": "GPU",
    "colab": {
      "name": "pneumonia binary classification.ipynb",
      "provenance": [],
      "collapsed_sections": []
    },
    "kernelspec": {
      "display_name": "Python 3",
      "name": "python3"
    }
  },
  "cells": [
    {
      "cell_type": "code",
      "metadata": {
        "colab": {
          "base_uri": "https://localhost:8080/"
        },
        "id": "84hZ7KIoTgbM",
        "outputId": "bd43b3dd-f0e1-49f0-dc80-15bfa08ebe4f"
      },
      "source": [
        "from google.colab import drive\n",
        "drive.mount('/content/drive')"
      ],
      "execution_count": null,
      "outputs": [
        {
          "output_type": "stream",
          "text": [
            "Mounted at /content/drive\n"
          ],
          "name": "stdout"
        }
      ]
    },
    {
      "cell_type": "code",
      "metadata": {
        "id": "kDc7hn8Wjj_O",
        "colab": {
          "base_uri": "https://localhost:8080/"
        },
        "outputId": "7c0c4835-452e-44ac-f14d-3b44807bf590"
      },
      "source": [
        "from platform import python_version\n",
        "\n",
        "print(python_version())"
      ],
      "execution_count": null,
      "outputs": [
        {
          "output_type": "stream",
          "text": [
            "3.7.10\n"
          ],
          "name": "stdout"
        }
      ]
    },
    {
      "cell_type": "code",
      "metadata": {
        "colab": {
          "base_uri": "https://localhost:8080/"
        },
        "id": "_50cF9RGWKLH",
        "outputId": "80cb27bb-3925-4c9b-d21a-4dc3e08d2a17"
      },
      "source": [
        "pip freeze"
      ],
      "execution_count": null,
      "outputs": [
        {
          "output_type": "stream",
          "text": [
            "absl-py==0.12.0\n",
            "alabaster==0.7.12\n",
            "albumentations==0.1.12\n",
            "altair==4.1.0\n",
            "appdirs==1.4.4\n",
            "argon2-cffi==20.1.0\n",
            "astor==0.8.1\n",
            "astropy==4.2.1\n",
            "astunparse==1.6.3\n",
            "async-generator==1.10\n",
            "atari-py==0.2.6\n",
            "atomicwrites==1.4.0\n",
            "attrs==20.3.0\n",
            "audioread==2.1.9\n",
            "autograd==1.3\n",
            "Babel==2.9.0\n",
            "backcall==0.2.0\n",
            "beautifulsoup4==4.6.3\n",
            "bleach==3.3.0\n",
            "blis==0.4.1\n",
            "bokeh==2.3.1\n",
            "Bottleneck==1.3.2\n",
            "branca==0.4.2\n",
            "bs4==0.0.1\n",
            "CacheControl==0.12.6\n",
            "cachetools==4.2.1\n",
            "catalogue==1.0.0\n",
            "certifi==2020.12.5\n",
            "cffi==1.14.5\n",
            "chainer==7.4.0\n",
            "chardet==3.0.4\n",
            "click==7.1.2\n",
            "cloudpickle==1.3.0\n",
            "cmake==3.12.0\n",
            "cmdstanpy==0.9.5\n",
            "colorcet==2.0.6\n",
            "colorlover==0.3.0\n",
            "community==1.0.0b1\n",
            "contextlib2==0.5.5\n",
            "convertdate==2.3.2\n",
            "coverage==3.7.1\n",
            "coveralls==0.5\n",
            "crcmod==1.7\n",
            "cufflinks==0.17.3\n",
            "cupy-cuda101==7.4.0\n",
            "cvxopt==1.2.6\n",
            "cvxpy==1.0.31\n",
            "cycler==0.10.0\n",
            "cymem==2.0.5\n",
            "Cython==0.29.22\n",
            "daft==0.0.4\n",
            "dask==2.12.0\n",
            "datascience==0.10.6\n",
            "debugpy==1.0.0\n",
            "decorator==4.4.2\n",
            "defusedxml==0.7.1\n",
            "descartes==1.1.0\n",
            "dill==0.3.3\n",
            "distributed==1.25.3\n",
            "dlib==19.18.0\n",
            "dm-tree==0.1.6\n",
            "docopt==0.6.2\n",
            "docutils==0.17\n",
            "dopamine-rl==1.0.5\n",
            "earthengine-api==0.1.260\n",
            "easydict==1.9\n",
            "ecos==2.0.7.post1\n",
            "editdistance==0.5.3\n",
            "en-core-web-sm==2.2.5\n",
            "entrypoints==0.3\n",
            "ephem==3.7.7.1\n",
            "et-xmlfile==1.0.1\n",
            "fa2==0.3.5\n",
            "fancyimpute==0.4.3\n",
            "fastai==1.0.61\n",
            "fastdtw==0.3.4\n",
            "fastprogress==1.0.0\n",
            "fastrlock==0.6\n",
            "fbprophet==0.7.1\n",
            "feather-format==0.4.1\n",
            "filelock==3.0.12\n",
            "firebase-admin==4.4.0\n",
            "fix-yahoo-finance==0.0.22\n",
            "Flask==1.1.2\n",
            "flatbuffers==1.12\n",
            "folium==0.8.3\n",
            "future==0.16.0\n",
            "gast==0.3.3\n",
            "GDAL==2.2.2\n",
            "gdown==3.6.4\n",
            "gensim==3.6.0\n",
            "geographiclib==1.50\n",
            "geopy==1.17.0\n",
            "gin-config==0.4.0\n",
            "glob2==0.7\n",
            "google==2.0.3\n",
            "google-api-core==1.26.3\n",
            "google-api-python-client==1.12.8\n",
            "google-auth==1.28.1\n",
            "google-auth-httplib2==0.0.4\n",
            "google-auth-oauthlib==0.4.4\n",
            "google-cloud-bigquery==1.21.0\n",
            "google-cloud-bigquery-storage==1.1.0\n",
            "google-cloud-core==1.0.3\n",
            "google-cloud-datastore==1.8.0\n",
            "google-cloud-firestore==1.7.0\n",
            "google-cloud-language==1.2.0\n",
            "google-cloud-storage==1.18.1\n",
            "google-cloud-translate==1.5.0\n",
            "google-colab==1.0.0\n",
            "google-pasta==0.2.0\n",
            "google-resumable-media==0.4.1\n",
            "googleapis-common-protos==1.53.0\n",
            "googledrivedownloader==0.4\n",
            "graphviz==0.10.1\n",
            "greenlet==1.0.0\n",
            "grpcio==1.32.0\n",
            "gspread==3.0.1\n",
            "gspread-dataframe==3.0.8\n",
            "gym==0.17.3\n",
            "h5py==2.10.0\n",
            "HeapDict==1.0.1\n",
            "hijri-converter==2.1.1\n",
            "holidays==0.10.5.2\n",
            "holoviews==1.14.3\n",
            "html5lib==1.0.1\n",
            "httpimport==0.5.18\n",
            "httplib2==0.17.4\n",
            "httplib2shim==0.0.3\n",
            "humanize==0.5.1\n",
            "hyperopt==0.1.2\n",
            "ideep4py==2.0.0.post3\n",
            "idna==2.10\n",
            "imageio==2.4.1\n",
            "imagesize==1.2.0\n",
            "imbalanced-learn==0.4.3\n",
            "imblearn==0.0\n",
            "imgaug==0.2.9\n",
            "importlib-metadata==3.10.1\n",
            "importlib-resources==5.1.2\n",
            "imutils==0.5.4\n",
            "inflect==2.1.0\n",
            "iniconfig==1.1.1\n",
            "intel-openmp==2021.2.0\n",
            "intervaltree==2.1.0\n",
            "ipykernel==4.10.1\n",
            "ipython==5.5.0\n",
            "ipython-genutils==0.2.0\n",
            "ipython-sql==0.3.9\n",
            "ipywidgets==7.6.3\n",
            "itsdangerous==1.1.0\n",
            "jax==0.2.12\n",
            "jaxlib==0.1.65+cuda110\n",
            "jdcal==1.4.1\n",
            "jedi==0.18.0\n",
            "jieba==0.42.1\n",
            "Jinja2==2.11.3\n",
            "joblib==1.0.1\n",
            "jpeg4py==0.1.4\n",
            "jsonschema==2.6.0\n",
            "jupyter==1.0.0\n",
            "jupyter-client==5.3.5\n",
            "jupyter-console==5.2.0\n",
            "jupyter-core==4.7.1\n",
            "jupyterlab-pygments==0.1.2\n",
            "jupyterlab-widgets==1.0.0\n",
            "kaggle==1.5.12\n",
            "kapre==0.1.3.1\n",
            "Keras==2.4.3\n",
            "Keras-Preprocessing==1.1.2\n",
            "keras-vis==0.4.1\n",
            "kiwisolver==1.3.1\n",
            "knnimpute==0.1.0\n",
            "korean-lunar-calendar==0.2.1\n",
            "librosa==0.8.0\n",
            "lightgbm==2.2.3\n",
            "llvmlite==0.34.0\n",
            "lmdb==0.99\n",
            "LunarCalendar==0.0.9\n",
            "lxml==4.2.6\n",
            "Markdown==3.3.4\n",
            "MarkupSafe==1.1.1\n",
            "matplotlib==3.2.2\n",
            "matplotlib-venn==0.11.6\n",
            "missingno==0.4.2\n",
            "mistune==0.8.4\n",
            "mizani==0.6.0\n",
            "mkl==2019.0\n",
            "mlxtend==0.14.0\n",
            "more-itertools==8.7.0\n",
            "moviepy==0.2.3.5\n",
            "mpmath==1.2.1\n",
            "msgpack==1.0.2\n",
            "multiprocess==0.70.11.1\n",
            "multitasking==0.0.9\n",
            "murmurhash==1.0.5\n",
            "music21==5.5.0\n",
            "natsort==5.5.0\n",
            "nbclient==0.5.3\n",
            "nbconvert==5.6.1\n",
            "nbformat==5.1.3\n",
            "nest-asyncio==1.5.1\n",
            "networkx==2.5.1\n",
            "nibabel==3.0.2\n",
            "nltk==3.2.5\n",
            "notebook==5.3.1\n",
            "np-utils==0.5.12.1\n",
            "numba==0.51.2\n",
            "numexpr==2.7.3\n",
            "numpy==1.19.5\n",
            "nvidia-ml-py3==7.352.0\n",
            "oauth2client==4.1.3\n",
            "oauthlib==3.1.0\n",
            "okgrade==0.4.3\n",
            "opencv-contrib-python==4.1.2.30\n",
            "opencv-python==4.1.2.30\n",
            "openpyxl==2.5.9\n",
            "opt-einsum==3.3.0\n",
            "osqp==0.6.2.post0\n",
            "packaging==20.9\n",
            "palettable==3.3.0\n",
            "pandas==1.1.5\n",
            "pandas-datareader==0.9.0\n",
            "pandas-gbq==0.13.3\n",
            "pandas-profiling==1.4.1\n",
            "pandocfilters==1.4.3\n",
            "panel==0.11.2\n",
            "param==1.10.1\n",
            "parso==0.8.2\n",
            "pathlib==1.0.1\n",
            "patsy==0.5.1\n",
            "pexpect==4.8.0\n",
            "pickleshare==0.7.5\n",
            "Pillow==7.1.2\n",
            "pip-tools==4.5.1\n",
            "plac==1.1.3\n",
            "plotly==4.4.1\n",
            "plotnine==0.6.0\n",
            "pluggy==0.7.1\n",
            "pooch==1.3.0\n",
            "portpicker==1.3.1\n",
            "prefetch-generator==1.0.1\n",
            "preshed==3.0.5\n",
            "prettytable==2.1.0\n",
            "progressbar2==3.38.0\n",
            "prometheus-client==0.10.1\n",
            "promise==2.3\n",
            "prompt-toolkit==1.0.18\n",
            "protobuf==3.12.4\n",
            "psutil==5.4.8\n",
            "psycopg2==2.7.6.1\n",
            "ptyprocess==0.7.0\n",
            "py==1.10.0\n",
            "pyarrow==3.0.0\n",
            "pyasn1==0.4.8\n",
            "pyasn1-modules==0.2.8\n",
            "pycocotools==2.0.2\n",
            "pycparser==2.20\n",
            "pyct==0.4.8\n",
            "pydata-google-auth==1.1.0\n",
            "pydot==1.3.0\n",
            "pydot-ng==2.0.0\n",
            "pydotplus==2.0.2\n",
            "PyDrive==1.3.1\n",
            "pyemd==0.5.1\n",
            "pyerfa==1.7.2\n",
            "pyglet==1.5.0\n",
            "Pygments==2.6.1\n",
            "pygobject==3.26.1\n",
            "pymc3==3.7\n",
            "PyMeeus==0.5.11\n",
            "pymongo==3.11.3\n",
            "pymystem3==0.2.0\n",
            "PyOpenGL==3.1.5\n",
            "pyparsing==2.4.7\n",
            "pyrsistent==0.17.3\n",
            "pysndfile==1.3.8\n",
            "PySocks==1.7.1\n",
            "pystan==2.19.1.1\n",
            "pytest==3.6.4\n",
            "python-apt==0.0.0\n",
            "python-chess==0.23.11\n",
            "python-dateutil==2.8.1\n",
            "python-louvain==0.15\n",
            "python-slugify==4.0.1\n",
            "python-utils==2.5.6\n",
            "pytz==2018.9\n",
            "pyviz-comms==2.0.1\n",
            "PyWavelets==1.1.1\n",
            "PyYAML==3.13\n",
            "pyzmq==22.0.3\n",
            "qdldl==0.1.5.post0\n",
            "qtconsole==5.0.3\n",
            "QtPy==1.9.0\n",
            "regex==2019.12.20\n",
            "requests==2.23.0\n",
            "requests-oauthlib==1.3.0\n",
            "resampy==0.2.2\n",
            "retrying==1.3.3\n",
            "rpy2==3.4.3\n",
            "rsa==4.7.2\n",
            "scikit-image==0.16.2\n",
            "scikit-learn==0.22.2.post1\n",
            "scipy==1.4.1\n",
            "screen-resolution-extra==0.0.0\n",
            "scs==2.1.3\n",
            "seaborn==0.11.1\n",
            "Send2Trash==1.5.0\n",
            "setuptools-git==1.2\n",
            "Shapely==1.7.1\n",
            "simplegeneric==0.8.1\n",
            "six==1.15.0\n",
            "sklearn==0.0\n",
            "sklearn-pandas==1.8.0\n",
            "smart-open==5.0.0\n",
            "snowballstemmer==2.1.0\n",
            "sortedcontainers==2.3.0\n",
            "SoundFile==0.10.3.post1\n",
            "spacy==2.2.4\n",
            "Sphinx==1.8.5\n",
            "sphinxcontrib-serializinghtml==1.1.4\n",
            "sphinxcontrib-websupport==1.2.4\n",
            "SQLAlchemy==1.4.7\n",
            "sqlparse==0.4.1\n",
            "srsly==1.0.5\n",
            "statsmodels==0.10.2\n",
            "sympy==1.7.1\n",
            "tables==3.4.4\n",
            "tabulate==0.8.9\n",
            "tblib==1.7.0\n",
            "tensorboard==2.4.1\n",
            "tensorboard-plugin-wit==1.8.0\n",
            "tensorflow==2.4.1\n",
            "tensorflow-datasets==4.0.1\n",
            "tensorflow-estimator==2.4.0\n",
            "tensorflow-gcs-config==2.4.0\n",
            "tensorflow-hub==0.12.0\n",
            "tensorflow-metadata==0.29.0\n",
            "tensorflow-probability==0.12.1\n",
            "termcolor==1.1.0\n",
            "terminado==0.9.4\n",
            "testpath==0.4.4\n",
            "text-unidecode==1.3\n",
            "textblob==0.15.3\n",
            "textgenrnn==1.4.1\n",
            "Theano==1.0.5\n",
            "thinc==7.4.0\n",
            "tifffile==2021.4.8\n",
            "toml==0.10.2\n",
            "toolz==0.11.1\n",
            "torch==1.8.1+cu101\n",
            "torchsummary==1.5.1\n",
            "torchtext==0.9.1\n",
            "torchvision==0.9.1+cu101\n",
            "tornado==5.1.1\n",
            "tqdm==4.41.1\n",
            "traitlets==5.0.5\n",
            "tweepy==3.10.0\n",
            "typeguard==2.7.1\n",
            "typing-extensions==3.7.4.3\n",
            "tzlocal==1.5.1\n",
            "uritemplate==3.0.1\n",
            "urllib3==1.24.3\n",
            "vega-datasets==0.9.0\n",
            "wasabi==0.8.2\n",
            "wcwidth==0.2.5\n",
            "webencodings==0.5.1\n",
            "Werkzeug==1.0.1\n",
            "widgetsnbextension==3.5.1\n",
            "wordcloud==1.5.0\n",
            "wrapt==1.12.1\n",
            "xarray==0.15.1\n",
            "xgboost==0.90\n",
            "xkit==0.0.0\n",
            "xlrd==1.1.0\n",
            "xlwt==1.3.0\n",
            "yellowbrick==0.9.1\n",
            "zict==2.0.0\n",
            "zipp==3.4.1\n"
          ],
          "name": "stdout"
        }
      ]
    },
    {
      "cell_type": "code",
      "metadata": {
        "id": "VShkJugPTi2S"
      },
      "source": [
        "%matplotlib inline\n",
        "import pandas as pd\n",
        "import numpy as np\n",
        "import matplotlib.pyplot as plt\n",
        "import os"
      ],
      "execution_count": null,
      "outputs": []
    },
    {
      "cell_type": "code",
      "metadata": {
        "id": "aeul9Jf2Tnil"
      },
      "source": [
        "# params we will probably want to do some hyperparameter optimization later\n",
        "BASE_MODEL= 'ResNet101' #'DenseNet121'  #'ResNet101' # ['VGG16', 'RESNET52', 'InceptionV3', 'Xception', 'DenseNet169', 'DenseNet121']\n",
        "IMG_SIZE = (224, 224) # [(224, 224), (384, 384), (512, 512), (640, 640)]\n",
        "BATCH_SIZE = 16 # [1, 8, 16, 24]\n",
        "DENSE_COUNT = 128 # [32, 64, 128, 256]\n",
        "DROPOUT = 0.25 # [0, 0.25, 0.5]\n",
        "LEARN_RATE = 1e-4 # [1e-4, 1e-3, 4e-3]\n",
        "TRAIN_SAMPLES = 8000 # [3000, 6000, 15000]\n",
        "TEST_SAMPLES = 800\n",
        "USE_ATTN = False # [True, False]"
      ],
      "execution_count": null,
      "outputs": []
    },
    {
      "cell_type": "code",
      "metadata": {
        "id": "IFBwdlGuTnnr",
        "colab": {
          "base_uri": "https://localhost:8080/",
          "height": 127
        },
        "outputId": "b6c3a8be-765a-4eb4-cae4-7d2e828843a8"
      },
      "source": [
        "image_bbox_df = pd.read_csv('/content/drive/MyDrive/Pneumonia/lung opacity overview/image_bbox_full.csv')\n",
        "'''\n",
        "image_bbox_df['path'] = image_bbox_df['path'].map(lambda x: \n",
        "                                                  x.replace('input', \n",
        "                                                            'input/rsna-pneumonia-detection-challenge'))\n",
        "print(image_bbox_df.shape[0], 'images')\n",
        "image_bbox_df.sample(3)\n",
        "\n",
        "\n",
        "image_bbox_df['new_class'] = image_bbox_df['class'].map({'No Lung Opacity / Not Normal' : 'Non-Pneumonia', 'Normal':'Non-Pneumonia','Lung Opacity': 'Pneumonia' })\n",
        "\n",
        "\n",
        "\n",
        "\n",
        "# get the labels in the right format\n",
        "from sklearn.preprocessing import LabelEncoder, OneHotEncoder\n",
        "class_enc = LabelEncoder()\n",
        "image_bbox_df['class_idx'] = class_enc.fit_transform(image_bbox_df['new_class'])\n",
        "oh_enc = OneHotEncoder(sparse=False)\n",
        "image_bbox_df['class_vec'] = oh_enc.fit_transform(\n",
        "    image_bbox_df['class_idx'].values.reshape(-1, 1)).tolist() \n",
        "image_bbox_df.sample(3)\n",
        "\n",
        "\n",
        "from sklearn.model_selection import train_test_split\n",
        "image_df = image_bbox_df.groupby('patientId').apply(lambda x: x.sample(1))\n",
        "raw_train_df, valid_df = train_test_split(image_df, test_size=0.25, random_state=2018,\n",
        "                                    stratify=image_df['class'])\n",
        "print(raw_train_df.shape, 'training data')\n",
        "print(valid_df.shape, 'validation data')\n",
        "\n",
        "\n",
        "\n",
        "fig, (ax1, ax2) = plt.subplots(1, 2, figsize = (20, 10))\n",
        "raw_train_df.groupby('new_class').size().plot.bar(ax=ax1)\n",
        "train_df = raw_train_df.groupby('new_class').\\\n",
        "   apply(lambda x: x.sample(12000//3)).\\\n",
        "   reset_index(drop=True)\n",
        "train_df = raw_train_df.groupby('class').apply(lambda x: x.sample(n={'Lung Opacity':4000, 'Normal':4000, 'No Lung Opacity / Not Normal':2000}.get(x.name))).reset_index(drop = True)\n",
        "\n",
        "train_df.groupby('new_class').size().plot.bar(ax=ax2) \n",
        "train_df.groupby('class').size().plot.bar() \n",
        "print(train_df.shape[0], 'new training size') '''"
      ],
      "execution_count": null,
      "outputs": [
        {
          "output_type": "execute_result",
          "data": {
            "application/vnd.google.colaboratory.intrinsic+json": {
              "type": "string"
            },
            "text/plain": [
              "\"\\nimage_bbox_df['path'] = image_bbox_df['path'].map(lambda x: \\n                                                  x.replace('input', \\n                                                            'input/rsna-pneumonia-detection-challenge'))\\nprint(image_bbox_df.shape[0], 'images')\\nimage_bbox_df.sample(3)\\n\\n\\nimage_bbox_df['new_class'] = image_bbox_df['class'].map({'No Lung Opacity / Not Normal' : 'Non-Pneumonia', 'Normal':'Non-Pneumonia','Lung Opacity': 'Pneumonia' })\\n\\n\\n\\n\\n# get the labels in the right format\\nfrom sklearn.preprocessing import LabelEncoder, OneHotEncoder\\nclass_enc = LabelEncoder()\\nimage_bbox_df['class_idx'] = class_enc.fit_transform(image_bbox_df['new_class'])\\noh_enc = OneHotEncoder(sparse=False)\\nimage_bbox_df['class_vec'] = oh_enc.fit_transform(\\n    image_bbox_df['class_idx'].values.reshape(-1, 1)).tolist() \\nimage_bbox_df.sample(3)\\n\\n\\nfrom sklearn.model_selection import train_test_split\\nimage_df = image_bbox_df.groupby('patientId').apply(lambda x: x.sample(1))\\nraw_train_df, valid_df = train_test_split(image_df, test_size=0.25, random_state=2018,\\n                                    stratify=image_df['class'])\\nprint(raw_train_df.shape, 'training data')\\nprint(valid_df.shape, 'validation data')\\n\\n\\n\\nfig, (ax1, ax2) = plt.subplots(1, 2, figsize = (20, 10))\\nraw_train_df.groupby('new_class').size().plot.bar(ax=ax1)\\ntrain_df = raw_train_df.groupby('new_class').   apply(lambda x: x.sample(12000//3)).   reset_index(drop=True)\\ntrain_df = raw_train_df.groupby('class').apply(lambda x: x.sample(n={'Lung Opacity':4000, 'Normal':4000, 'No Lung Opacity / Not Normal':2000}.get(x.name))).reset_index(drop = True)\\n\\ntrain_df.groupby('new_class').size().plot.bar(ax=ax2) \\ntrain_df.groupby('class').size().plot.bar() \\nprint(train_df.shape[0], 'new training size') \""
            ]
          },
          "metadata": {
            "tags": []
          },
          "execution_count": 4
        }
      ]
    },
    {
      "cell_type": "code",
      "metadata": {
        "id": "8Ns2X7NfTnzv"
      },
      "source": [
        "import pandas as pd\n",
        "male_adult_df = pd.read_csv('/content/drive/MyDrive/Pneumonia/separated rsna overview/male_df.csv')\n",
        "female_adult_df = pd.read_csv('/content/drive/MyDrive/Pneumonia/separated rsna overview/female_df.csv')\n",
        "child_df = pd.read_csv('/content/drive/MyDrive/Pneumonia/separated rsna overview/child_df.csv')\n",
        "male_pa_df = pd.read_csv('/content/drive/MyDrive/Pneumonia/male_adult_pa_pneumonea/male_adult_pa.csv')\n",
        "female_pa_df = pd.read_csv('/content/drive/MyDrive/Pneumonia/female_adult_pa_pneumonia/female_pa_adult.csv')\n"
      ],
      "execution_count": null,
      "outputs": []
    },
    {
      "cell_type": "code",
      "metadata": {
        "id": "RMWyHFZFTn4N",
        "colab": {
          "base_uri": "https://localhost:8080/",
          "height": 206
        },
        "outputId": "9baa8d90-a39f-46d0-be3b-0c500483a813"
      },
      "source": [
        "#new column, male  = 0, female  = 1\n",
        "male_pa_df['gender'] = 0\n",
        "female_pa_df['gender'] = 1\n",
        "mf_df = pd.concat([male_pa_df,female_pa_df], ignore_index = True)\n",
        "mf_df.head()"
      ],
      "execution_count": null,
      "outputs": [
        {
          "output_type": "execute_result",
          "data": {
            "text/html": [
              "<div>\n",
              "<style scoped>\n",
              "    .dataframe tbody tr th:only-of-type {\n",
              "        vertical-align: middle;\n",
              "    }\n",
              "\n",
              "    .dataframe tbody tr th {\n",
              "        vertical-align: top;\n",
              "    }\n",
              "\n",
              "    .dataframe thead th {\n",
              "        text-align: right;\n",
              "    }\n",
              "</style>\n",
              "<table border=\"1\" class=\"dataframe\">\n",
              "  <thead>\n",
              "    <tr style=\"text-align: right;\">\n",
              "      <th></th>\n",
              "      <th>Unnamed: 0</th>\n",
              "      <th>Target</th>\n",
              "      <th>boxes</th>\n",
              "      <th>class</th>\n",
              "      <th>height</th>\n",
              "      <th>path</th>\n",
              "      <th>patientId</th>\n",
              "      <th>width</th>\n",
              "      <th>x</th>\n",
              "      <th>y</th>\n",
              "      <th>gender</th>\n",
              "    </tr>\n",
              "  </thead>\n",
              "  <tbody>\n",
              "    <tr>\n",
              "      <th>0</th>\n",
              "      <td>6</td>\n",
              "      <td>1.0</td>\n",
              "      <td>2.0</td>\n",
              "      <td>Lung Opacity</td>\n",
              "      <td>608.0</td>\n",
              "      <td>../input/rsna-pneumonia-detection-challenge/st...</td>\n",
              "      <td>001031d9-f904-4a23-b3e5-2c088acd19c6</td>\n",
              "      <td>373.0</td>\n",
              "      <td>66.0</td>\n",
              "      <td>160.0</td>\n",
              "      <td>0</td>\n",
              "    </tr>\n",
              "    <tr>\n",
              "      <th>1</th>\n",
              "      <td>7</td>\n",
              "      <td>1.0</td>\n",
              "      <td>2.0</td>\n",
              "      <td>Lung Opacity</td>\n",
              "      <td>676.0</td>\n",
              "      <td>../input/rsna-pneumonia-detection-challenge/st...</td>\n",
              "      <td>001031d9-f904-4a23-b3e5-2c088acd19c6</td>\n",
              "      <td>376.0</td>\n",
              "      <td>552.0</td>\n",
              "      <td>164.0</td>\n",
              "      <td>0</td>\n",
              "    </tr>\n",
              "    <tr>\n",
              "      <th>2</th>\n",
              "      <td>8</td>\n",
              "      <td>0.0</td>\n",
              "      <td>1.0</td>\n",
              "      <td>Normal</td>\n",
              "      <td>NaN</td>\n",
              "      <td>../input/rsna-pneumonia-detection-challenge/st...</td>\n",
              "      <td>0010f549-b242-4e94-87a8-57d79de215fc</td>\n",
              "      <td>NaN</td>\n",
              "      <td>NaN</td>\n",
              "      <td>NaN</td>\n",
              "      <td>0</td>\n",
              "    </tr>\n",
              "    <tr>\n",
              "      <th>3</th>\n",
              "      <td>12</td>\n",
              "      <td>0.0</td>\n",
              "      <td>1.0</td>\n",
              "      <td>Normal</td>\n",
              "      <td>NaN</td>\n",
              "      <td>../input/rsna-pneumonia-detection-challenge/st...</td>\n",
              "      <td>0022995a-45eb-4cfa-9a59-cd15f5196c64</td>\n",
              "      <td>NaN</td>\n",
              "      <td>NaN</td>\n",
              "      <td>NaN</td>\n",
              "      <td>0</td>\n",
              "    </tr>\n",
              "    <tr>\n",
              "      <th>4</th>\n",
              "      <td>20</td>\n",
              "      <td>0.0</td>\n",
              "      <td>1.0</td>\n",
              "      <td>Normal</td>\n",
              "      <td>NaN</td>\n",
              "      <td>../input/rsna-pneumonia-detection-challenge/st...</td>\n",
              "      <td>003d8fa0-6bf1-40ed-b54c-ac657f8495c5</td>\n",
              "      <td>NaN</td>\n",
              "      <td>NaN</td>\n",
              "      <td>NaN</td>\n",
              "      <td>0</td>\n",
              "    </tr>\n",
              "  </tbody>\n",
              "</table>\n",
              "</div>"
            ],
            "text/plain": [
              "   Unnamed: 0  Target  boxes         class  ...  width      x      y  gender\n",
              "0           6     1.0    2.0  Lung Opacity  ...  373.0   66.0  160.0       0\n",
              "1           7     1.0    2.0  Lung Opacity  ...  376.0  552.0  164.0       0\n",
              "2           8     0.0    1.0        Normal  ...    NaN    NaN    NaN       0\n",
              "3          12     0.0    1.0        Normal  ...    NaN    NaN    NaN       0\n",
              "4          20     0.0    1.0        Normal  ...    NaN    NaN    NaN       0\n",
              "\n",
              "[5 rows x 11 columns]"
            ]
          },
          "metadata": {
            "tags": []
          },
          "execution_count": 6
        }
      ]
    },
    {
      "cell_type": "code",
      "metadata": {
        "colab": {
          "base_uri": "https://localhost:8080/",
          "height": 36
        },
        "id": "GB4xWGXVZ3nc",
        "outputId": "81fa637a-92bc-49c2-b3d3-c3ea814fe40c"
      },
      "source": [
        "mf_df.iloc[0, 5]"
      ],
      "execution_count": null,
      "outputs": [
        {
          "output_type": "execute_result",
          "data": {
            "application/vnd.google.colaboratory.intrinsic+json": {
              "type": "string"
            },
            "text/plain": [
              "'../input/rsna-pneumonia-detection-challenge/stage_2_train_images/001031d9-f904-4a23-b3e5-2c088acd19c6.dcm'"
            ]
          },
          "metadata": {
            "tags": []
          },
          "execution_count": 7
        }
      ]
    },
    {
      "cell_type": "code",
      "metadata": {
        "colab": {
          "base_uri": "https://localhost:8080/"
        },
        "id": "tc_jXgMEUB7Y",
        "outputId": "3286da40-c855-47f8-fc16-a3ced6cbe23c"
      },
      "source": [
        "mf_df.groupby('gender').size()"
      ],
      "execution_count": null,
      "outputs": [
        {
          "output_type": "execute_result",
          "data": {
            "text/plain": [
              "gender\n",
              "0    8360\n",
              "1    6530\n",
              "dtype: int64"
            ]
          },
          "metadata": {
            "tags": []
          },
          "execution_count": 8
        }
      ]
    },
    {
      "cell_type": "code",
      "metadata": {
        "id": "4FFHmfjqUB86"
      },
      "source": [
        "working_df =male_pa_df.copy() #mf_df.copy()# mf_df.copy()#image_bbox_df #mf_df.copy() #male_pa_df.copy() # female_pa_df.copy() #mf_df.copy() # #"
      ],
      "execution_count": null,
      "outputs": []
    },
    {
      "cell_type": "code",
      "metadata": {
        "colab": {
          "base_uri": "https://localhost:8080/",
          "height": 206
        },
        "id": "lhirzLb6UIeL",
        "outputId": "ee62133d-f50a-4e1a-cbc3-5664283321ca"
      },
      "source": [
        "working_df.head()"
      ],
      "execution_count": null,
      "outputs": [
        {
          "output_type": "execute_result",
          "data": {
            "text/html": [
              "<div>\n",
              "<style scoped>\n",
              "    .dataframe tbody tr th:only-of-type {\n",
              "        vertical-align: middle;\n",
              "    }\n",
              "\n",
              "    .dataframe tbody tr th {\n",
              "        vertical-align: top;\n",
              "    }\n",
              "\n",
              "    .dataframe thead th {\n",
              "        text-align: right;\n",
              "    }\n",
              "</style>\n",
              "<table border=\"1\" class=\"dataframe\">\n",
              "  <thead>\n",
              "    <tr style=\"text-align: right;\">\n",
              "      <th></th>\n",
              "      <th>Unnamed: 0</th>\n",
              "      <th>Target</th>\n",
              "      <th>boxes</th>\n",
              "      <th>class</th>\n",
              "      <th>height</th>\n",
              "      <th>path</th>\n",
              "      <th>patientId</th>\n",
              "      <th>width</th>\n",
              "      <th>x</th>\n",
              "      <th>y</th>\n",
              "      <th>gender</th>\n",
              "    </tr>\n",
              "  </thead>\n",
              "  <tbody>\n",
              "    <tr>\n",
              "      <th>0</th>\n",
              "      <td>6</td>\n",
              "      <td>1.0</td>\n",
              "      <td>2.0</td>\n",
              "      <td>Lung Opacity</td>\n",
              "      <td>608.0</td>\n",
              "      <td>../input/rsna-pneumonia-detection-challenge/st...</td>\n",
              "      <td>001031d9-f904-4a23-b3e5-2c088acd19c6</td>\n",
              "      <td>373.0</td>\n",
              "      <td>66.0</td>\n",
              "      <td>160.0</td>\n",
              "      <td>0</td>\n",
              "    </tr>\n",
              "    <tr>\n",
              "      <th>1</th>\n",
              "      <td>7</td>\n",
              "      <td>1.0</td>\n",
              "      <td>2.0</td>\n",
              "      <td>Lung Opacity</td>\n",
              "      <td>676.0</td>\n",
              "      <td>../input/rsna-pneumonia-detection-challenge/st...</td>\n",
              "      <td>001031d9-f904-4a23-b3e5-2c088acd19c6</td>\n",
              "      <td>376.0</td>\n",
              "      <td>552.0</td>\n",
              "      <td>164.0</td>\n",
              "      <td>0</td>\n",
              "    </tr>\n",
              "    <tr>\n",
              "      <th>2</th>\n",
              "      <td>8</td>\n",
              "      <td>0.0</td>\n",
              "      <td>1.0</td>\n",
              "      <td>Normal</td>\n",
              "      <td>NaN</td>\n",
              "      <td>../input/rsna-pneumonia-detection-challenge/st...</td>\n",
              "      <td>0010f549-b242-4e94-87a8-57d79de215fc</td>\n",
              "      <td>NaN</td>\n",
              "      <td>NaN</td>\n",
              "      <td>NaN</td>\n",
              "      <td>0</td>\n",
              "    </tr>\n",
              "    <tr>\n",
              "      <th>3</th>\n",
              "      <td>12</td>\n",
              "      <td>0.0</td>\n",
              "      <td>1.0</td>\n",
              "      <td>Normal</td>\n",
              "      <td>NaN</td>\n",
              "      <td>../input/rsna-pneumonia-detection-challenge/st...</td>\n",
              "      <td>0022995a-45eb-4cfa-9a59-cd15f5196c64</td>\n",
              "      <td>NaN</td>\n",
              "      <td>NaN</td>\n",
              "      <td>NaN</td>\n",
              "      <td>0</td>\n",
              "    </tr>\n",
              "    <tr>\n",
              "      <th>4</th>\n",
              "      <td>20</td>\n",
              "      <td>0.0</td>\n",
              "      <td>1.0</td>\n",
              "      <td>Normal</td>\n",
              "      <td>NaN</td>\n",
              "      <td>../input/rsna-pneumonia-detection-challenge/st...</td>\n",
              "      <td>003d8fa0-6bf1-40ed-b54c-ac657f8495c5</td>\n",
              "      <td>NaN</td>\n",
              "      <td>NaN</td>\n",
              "      <td>NaN</td>\n",
              "      <td>0</td>\n",
              "    </tr>\n",
              "  </tbody>\n",
              "</table>\n",
              "</div>"
            ],
            "text/plain": [
              "   Unnamed: 0  Target  boxes         class  ...  width      x      y  gender\n",
              "0           6     1.0    2.0  Lung Opacity  ...  373.0   66.0  160.0       0\n",
              "1           7     1.0    2.0  Lung Opacity  ...  376.0  552.0  164.0       0\n",
              "2           8     0.0    1.0        Normal  ...    NaN    NaN    NaN       0\n",
              "3          12     0.0    1.0        Normal  ...    NaN    NaN    NaN       0\n",
              "4          20     0.0    1.0        Normal  ...    NaN    NaN    NaN       0\n",
              "\n",
              "[5 rows x 11 columns]"
            ]
          },
          "metadata": {
            "tags": []
          },
          "execution_count": 10
        }
      ]
    },
    {
      "cell_type": "code",
      "metadata": {
        "id": "ludOO_1N8m3N"
      },
      "source": [
        "working_df = working_df.drop(working_df[working_df['class'] == 'No Lung Opacity / Not Normal'].index)\n",
        "working_df['new_class'] = working_df['class'].map({ 'Normal':'Non-Pneumonia','Lung Opacity': 'Pneumonia' })"
      ],
      "execution_count": null,
      "outputs": []
    },
    {
      "cell_type": "code",
      "metadata": {
        "id": "fhioZeGeUIf8"
      },
      "source": [
        "#working_df = working_df.drop('Unnamed: 0', axis = 1)\n",
        "#working_df['new_class'] = working_df['class'].map({'No Lung Opacity / Not Normal' : 'Non-Pneumonia', 'Normal':'Non-Pneumonia','Lung Opacity': 'Pneumonia' })"
      ],
      "execution_count": null,
      "outputs": []
    },
    {
      "cell_type": "code",
      "metadata": {
        "id": "2p3KOlZ1bWov"
      },
      "source": [
        "working_df['path'] = working_df['path'].str.replace('../input/rsna-pneumonia-detection-challenge/','/content/drive/MyDrive/Pneumonia/rsna dataset/') #../input/rsna-pneumonia-detection-challenge ##../input/"
      ],
      "execution_count": null,
      "outputs": []
    },
    {
      "cell_type": "code",
      "metadata": {
        "colab": {
          "base_uri": "https://localhost:8080/",
          "height": 206
        },
        "id": "dmL1BjDObtrZ",
        "outputId": "a36be623-aea6-4549-deb3-a28cd271c528"
      },
      "source": [
        "working_df.head()"
      ],
      "execution_count": null,
      "outputs": [
        {
          "output_type": "execute_result",
          "data": {
            "text/html": [
              "<div>\n",
              "<style scoped>\n",
              "    .dataframe tbody tr th:only-of-type {\n",
              "        vertical-align: middle;\n",
              "    }\n",
              "\n",
              "    .dataframe tbody tr th {\n",
              "        vertical-align: top;\n",
              "    }\n",
              "\n",
              "    .dataframe thead th {\n",
              "        text-align: right;\n",
              "    }\n",
              "</style>\n",
              "<table border=\"1\" class=\"dataframe\">\n",
              "  <thead>\n",
              "    <tr style=\"text-align: right;\">\n",
              "      <th></th>\n",
              "      <th>Unnamed: 0</th>\n",
              "      <th>Target</th>\n",
              "      <th>boxes</th>\n",
              "      <th>class</th>\n",
              "      <th>height</th>\n",
              "      <th>path</th>\n",
              "      <th>patientId</th>\n",
              "      <th>width</th>\n",
              "      <th>x</th>\n",
              "      <th>y</th>\n",
              "      <th>gender</th>\n",
              "      <th>new_class</th>\n",
              "    </tr>\n",
              "  </thead>\n",
              "  <tbody>\n",
              "    <tr>\n",
              "      <th>0</th>\n",
              "      <td>6</td>\n",
              "      <td>1.0</td>\n",
              "      <td>2.0</td>\n",
              "      <td>Lung Opacity</td>\n",
              "      <td>608.0</td>\n",
              "      <td>/content/drive/MyDrive/Pneumonia/rsna dataset/...</td>\n",
              "      <td>001031d9-f904-4a23-b3e5-2c088acd19c6</td>\n",
              "      <td>373.0</td>\n",
              "      <td>66.0</td>\n",
              "      <td>160.0</td>\n",
              "      <td>0</td>\n",
              "      <td>Pneumonia</td>\n",
              "    </tr>\n",
              "    <tr>\n",
              "      <th>1</th>\n",
              "      <td>7</td>\n",
              "      <td>1.0</td>\n",
              "      <td>2.0</td>\n",
              "      <td>Lung Opacity</td>\n",
              "      <td>676.0</td>\n",
              "      <td>/content/drive/MyDrive/Pneumonia/rsna dataset/...</td>\n",
              "      <td>001031d9-f904-4a23-b3e5-2c088acd19c6</td>\n",
              "      <td>376.0</td>\n",
              "      <td>552.0</td>\n",
              "      <td>164.0</td>\n",
              "      <td>0</td>\n",
              "      <td>Pneumonia</td>\n",
              "    </tr>\n",
              "    <tr>\n",
              "      <th>2</th>\n",
              "      <td>8</td>\n",
              "      <td>0.0</td>\n",
              "      <td>1.0</td>\n",
              "      <td>Normal</td>\n",
              "      <td>NaN</td>\n",
              "      <td>/content/drive/MyDrive/Pneumonia/rsna dataset/...</td>\n",
              "      <td>0010f549-b242-4e94-87a8-57d79de215fc</td>\n",
              "      <td>NaN</td>\n",
              "      <td>NaN</td>\n",
              "      <td>NaN</td>\n",
              "      <td>0</td>\n",
              "      <td>Non-Pneumonia</td>\n",
              "    </tr>\n",
              "    <tr>\n",
              "      <th>3</th>\n",
              "      <td>12</td>\n",
              "      <td>0.0</td>\n",
              "      <td>1.0</td>\n",
              "      <td>Normal</td>\n",
              "      <td>NaN</td>\n",
              "      <td>/content/drive/MyDrive/Pneumonia/rsna dataset/...</td>\n",
              "      <td>0022995a-45eb-4cfa-9a59-cd15f5196c64</td>\n",
              "      <td>NaN</td>\n",
              "      <td>NaN</td>\n",
              "      <td>NaN</td>\n",
              "      <td>0</td>\n",
              "      <td>Non-Pneumonia</td>\n",
              "    </tr>\n",
              "    <tr>\n",
              "      <th>4</th>\n",
              "      <td>20</td>\n",
              "      <td>0.0</td>\n",
              "      <td>1.0</td>\n",
              "      <td>Normal</td>\n",
              "      <td>NaN</td>\n",
              "      <td>/content/drive/MyDrive/Pneumonia/rsna dataset/...</td>\n",
              "      <td>003d8fa0-6bf1-40ed-b54c-ac657f8495c5</td>\n",
              "      <td>NaN</td>\n",
              "      <td>NaN</td>\n",
              "      <td>NaN</td>\n",
              "      <td>0</td>\n",
              "      <td>Non-Pneumonia</td>\n",
              "    </tr>\n",
              "  </tbody>\n",
              "</table>\n",
              "</div>"
            ],
            "text/plain": [
              "   Unnamed: 0  Target  boxes         class  ...      x      y gender      new_class\n",
              "0           6     1.0    2.0  Lung Opacity  ...   66.0  160.0      0      Pneumonia\n",
              "1           7     1.0    2.0  Lung Opacity  ...  552.0  164.0      0      Pneumonia\n",
              "2           8     0.0    1.0        Normal  ...    NaN    NaN      0  Non-Pneumonia\n",
              "3          12     0.0    1.0        Normal  ...    NaN    NaN      0  Non-Pneumonia\n",
              "4          20     0.0    1.0        Normal  ...    NaN    NaN      0  Non-Pneumonia\n",
              "\n",
              "[5 rows x 12 columns]"
            ]
          },
          "metadata": {
            "tags": []
          },
          "execution_count": 14
        }
      ]
    },
    {
      "cell_type": "code",
      "metadata": {
        "colab": {
          "base_uri": "https://localhost:8080/"
        },
        "id": "yR6_Z2iXqhB4",
        "outputId": "66501b2f-6e32-420c-d403-76ecab4207b3"
      },
      "source": [
        "working_df.groupby('class').size()"
      ],
      "execution_count": null,
      "outputs": [
        {
          "output_type": "execute_result",
          "data": {
            "text/plain": [
              "class\n",
              "Lung Opacity    1054\n",
              "Normal          3969\n",
              "dtype: int64"
            ]
          },
          "metadata": {
            "tags": []
          },
          "execution_count": 15
        }
      ]
    },
    {
      "cell_type": "code",
      "metadata": {
        "colab": {
          "base_uri": "https://localhost:8080/",
          "height": 36
        },
        "id": "ehGGUfTkh8qN",
        "outputId": "37520c60-22b8-4081-d097-29b51b3f9498"
      },
      "source": [
        "working_df.iloc[0,5]"
      ],
      "execution_count": null,
      "outputs": [
        {
          "output_type": "execute_result",
          "data": {
            "application/vnd.google.colaboratory.intrinsic+json": {
              "type": "string"
            },
            "text/plain": [
              "'/content/drive/MyDrive/Pneumonia/rsna dataset/stage_2_train_images/001031d9-f904-4a23-b3e5-2c088acd19c6.dcm'"
            ]
          },
          "metadata": {
            "tags": []
          },
          "execution_count": 16
        }
      ]
    },
    {
      "cell_type": "code",
      "metadata": {
        "colab": {
          "base_uri": "https://localhost:8080/",
          "height": 213
        },
        "id": "UW2bYmCQUIj3",
        "outputId": "b081bca2-5734-47a4-8c99-f1dd93da76be"
      },
      "source": [
        "# get the labels in the right format\n",
        "from sklearn.preprocessing import LabelEncoder, OneHotEncoder\n",
        "class_enc = LabelEncoder()\n",
        "working_df['class_idx'] = class_enc.fit_transform(working_df['new_class'])\n",
        "oh_enc = OneHotEncoder(sparse=False)\n",
        "working_df['class_vec'] = oh_enc.fit_transform(\n",
        "    working_df['class_idx'].values.reshape(-1, 1)).tolist() \n",
        "working_df.sample(3)"
      ],
      "execution_count": null,
      "outputs": [
        {
          "output_type": "execute_result",
          "data": {
            "text/html": [
              "<div>\n",
              "<style scoped>\n",
              "    .dataframe tbody tr th:only-of-type {\n",
              "        vertical-align: middle;\n",
              "    }\n",
              "\n",
              "    .dataframe tbody tr th {\n",
              "        vertical-align: top;\n",
              "    }\n",
              "\n",
              "    .dataframe thead th {\n",
              "        text-align: right;\n",
              "    }\n",
              "</style>\n",
              "<table border=\"1\" class=\"dataframe\">\n",
              "  <thead>\n",
              "    <tr style=\"text-align: right;\">\n",
              "      <th></th>\n",
              "      <th>Unnamed: 0</th>\n",
              "      <th>Target</th>\n",
              "      <th>boxes</th>\n",
              "      <th>class</th>\n",
              "      <th>height</th>\n",
              "      <th>path</th>\n",
              "      <th>patientId</th>\n",
              "      <th>width</th>\n",
              "      <th>x</th>\n",
              "      <th>y</th>\n",
              "      <th>gender</th>\n",
              "      <th>new_class</th>\n",
              "      <th>class_idx</th>\n",
              "      <th>class_vec</th>\n",
              "    </tr>\n",
              "  </thead>\n",
              "  <tbody>\n",
              "    <tr>\n",
              "      <th>7387</th>\n",
              "      <td>26826</td>\n",
              "      <td>1.0</td>\n",
              "      <td>2.0</td>\n",
              "      <td>Lung Opacity</td>\n",
              "      <td>177.0</td>\n",
              "      <td>/content/drive/MyDrive/Pneumonia/rsna dataset/...</td>\n",
              "      <td>e51ae9d8-2e5b-40a1-89fd-06b60fd64355</td>\n",
              "      <td>161.0</td>\n",
              "      <td>670.0</td>\n",
              "      <td>404.0</td>\n",
              "      <td>0</td>\n",
              "      <td>Pneumonia</td>\n",
              "      <td>1</td>\n",
              "      <td>[0.0, 1.0]</td>\n",
              "    </tr>\n",
              "    <tr>\n",
              "      <th>6294</th>\n",
              "      <td>22977</td>\n",
              "      <td>0.0</td>\n",
              "      <td>1.0</td>\n",
              "      <td>Normal</td>\n",
              "      <td>NaN</td>\n",
              "      <td>/content/drive/MyDrive/Pneumonia/rsna dataset/...</td>\n",
              "      <td>c53e009c-d663-45c3-b1be-a2c3806fc2e4</td>\n",
              "      <td>NaN</td>\n",
              "      <td>NaN</td>\n",
              "      <td>NaN</td>\n",
              "      <td>0</td>\n",
              "      <td>Non-Pneumonia</td>\n",
              "      <td>0</td>\n",
              "      <td>[1.0, 0.0]</td>\n",
              "    </tr>\n",
              "    <tr>\n",
              "      <th>5831</th>\n",
              "      <td>21225</td>\n",
              "      <td>0.0</td>\n",
              "      <td>1.0</td>\n",
              "      <td>Normal</td>\n",
              "      <td>NaN</td>\n",
              "      <td>/content/drive/MyDrive/Pneumonia/rsna dataset/...</td>\n",
              "      <td>b8d2820d-6c9a-4c99-b169-754077f9fac8</td>\n",
              "      <td>NaN</td>\n",
              "      <td>NaN</td>\n",
              "      <td>NaN</td>\n",
              "      <td>0</td>\n",
              "      <td>Non-Pneumonia</td>\n",
              "      <td>0</td>\n",
              "      <td>[1.0, 0.0]</td>\n",
              "    </tr>\n",
              "  </tbody>\n",
              "</table>\n",
              "</div>"
            ],
            "text/plain": [
              "      Unnamed: 0  Target  boxes  ...      new_class  class_idx   class_vec\n",
              "7387       26826     1.0    2.0  ...      Pneumonia          1  [0.0, 1.0]\n",
              "6294       22977     0.0    1.0  ...  Non-Pneumonia          0  [1.0, 0.0]\n",
              "5831       21225     0.0    1.0  ...  Non-Pneumonia          0  [1.0, 0.0]\n",
              "\n",
              "[3 rows x 14 columns]"
            ]
          },
          "metadata": {
            "tags": []
          },
          "execution_count": 17
        }
      ]
    },
    {
      "cell_type": "code",
      "metadata": {
        "colab": {
          "base_uri": "https://localhost:8080/"
        },
        "id": "VpXDC_eTUCBK",
        "outputId": "e88fbd0d-8d54-4436-dde3-a0bcae81e00f"
      },
      "source": [
        "from sklearn.model_selection import train_test_split\n",
        "image_df = working_df.groupby('patientId').apply(lambda x: x.sample(1))\n",
        "raw_train_df, valid_df = train_test_split(image_df, test_size=0.20, random_state=2018,\n",
        "                                    stratify=image_df['new_class'])\n",
        "print(raw_train_df.shape, 'training data')\n",
        "print(valid_df.shape, 'validation data')"
      ],
      "execution_count": null,
      "outputs": [
        {
          "output_type": "stream",
          "text": [
            "(3812, 14) training data\n",
            "(954, 14) validation data\n"
          ],
          "name": "stdout"
        }
      ]
    },
    {
      "cell_type": "code",
      "metadata": {
        "colab": {
          "base_uri": "https://localhost:8080/"
        },
        "id": "MiV1lp77UUoF",
        "outputId": "5669de77-cbea-460b-9d95-ff853b0f51bd"
      },
      "source": [
        "raw_train_df.groupby('class').size()"
      ],
      "execution_count": null,
      "outputs": [
        {
          "output_type": "execute_result",
          "data": {
            "text/plain": [
              "class\n",
              "Lung Opacity     637\n",
              "Normal          3175\n",
              "dtype: int64"
            ]
          },
          "metadata": {
            "tags": []
          },
          "execution_count": 19
        }
      ]
    },
    {
      "cell_type": "code",
      "metadata": {
        "colab": {
          "base_uri": "https://localhost:8080/"
        },
        "id": "gMjgRjtaUUpv",
        "outputId": "bc91b5aa-9b95-4dd7-e193-52db94af20c9"
      },
      "source": [
        "raw_train_df.groupby('new_class').size()"
      ],
      "execution_count": null,
      "outputs": [
        {
          "output_type": "execute_result",
          "data": {
            "text/plain": [
              "new_class\n",
              "Non-Pneumonia    3175\n",
              "Pneumonia         637\n",
              "dtype: int64"
            ]
          },
          "metadata": {
            "tags": []
          },
          "execution_count": 20
        }
      ]
    },
    {
      "cell_type": "code",
      "metadata": {
        "colab": {
          "base_uri": "https://localhost:8080/",
          "height": 694
        },
        "id": "M6RyfFtSUVIB",
        "outputId": "203432c3-3c93-4b9e-de2f-99eaa3195086"
      },
      "source": [
        "fig, (ax1, ax2) = plt.subplots(1, 2, figsize = (20, 10))\n",
        "raw_train_df.groupby('new_class').size().plot.bar(ax=ax1)\n",
        "#train_df = raw_train_df.groupby('new_class').\\\n",
        "#   apply(lambda x: x.sample(12000//3)).\\\n",
        "#   reset_index(drop=True)\n",
        "train_df = raw_train_df.groupby('class').apply(lambda x: x.sample(n={'Lung Opacity':400, 'Normal':400}.get(x.name))).reset_index(drop = True) #1076 #4800\n",
        "\n",
        "train_df.groupby('new_class').size().plot.bar(ax=ax2) \n",
        "#train_df.groupby('class').size().plot.bar() \n",
        "print(train_df.shape[0], 'new training size')"
      ],
      "execution_count": null,
      "outputs": [
        {
          "output_type": "stream",
          "text": [
            "800 new training size\n"
          ],
          "name": "stdout"
        },
        {
          "output_type": "display_data",
          "data": {
            "image/png": "[encoded data removed]",
            "text/plain": [
              "<Figure size 1440x720 with 2 Axes>"
            ]
          },
          "metadata": {
            "tags": [],
            "needs_background": "light"
          }
        }
      ]
    },
    {
      "cell_type": "code",
      "metadata": {
        "id": "ugylrxF8YJkB",
        "colab": {
          "base_uri": "https://localhost:8080/"
        },
        "outputId": "0bdb8d71-241f-4e4d-dcfd-4c8a4fe15578"
      },
      "source": [
        "pip install pydicom==1.2.0"
      ],
      "execution_count": null,
      "outputs": [
        {
          "output_type": "stream",
          "text": [
            "Collecting pydicom==1.2.0\n",
            "\u001b[?25l  Downloading https://files.pythonhosted.org/packages/97/ae/93aeb6ba65cf976a23e735e9d32b0d1ffa2797c418f7161300be2ec1f1dd/pydicom-1.2.0-py2.py3-none-any.whl (7.3MB)\n",
            "\u001b[K     |████████████████████████████████| 7.3MB 33.4MB/s \n",
            "\u001b[?25hInstalling collected packages: pydicom\n",
            "Successfully installed pydicom-1.2.0\n"
          ],
          "name": "stdout"
        }
      ]
    },
    {
      "cell_type": "code",
      "metadata": {
        "id": "UaA6281JUVJq"
      },
      "source": [
        "try:\n",
        "    # keras 2.2\n",
        "    import keras_preprocessing.image.utils as KPImageUtils\n",
        "    import keras_preprocessing.image as KPImage\n",
        "except:\n",
        "    # keras 2.1\n",
        "    import keras.preprocessing.image as KPImage\n",
        "    \n",
        "from PIL import Image\n",
        "import pydicom\n",
        "def read_dicom_image(in_path):\n",
        "    img_arr = pydicom.read_file(in_path).pixel_array\n",
        "    return img_arr/img_arr.max()\n",
        "    \n",
        "class medical_pil():\n",
        "    @staticmethod\n",
        "    def open(in_path):\n",
        "        if '.dcm' in in_path:\n",
        "            c_slice = read_dicom_image(in_path)\n",
        "            int_slice =  (255*c_slice).clip(0, 255).astype(np.uint8) # 8bit images are more friendly\n",
        "            return Image.fromarray(int_slice)\n",
        "        else:\n",
        "            return Image.open(in_path)\n",
        "    fromarray = Image.fromarray"
      ],
      "execution_count": null,
      "outputs": []
    },
    {
      "cell_type": "code",
      "metadata": {
        "id": "DJ-bIBnoUeyg"
      },
      "source": [
        "KPImageUtils.pil_image = medical_pil"
      ],
      "execution_count": null,
      "outputs": []
    },
    {
      "cell_type": "code",
      "metadata": {
        "id": "TzppJDZJUe0O"
      },
      "source": [
        "from PIL import Image\n",
        "KPImageUtils._PIL_INTERPOLATION_METHODS = {\n",
        "        'nearest': Image.NEAREST,\n",
        "        'bilinear': Image.BILINEAR,\n",
        "        'bicubic': Image.BICUBIC,\n",
        "    }\n",
        "\n",
        "def load_img(path, grayscale=False, color_mode='rgb', target_size=None,\n",
        "                 interpolation='nearest'):\n",
        "        \"\"\"Loads an image into PIL format.\n",
        "        # Arguments\n",
        "            path: Path to image file.\n",
        "            grayscale: DEPRECATED use `color_mode=\"grayscale\"`.\n",
        "            color_mode: The desired image format. One of \"grayscale\", \"rgb\", \"rgba\".\n",
        "                \"grayscale\" supports 8-bit images and 32-bit signed integer images.\n",
        "                Default: \"rgb\".\n",
        "            target_size: Either `None` (default to original size)\n",
        "                or tuple of ints `(img_height, img_width)`.\n",
        "            interpolation: Interpolation method used to resample the image if the\n",
        "                target size is different from that of the loaded image.\n",
        "                Supported methods are \"nearest\", \"bilinear\", and \"bicubic\".\n",
        "                If PIL version 1.1.3 or newer is installed, \"lanczos\" is also\n",
        "                supported. If PIL version 3.4.0 or newer is installed, \"box\" and\n",
        "                \"hamming\" are also supported.\n",
        "                Default: \"nearest\".\n",
        "        # Returns\n",
        "            A PIL Image instance.\n",
        "        # Raises\n",
        "            ImportError: if PIL is not available.\n",
        "            ValueError: if interpolation method is not supported.\n",
        "        \"\"\"\n",
        "        if grayscale is True:\n",
        "            warnings.warn('grayscale is deprecated. Please use '\n",
        "                          'color_mode = \"grayscale\"')\n",
        "            color_mode = 'grayscale'\n",
        "        if KPImageUtils.pil_image is None:\n",
        "            raise ImportError('Could not import PIL.Image. '\n",
        "                              'The use of `load_img` requires PIL.')\n",
        "        with open(path, 'rb') as f:\n",
        "            img = KPImageUtils.pil_image.open(path)\n",
        "            if color_mode == 'grayscale':\n",
        "                # if image is not already an 8-bit, 16-bit or 32-bit grayscale image\n",
        "                # convert it to an 8-bit grayscale image.\n",
        "                if img.mode not in ('L', 'I;16', 'I'):\n",
        "                    img = img.convert('L')\n",
        "            elif color_mode == 'rgba':\n",
        "                if img.mode != 'RGBA':\n",
        "                    img = img.convert('RGBA')\n",
        "            elif color_mode == 'rgb':\n",
        "                if img.mode != 'RGB':\n",
        "                    img = img.convert('RGB')\n",
        "            else:\n",
        "                raise ValueError('color_mode must be \"grayscale\", \"rgb\", or \"rgba\"')\n",
        "            if target_size is not None:\n",
        "                width_height_tuple = (target_size[1], target_size[0])\n",
        "                if img.size != width_height_tuple:\n",
        "                    if interpolation not in KPImageUtils._PIL_INTERPOLATION_METHODS:\n",
        "                        raise ValueError(\n",
        "                            'Invalid interpolation method {} specified. Supported '\n",
        "                            'methods are {}'.format(\n",
        "                                interpolation,\n",
        "                                \", \".join(KPImageUtils._PIL_INTERPOLATION_METHODS.keys())))\n",
        "                    resample = KPImageUtils._PIL_INTERPOLATION_METHODS[interpolation]\n",
        "                    img = img.resize(width_height_tuple, resample)\n",
        "            return img\n",
        "\n",
        "        \n",
        "KPImageUtils.load_img = load_img        \n",
        "def _get_batches_of_transformed_samples(self, index_array):\n",
        "    \"\"\"Gets a batch of transformed samples.\n",
        "    # Arguments\n",
        "        index_array: Array of sample indices to include in batch.\n",
        "    # Returns\n",
        "        A batch of transformed samples.\n",
        "    \"\"\"\n",
        "    #for i, n_observation in enumerate(index_array):\n",
        "     #   print(str(i) + \"+ \" + str( n_observation))\n",
        "    batch_x = np.zeros((len(index_array),) + self.image_shape, dtype=self.dtype)\n",
        "    # build batch of image data\n",
        "    # self.filepaths is dynamic, is better to call it once outside the loop\n",
        "    filepaths = self.filepaths\n",
        "    for i, j in enumerate(index_array):\n",
        "        img = KPImageUtils.load_img(filepaths[j],\n",
        "                       color_mode=self.color_mode,\n",
        "                       target_size=self.target_size,\n",
        "                       interpolation=self.interpolation)\n",
        "        x = KPImageUtils.img_to_array(img, data_format=self.data_format)\n",
        "        # Pillow images should be closed after `load_img`,\n",
        "        # but not PIL images.\n",
        "        if hasattr(img, 'close'):\n",
        "            img.close()\n",
        "        if self.image_data_generator:\n",
        "            params = self.image_data_generator.get_random_transform(x.shape)\n",
        "            x = self.image_data_generator.apply_transform(x, params)\n",
        "            x = self.image_data_generator.standardize(x)\n",
        "        batch_x[i] = x\n",
        "    # optionally save augmented images to disk for debugging purposes\n",
        "    if self.save_to_dir:\n",
        "        for i, j in enumerate(index_array):\n",
        "            img = KPImageUtils.array_to_img(batch_x[i], self.data_format, scale=True)\n",
        "            fname = '{prefix}_{index}_{hash}.{format}'.format(\n",
        "                prefix=self.save_prefix,\n",
        "                index=j,\n",
        "                hash=np.random.randint(1e7),\n",
        "                format=self.save_format)\n",
        "            img.save(os.path.join(self.save_to_dir, fname))\n",
        "    # build batch of labels\n",
        "    if self.class_mode == 'input':\n",
        "        batch_y = batch_x.copy()\n",
        "    elif self.class_mode in {'binary', 'sparse'}:\n",
        "        #print(str(self.classes.shape))\n",
        "        #print(str(len(batch_x)))\n",
        "        try:\n",
        "            batch_y = np.empty([len(batch_x), self.classes.shape[1]], dtype=self.dtype)\n",
        "        except:\n",
        "            batch_y = np.empty([len(batch_x), 1], dtype=self.dtype)\n",
        "        #print(batch_y)\n",
        "        \n",
        "        #print(str(len(index_array)))\n",
        "        \n",
        "        #print(str(batch_y.shape))\n",
        "        \n",
        "        for i, n_observation in enumerate(index_array):\n",
        "            #print(self.classes[n_observation])\n",
        "            #print(batch_y[i])\n",
        "            batch_y[i] = self.classes[n_observation]\n",
        "    elif self.class_mode == 'categorical':\n",
        "        batch_y = np.zeros((len(batch_x), len(self.class_indices)),\n",
        "                           dtype=self.dtype)\n",
        "        for i, n_observation in enumerate(index_array):\n",
        "            batch_y[i, self.classes[n_observation]] = 1.\n",
        "    elif self.class_mode == 'multi_output':\n",
        "        batch_y = [output[index_array] for output in self.labels]\n",
        "    elif self.class_mode == 'raw':\n",
        "        batch_y = self.labels[index_array]\n",
        "    else:\n",
        "        return batch_x\n",
        "    if self.sample_weight is None:\n",
        "        return batch_x, batch_y\n",
        "    else:\n",
        "        return batch_x, batch_y, self.sample_weight[index_array]"
      ],
      "execution_count": null,
      "outputs": []
    },
    {
      "cell_type": "code",
      "metadata": {
        "id": "nw4KYx9OUe3l"
      },
      "source": [
        "from keras_preprocessing.image.iterator import BatchFromFilesMixin\n",
        "BatchFromFilesMixin._get_batches_of_transformed_samples = _get_batches_of_transformed_samples"
      ],
      "execution_count": null,
      "outputs": []
    },
    {
      "cell_type": "code",
      "metadata": {
        "id": "jXoaPA-BUe5N"
      },
      "source": [
        "from keras.preprocessing.image import ImageDataGenerator\n",
        "if BASE_MODEL=='VGG16':\n",
        "    from keras.applications.vgg16 import VGG16 as PTModel, preprocess_input\n",
        "elif BASE_MODEL=='RESNET52':\n",
        "    from keras.applications.resnet50 import ResNet50 as PTModel, preprocess_input\n",
        "elif BASE_MODEL=='InceptionV3':\n",
        "    from keras.applications.inception_v3 import InceptionV3 as PTModel, preprocess_input\n",
        "elif BASE_MODEL=='Xception':\n",
        "    from keras.applications.xception import Xception as PTModel, preprocess_input\n",
        "elif BASE_MODEL=='DenseNet169': \n",
        "    from keras.applications.densenet import DenseNet169 as PTModel, preprocess_input\n",
        "elif BASE_MODEL=='DenseNet121':\n",
        "    from keras.applications.densenet import DenseNet121 as PTModel, preprocess_input\n",
        "elif BASE_MODEL=='ResNet50':\n",
        "    from keras.applications.resnet50 import ResNet50 as PTModel, preprocess_input\n",
        "elif BASE_MODEL=='ResNet101':\n",
        "    from keras.applications.resnet import ResNet101 as PTModel, preprocess_input\n",
        "elif BASE_MODEL=='DenseNet201':\n",
        "    from keras.applications import DenseNet201 as PTModel\n",
        "    from keras.applications.densenet import  preprocess_input\n",
        "else:\n",
        "    raise ValueError('Unknown model: {}'.format(BASE_MODEL))"
      ],
      "execution_count": null,
      "outputs": []
    },
    {
      "cell_type": "markdown",
      "metadata": {
        "id": "igNgZfWwf0Ft"
      },
      "source": [
        "Image Augmentation"
      ]
    },
    {
      "cell_type": "code",
      "metadata": {
        "id": "9_l5QrC8U7oz"
      },
      "source": [
        "img_gen_args = dict(samplewise_center=False, \n",
        "                              samplewise_std_normalization=False, \n",
        "                              horizontal_flip = True, \n",
        "                              vertical_flip = False, \n",
        "                              height_shift_range = 0.05, \n",
        "                              width_shift_range = 0.02, \n",
        "                              rotation_range = 3, \n",
        "                              shear_range = 0.01,\n",
        "                              fill_mode = 'nearest',\n",
        "                              zoom_range = 0.05,\n",
        "                              preprocessing_function=preprocess_input,) # preprocessing_function=preprocess_input ###from vgg16 inplace of rescale \n",
        "img_gen = ImageDataGenerator(**img_gen_args)"
      ],
      "execution_count": null,
      "outputs": []
    },
    {
      "cell_type": "code",
      "metadata": {
        "id": "33Tw1WX7yqKc"
      },
      "source": [
        "img_gen_args = dict(samplewise_center=False, \n",
        "                              samplewise_std_normalization=False, \n",
        "                              horizontal_flip = True, \n",
        "                              vertical_flip = False, \n",
        "                              height_shift_range = 0.2, #0.05, \n",
        "                              width_shift_range = 0.15, #0.02, \n",
        "                              rotation_range = 45, #3 \n",
        "                              shear_range = 16, #0.01,\n",
        "                              fill_mode = 'nearest',\n",
        "                              zoom_range=0.2, #[0.8, 1.5], #, #0.05,\n",
        "                              preprocessing_function=preprocess_input,) # preprocessing_function=preprocess_input ###from vgg16 inplace of rescale \n",
        "img_gen = ImageDataGenerator(**img_gen_args)"
      ],
      "execution_count": null,
      "outputs": []
    },
    {
      "cell_type": "code",
      "metadata": {
        "id": "e2jM6n8EU7qa"
      },
      "source": [
        "def flow_from_dataframe(img_data_gen, in_df, path_col, y_col, seed = None, **dflow_args):\n",
        "    base_dir = os.path.dirname(in_df[path_col].values[0])\n",
        "    print('## Ignore next message from keras, values are replaced anyways: seed: {}'.format(seed))\n",
        "    df_gen = img_data_gen.flow_from_directory(base_dir, \n",
        "                                     class_mode = 'binary',\n",
        "                                              seed = seed,\n",
        "                                    **dflow_args)\n",
        "    df_gen.filenames = in_df[path_col].values\n",
        "    df_gen.classes = np.stack(in_df[y_col].values,0)\n",
        "    df_gen.filepaths.extend(df_gen.filenames)\n",
        "    df_gen.samples = in_df.shape[0]\n",
        "    df_gen.n = in_df.shape[0]\n",
        "    df_gen._set_index_array()\n",
        "    df_gen.directory = '' # since we have the full path\n",
        "    print('Reinserting dataframe: {} images'.format(in_df.shape[0]))\n",
        "    return df_gen"
      ],
      "execution_count": null,
      "outputs": []
    },
    {
      "cell_type": "code",
      "metadata": {
        "colab": {
          "base_uri": "https://localhost:8080/",
          "height": 310
        },
        "id": "29MRwn9PwCx9",
        "outputId": "52535a76-e0de-4794-9168-fc81551e19f3"
      },
      "source": [
        "train_df.head()"
      ],
      "execution_count": null,
      "outputs": [
        {
          "output_type": "execute_result",
          "data": {
            "text/html": [
              "<div>\n",
              "<style scoped>\n",
              "    .dataframe tbody tr th:only-of-type {\n",
              "        vertical-align: middle;\n",
              "    }\n",
              "\n",
              "    .dataframe tbody tr th {\n",
              "        vertical-align: top;\n",
              "    }\n",
              "\n",
              "    .dataframe thead th {\n",
              "        text-align: right;\n",
              "    }\n",
              "</style>\n",
              "<table border=\"1\" class=\"dataframe\">\n",
              "  <thead>\n",
              "    <tr style=\"text-align: right;\">\n",
              "      <th></th>\n",
              "      <th>Unnamed: 0</th>\n",
              "      <th>Target</th>\n",
              "      <th>boxes</th>\n",
              "      <th>class</th>\n",
              "      <th>height</th>\n",
              "      <th>path</th>\n",
              "      <th>patientId</th>\n",
              "      <th>width</th>\n",
              "      <th>x</th>\n",
              "      <th>y</th>\n",
              "      <th>gender</th>\n",
              "      <th>new_class</th>\n",
              "      <th>class_idx</th>\n",
              "      <th>class_vec</th>\n",
              "    </tr>\n",
              "  </thead>\n",
              "  <tbody>\n",
              "    <tr>\n",
              "      <th>0</th>\n",
              "      <td>712</td>\n",
              "      <td>1.0</td>\n",
              "      <td>3.0</td>\n",
              "      <td>Lung Opacity</td>\n",
              "      <td>284.0</td>\n",
              "      <td>/content/drive/MyDrive/Pneumonia/rsna dataset/...</td>\n",
              "      <td>085a6486-c3b3-4ca2-80f1-be07d23e853b</td>\n",
              "      <td>185.0</td>\n",
              "      <td>665.0</td>\n",
              "      <td>231.0</td>\n",
              "      <td>0</td>\n",
              "      <td>Pneumonia</td>\n",
              "      <td>1</td>\n",
              "      <td>[0.0, 1.0]</td>\n",
              "    </tr>\n",
              "    <tr>\n",
              "      <th>1</th>\n",
              "      <td>21446</td>\n",
              "      <td>1.0</td>\n",
              "      <td>1.0</td>\n",
              "      <td>Lung Opacity</td>\n",
              "      <td>124.0</td>\n",
              "      <td>/content/drive/MyDrive/Pneumonia/rsna dataset/...</td>\n",
              "      <td>ba30b9a4-bebd-4196-a972-e7178508b55e</td>\n",
              "      <td>248.0</td>\n",
              "      <td>148.0</td>\n",
              "      <td>497.0</td>\n",
              "      <td>0</td>\n",
              "      <td>Pneumonia</td>\n",
              "      <td>1</td>\n",
              "      <td>[0.0, 1.0]</td>\n",
              "    </tr>\n",
              "    <tr>\n",
              "      <th>2</th>\n",
              "      <td>3125</td>\n",
              "      <td>1.0</td>\n",
              "      <td>2.0</td>\n",
              "      <td>Lung Opacity</td>\n",
              "      <td>343.0</td>\n",
              "      <td>/content/drive/MyDrive/Pneumonia/rsna dataset/...</td>\n",
              "      <td>2a4489f6-6f7b-46f5-a937-281206307943</td>\n",
              "      <td>168.0</td>\n",
              "      <td>226.0</td>\n",
              "      <td>367.0</td>\n",
              "      <td>0</td>\n",
              "      <td>Pneumonia</td>\n",
              "      <td>1</td>\n",
              "      <td>[0.0, 1.0]</td>\n",
              "    </tr>\n",
              "    <tr>\n",
              "      <th>3</th>\n",
              "      <td>19922</td>\n",
              "      <td>1.0</td>\n",
              "      <td>1.0</td>\n",
              "      <td>Lung Opacity</td>\n",
              "      <td>165.0</td>\n",
              "      <td>/content/drive/MyDrive/Pneumonia/rsna dataset/...</td>\n",
              "      <td>b01ee12f-55ad-4548-84ac-a560a0a429ad</td>\n",
              "      <td>194.0</td>\n",
              "      <td>613.0</td>\n",
              "      <td>313.0</td>\n",
              "      <td>0</td>\n",
              "      <td>Pneumonia</td>\n",
              "      <td>1</td>\n",
              "      <td>[0.0, 1.0]</td>\n",
              "    </tr>\n",
              "    <tr>\n",
              "      <th>4</th>\n",
              "      <td>14245</td>\n",
              "      <td>1.0</td>\n",
              "      <td>1.0</td>\n",
              "      <td>Lung Opacity</td>\n",
              "      <td>156.0</td>\n",
              "      <td>/content/drive/MyDrive/Pneumonia/rsna dataset/...</td>\n",
              "      <td>84102d80-4e38-4676-8012-1e76204dcefc</td>\n",
              "      <td>280.0</td>\n",
              "      <td>179.0</td>\n",
              "      <td>643.0</td>\n",
              "      <td>0</td>\n",
              "      <td>Pneumonia</td>\n",
              "      <td>1</td>\n",
              "      <td>[0.0, 1.0]</td>\n",
              "    </tr>\n",
              "  </tbody>\n",
              "</table>\n",
              "</div>"
            ],
            "text/plain": [
              "   Unnamed: 0  Target  boxes  ...  new_class  class_idx   class_vec\n",
              "0         712     1.0    3.0  ...  Pneumonia          1  [0.0, 1.0]\n",
              "1       21446     1.0    1.0  ...  Pneumonia          1  [0.0, 1.0]\n",
              "2        3125     1.0    2.0  ...  Pneumonia          1  [0.0, 1.0]\n",
              "3       19922     1.0    1.0  ...  Pneumonia          1  [0.0, 1.0]\n",
              "4       14245     1.0    1.0  ...  Pneumonia          1  [0.0, 1.0]\n",
              "\n",
              "[5 rows x 14 columns]"
            ]
          },
          "metadata": {
            "tags": []
          },
          "execution_count": 33
        }
      ]
    },
    {
      "cell_type": "code",
      "metadata": {
        "colab": {
          "base_uri": "https://localhost:8080/"
        },
        "id": "Mn_NvP3zU7uj",
        "outputId": "38573b03-8a41-4968-c1a6-27bc1a05adf2"
      },
      "source": [
        "train_gen = flow_from_dataframe(img_gen, train_df, #raw train df if use unbalance data\n",
        "                             path_col = 'path',\n",
        "                            y_col = 'class_vec', \n",
        "                            target_size = IMG_SIZE,\n",
        "                             color_mode = 'rgb',\n",
        "                            batch_size = BATCH_SIZE)\n",
        "\n",
        "valid_gen = flow_from_dataframe(img_gen, valid_df, \n",
        "                             path_col = 'path',\n",
        "                            y_col = 'class_vec', \n",
        "                            target_size = IMG_SIZE,\n",
        "                             color_mode = 'rgb',\n",
        "                            batch_size = 256) # we can use much larger batches for evaluation 256\n",
        "# used a fixed dataset for evaluating the algorithm\n",
        "valid_X, valid_Y = next(flow_from_dataframe(img_gen, \n",
        "                               valid_df, \n",
        "                             path_col = 'path',\n",
        "                            y_col = 'class_vec', \n",
        "                            target_size = IMG_SIZE,\n",
        "                             color_mode = 'rgb', #rgb\n",
        "                            batch_size = TEST_SAMPLES)) # one big batch"
      ],
      "execution_count": null,
      "outputs": [
        {
          "output_type": "stream",
          "text": [
            "## Ignore next message from keras, values are replaced anyways: seed: None\n",
            "Found 0 images belonging to 0 classes.\n",
            "Reinserting dataframe: 800 images\n",
            "## Ignore next message from keras, values are replaced anyways: seed: None\n",
            "Found 0 images belonging to 0 classes.\n",
            "Reinserting dataframe: 954 images\n",
            "## Ignore next message from keras, values are replaced anyways: seed: None\n",
            "Found 0 images belonging to 0 classes.\n",
            "Reinserting dataframe: 954 images\n"
          ],
          "name": "stdout"
        }
      ]
    },
    {
      "cell_type": "code",
      "metadata": {
        "id": "Rb29GlFryRj5",
        "colab": {
          "base_uri": "https://localhost:8080/",
          "height": 36
        },
        "outputId": "6230d2df-0010-4b25-a283-baa81243c5b2"
      },
      "source": [
        "import pydicom as pyd\n",
        "pyd.__version__"
      ],
      "execution_count": null,
      "outputs": [
        {
          "output_type": "execute_result",
          "data": {
            "application/vnd.google.colaboratory.intrinsic+json": {
              "type": "string"
            },
            "text/plain": [
              "'1.2.0'"
            ]
          },
          "metadata": {
            "tags": []
          },
          "execution_count": 66
        }
      ]
    },
    {
      "cell_type": "code",
      "metadata": {
        "colab": {
          "base_uri": "https://localhost:8080/"
        },
        "id": "sKlLOe11VAKd",
        "outputId": "3f531c6c-6921-492e-be94-74eab33ce93d"
      },
      "source": [
        "t_x, t_y = next(train_gen)\n",
        "print(t_x.shape, t_y.shape)"
      ],
      "execution_count": null,
      "outputs": [
        {
          "output_type": "stream",
          "text": [
            "(16, 224, 224, 3) (16, 2)\n"
          ],
          "name": "stdout"
        }
      ]
    },
    {
      "cell_type": "code",
      "metadata": {
        "id": "3F7o1MwC-TFq",
        "colab": {
          "base_uri": "https://localhost:8080/"
        },
        "outputId": "0bc512e7-c4d2-4bc5-de25-7c86619dbaf2"
      },
      "source": [
        "train_gen.classes"
      ],
      "execution_count": null,
      "outputs": [
        {
          "output_type": "execute_result",
          "data": {
            "text/plain": [
              "array([[0., 1.],\n",
              "       [0., 1.],\n",
              "       [0., 1.],\n",
              "       ...,\n",
              "       [1., 0.],\n",
              "       [1., 0.],\n",
              "       [1., 0.]])"
            ]
          },
          "metadata": {
            "tags": []
          },
          "execution_count": 180
        }
      ]
    },
    {
      "cell_type": "code",
      "metadata": {
        "id": "Hxi31O5wf09Z",
        "colab": {
          "base_uri": "https://localhost:8080/"
        },
        "outputId": "e0f75e54-91cf-44c6-b1a1-cb63fd9c7c42"
      },
      "source": [
        "!python --version"
      ],
      "execution_count": null,
      "outputs": [
        {
          "output_type": "stream",
          "text": [
            "Python 3.7.10\n"
          ],
          "name": "stdout"
        }
      ]
    },
    {
      "cell_type": "code",
      "metadata": {
        "id": "CqqzMNuY-7Rp"
      },
      "source": [
        "import tensorflow as tf\n",
        "from keras.layers import Input, Conv2D, BatchNormalization, Dense\n",
        "from keras.layers import AvgPool2D, GlobalAveragePooling2D, MaxPool2D\n",
        "from keras.models import Model\n",
        "from keras.layers import ReLU, concatenate\n",
        "import keras.backend as K\n",
        "\n",
        "# Creating Densenet121\n",
        "def densenet(input_shape, n_classes, filters = 32):\n",
        "    \n",
        "    #batch norm + relu + conv\n",
        "    def bn_rl_conv(x,filters,kernel=1,strides=1):\n",
        "        \n",
        "        x = BatchNormalization()(x)\n",
        "        x = ReLU()(x)\n",
        "        x = Conv2D(filters, kernel, strides=strides,padding = 'same')(x)\n",
        "        return x\n",
        "    \n",
        "    def dense_block(x, repetition):\n",
        "        \n",
        "        for _ in range(repetition):\n",
        "            y = bn_rl_conv(x, 4*filters)\n",
        "            y = bn_rl_conv(y, filters, 3)\n",
        "            x = concatenate([y,x])\n",
        "        return x\n",
        "        \n",
        "    def transition_layer(x):\n",
        "        \n",
        "        x = bn_rl_conv(x, K.int_shape(x)[-1] //2 )\n",
        "        x = AvgPool2D(2, strides = 2, padding = 'same')(x)\n",
        "        return x\n",
        "    \n",
        "    input = Input (input_shape)\n",
        "    x = Conv2D(64, 7, strides = 2, padding = 'same')(input)\n",
        "    x = MaxPool2D(3, strides = 2, padding = 'same')(x)\n",
        "    \n",
        "    for repetition in [6,12,24,16]:\n",
        "        \n",
        "        d = dense_block(x, repetition)\n",
        "        x = transition_layer(d)\n",
        "    #x = GlobalAveragePooling2D()(d)\n",
        "    #output = Dense(n_classes, activation = 'softmax')(x)\n",
        "    \n",
        "    model = Model(input, d)\n",
        "    return model\n"
      ],
      "execution_count": null,
      "outputs": []
    },
    {
      "cell_type": "code",
      "metadata": {
        "id": "8KBSzbR5_Tgo"
      },
      "source": [
        "\n",
        "n_classes = 2\n",
        "base_pretrained_model = densenet( t_x.shape[1:],n_classes)\n",
        "base_pretrained_model.summary()"
      ],
      "execution_count": null,
      "outputs": []
    },
    {
      "cell_type": "code",
      "metadata": {
        "colab": {
          "base_uri": "https://localhost:8080/"
        },
        "id": "i5XiYAYGyX3G",
        "outputId": "5fc52e51-86b6-492e-e76c-a1601bfaad6a"
      },
      "source": [
        "print(tf.__version__)"
      ],
      "execution_count": null,
      "outputs": [
        {
          "output_type": "stream",
          "text": [
            "2.4.1\n"
          ],
          "name": "stdout"
        }
      ]
    },
    {
      "cell_type": "code",
      "metadata": {
        "id": "3CDxdxEc0SDd"
      },
      "source": [
        "from keras import __version__"
      ],
      "execution_count": null,
      "outputs": []
    },
    {
      "cell_type": "code",
      "metadata": {
        "colab": {
          "base_uri": "https://localhost:8080/",
          "height": 36
        },
        "id": "0SLRgJxa0UL_",
        "outputId": "5b675397-b693-458c-9116-b55eb6b89fdd"
      },
      "source": [
        "__version__"
      ],
      "execution_count": null,
      "outputs": [
        {
          "output_type": "execute_result",
          "data": {
            "application/vnd.google.colaboratory.intrinsic+json": {
              "type": "string"
            },
            "text/plain": [
              "'2.4.3'"
            ]
          },
          "metadata": {
            "tags": []
          },
          "execution_count": 16
        }
      ]
    },
    {
      "cell_type": "markdown",
      "metadata": {
        "id": "wZvRRaYff33p"
      },
      "source": [
        "Model architecture"
      ]
    },
    {
      "cell_type": "code",
      "metadata": {
        "id": "4ov2WkH5i36i",
        "colab": {
          "base_uri": "https://localhost:8080/"
        },
        "outputId": "c63ce0aa-206b-4375-a0c9-124969286596"
      },
      "source": [
        "from keras.layers import GlobalAveragePooling2D, GlobalMaxPooling2D, Dense, Dropout, Flatten, Input, Conv2D, multiply, LocallyConnected2D, Lambda, AvgPool2D, LeakyReLU\n",
        "from keras.models import Model\n",
        "from keras.optimizers import Adam\n",
        "from keras import regularizers\n",
        "from keras.models import Sequential\n",
        "from keras.optimizers import Adam,  RMSprop\n",
        "#with strategy.scope():\n",
        "base_pretrained_model = PTModel(input_shape =  t_x.shape[1:], \n",
        "                          include_top = False, weights = 'imagenet')\n",
        "\n",
        "\n"
      ],
      "execution_count": null,
      "outputs": [
        {
          "output_type": "stream",
          "text": [
            "Downloading data from https://storage.googleapis.com/tensorflow/keras-applications/resnet/resnet101_weights_tf_dim_ordering_tf_kernels_notop.h5\n",
            "171450368/171446536 [==============================] - 2s 0us/step\n"
          ],
          "name": "stdout"
        }
      ]
    },
    {
      "cell_type": "code",
      "metadata": {
        "id": "nFFSbYdg7J7O"
      },
      "source": [
        ""
      ],
      "execution_count": null,
      "outputs": []
    },
    {
      "cell_type": "code",
      "metadata": {
        "id": "bjz8y99t6ojS"
      },
      "source": [
        "for layer in base_pretrained_model.layers:\n",
        "  if layer.output.shape[1:3] == [7,7]: # or layer.output.shape[1:3] == [14,14] :\n",
        "    layer.trainable = True\n",
        "  else :\n",
        "    layer.trainable = False"
      ],
      "execution_count": null,
      "outputs": []
    },
    {
      "cell_type": "code",
      "metadata": {
        "colab": {
          "base_uri": "https://localhost:8080/"
        },
        "id": "BospVCc75mMi",
        "outputId": "6b13d523-e25c-4a65-c2e9-42f008bd4ae6"
      },
      "source": [
        "\n",
        "#base_pretrained_model.layers[-288].trainable"
      ],
      "execution_count": null,
      "outputs": [
        {
          "output_type": "execute_result",
          "data": {
            "text/plain": [
              "True"
            ]
          },
          "metadata": {
            "tags": []
          },
          "execution_count": 33
        }
      ]
    },
    {
      "cell_type": "code",
      "metadata": {
        "id": "U3cEelId5P7U"
      },
      "source": [
        "#base_pretrained_model.trainable = False"
      ],
      "execution_count": null,
      "outputs": []
    },
    {
      "cell_type": "code",
      "metadata": {
        "colab": {
          "base_uri": "https://localhost:8080/"
        },
        "id": "Buit1gZlvuGR",
        "outputId": "3b7ec0ff-eb97-411e-e112-3685f572625f"
      },
      "source": [
        "base_pretrained_model.summary()"
      ],
      "execution_count": null,
      "outputs": [
        {
          "output_type": "stream",
          "text": [
            "Model: \"resnet101\"\n",
            "__________________________________________________________________________________________________\n",
            "Layer (type)                    Output Shape         Param #     Connected to                     \n",
            "==================================================================================================\n",
            "input_1 (InputLayer)            [(None, 224, 224, 3) 0                                            \n",
            "__________________________________________________________________________________________________\n",
            "conv1_pad (ZeroPadding2D)       (None, 230, 230, 3)  0           input_1[0][0]                    \n",
            "__________________________________________________________________________________________________\n",
            "conv1_conv (Conv2D)             (None, 112, 112, 64) 9472        conv1_pad[0][0]                  \n",
            "__________________________________________________________________________________________________\n",
            "conv1_bn (BatchNormalization)   (None, 112, 112, 64) 256         conv1_conv[0][0]                 \n",
            "__________________________________________________________________________________________________\n",
            "conv1_relu (Activation)         (None, 112, 112, 64) 0           conv1_bn[0][0]                   \n",
            "__________________________________________________________________________________________________\n",
            "pool1_pad (ZeroPadding2D)       (None, 114, 114, 64) 0           conv1_relu[0][0]                 \n",
            "__________________________________________________________________________________________________\n",
            "pool1_pool (MaxPooling2D)       (None, 56, 56, 64)   0           pool1_pad[0][0]                  \n",
            "__________________________________________________________________________________________________\n",
            "conv2_block1_1_conv (Conv2D)    (None, 56, 56, 64)   4160        pool1_pool[0][0]                 \n",
            "__________________________________________________________________________________________________\n",
            "conv2_block1_1_bn (BatchNormali (None, 56, 56, 64)   256         conv2_block1_1_conv[0][0]        \n",
            "__________________________________________________________________________________________________\n",
            "conv2_block1_1_relu (Activation (None, 56, 56, 64)   0           conv2_block1_1_bn[0][0]          \n",
            "__________________________________________________________________________________________________\n",
            "conv2_block1_2_conv (Conv2D)    (None, 56, 56, 64)   36928       conv2_block1_1_relu[0][0]        \n",
            "__________________________________________________________________________________________________\n",
            "conv2_block1_2_bn (BatchNormali (None, 56, 56, 64)   256         conv2_block1_2_conv[0][0]        \n",
            "__________________________________________________________________________________________________\n",
            "conv2_block1_2_relu (Activation (None, 56, 56, 64)   0           conv2_block1_2_bn[0][0]          \n",
            "__________________________________________________________________________________________________\n",
            "conv2_block1_0_conv (Conv2D)    (None, 56, 56, 256)  16640       pool1_pool[0][0]                 \n",
            "__________________________________________________________________________________________________\n",
            "conv2_block1_3_conv (Conv2D)    (None, 56, 56, 256)  16640       conv2_block1_2_relu[0][0]        \n",
            "__________________________________________________________________________________________________\n",
            "conv2_block1_0_bn (BatchNormali (None, 56, 56, 256)  1024        conv2_block1_0_conv[0][0]        \n",
            "__________________________________________________________________________________________________\n",
            "conv2_block1_3_bn (BatchNormali (None, 56, 56, 256)  1024        conv2_block1_3_conv[0][0]        \n",
            "__________________________________________________________________________________________________\n",
            "conv2_block1_add (Add)          (None, 56, 56, 256)  0           conv2_block1_0_bn[0][0]          \n",
            "                                                                 conv2_block1_3_bn[0][0]          \n",
            "__________________________________________________________________________________________________\n",
            "conv2_block1_out (Activation)   (None, 56, 56, 256)  0           conv2_block1_add[0][0]           \n",
            "__________________________________________________________________________________________________\n",
            "conv2_block2_1_conv (Conv2D)    (None, 56, 56, 64)   16448       conv2_block1_out[0][0]           \n",
            "__________________________________________________________________________________________________\n",
            "conv2_block2_1_bn (BatchNormali (None, 56, 56, 64)   256         conv2_block2_1_conv[0][0]        \n",
            "__________________________________________________________________________________________________\n",
            "conv2_block2_1_relu (Activation (None, 56, 56, 64)   0           conv2_block2_1_bn[0][0]          \n",
            "__________________________________________________________________________________________________\n",
            "conv2_block2_2_conv (Conv2D)    (None, 56, 56, 64)   36928       conv2_block2_1_relu[0][0]        \n",
            "__________________________________________________________________________________________________\n",
            "conv2_block2_2_bn (BatchNormali (None, 56, 56, 64)   256         conv2_block2_2_conv[0][0]        \n",
            "__________________________________________________________________________________________________\n",
            "conv2_block2_2_relu (Activation (None, 56, 56, 64)   0           conv2_block2_2_bn[0][0]          \n",
            "__________________________________________________________________________________________________\n",
            "conv2_block2_3_conv (Conv2D)    (None, 56, 56, 256)  16640       conv2_block2_2_relu[0][0]        \n",
            "__________________________________________________________________________________________________\n",
            "conv2_block2_3_bn (BatchNormali (None, 56, 56, 256)  1024        conv2_block2_3_conv[0][0]        \n",
            "__________________________________________________________________________________________________\n",
            "conv2_block2_add (Add)          (None, 56, 56, 256)  0           conv2_block1_out[0][0]           \n",
            "                                                                 conv2_block2_3_bn[0][0]          \n",
            "__________________________________________________________________________________________________\n",
            "conv2_block2_out (Activation)   (None, 56, 56, 256)  0           conv2_block2_add[0][0]           \n",
            "__________________________________________________________________________________________________\n",
            "conv2_block3_1_conv (Conv2D)    (None, 56, 56, 64)   16448       conv2_block2_out[0][0]           \n",
            "__________________________________________________________________________________________________\n",
            "conv2_block3_1_bn (BatchNormali (None, 56, 56, 64)   256         conv2_block3_1_conv[0][0]        \n",
            "__________________________________________________________________________________________________\n",
            "conv2_block3_1_relu (Activation (None, 56, 56, 64)   0           conv2_block3_1_bn[0][0]          \n",
            "__________________________________________________________________________________________________\n",
            "conv2_block3_2_conv (Conv2D)    (None, 56, 56, 64)   36928       conv2_block3_1_relu[0][0]        \n",
            "__________________________________________________________________________________________________\n",
            "conv2_block3_2_bn (BatchNormali (None, 56, 56, 64)   256         conv2_block3_2_conv[0][0]        \n",
            "__________________________________________________________________________________________________\n",
            "conv2_block3_2_relu (Activation (None, 56, 56, 64)   0           conv2_block3_2_bn[0][0]          \n",
            "__________________________________________________________________________________________________\n",
            "conv2_block3_3_conv (Conv2D)    (None, 56, 56, 256)  16640       conv2_block3_2_relu[0][0]        \n",
            "__________________________________________________________________________________________________\n",
            "conv2_block3_3_bn (BatchNormali (None, 56, 56, 256)  1024        conv2_block3_3_conv[0][0]        \n",
            "__________________________________________________________________________________________________\n",
            "conv2_block3_add (Add)          (None, 56, 56, 256)  0           conv2_block2_out[0][0]           \n",
            "                                                                 conv2_block3_3_bn[0][0]          \n",
            "__________________________________________________________________________________________________\n",
            "conv2_block3_out (Activation)   (None, 56, 56, 256)  0           conv2_block3_add[0][0]           \n",
            "__________________________________________________________________________________________________\n",
            "conv3_block1_1_conv (Conv2D)    (None, 28, 28, 128)  32896       conv2_block3_out[0][0]           \n",
            "__________________________________________________________________________________________________\n",
            "conv3_block1_1_bn (BatchNormali (None, 28, 28, 128)  512         conv3_block1_1_conv[0][0]        \n",
            "__________________________________________________________________________________________________\n",
            "conv3_block1_1_relu (Activation (None, 28, 28, 128)  0           conv3_block1_1_bn[0][0]          \n",
            "__________________________________________________________________________________________________\n",
            "conv3_block1_2_conv (Conv2D)    (None, 28, 28, 128)  147584      conv3_block1_1_relu[0][0]        \n",
            "__________________________________________________________________________________________________\n",
            "conv3_block1_2_bn (BatchNormali (None, 28, 28, 128)  512         conv3_block1_2_conv[0][0]        \n",
            "__________________________________________________________________________________________________\n",
            "conv3_block1_2_relu (Activation (None, 28, 28, 128)  0           conv3_block1_2_bn[0][0]          \n",
            "__________________________________________________________________________________________________\n",
            "conv3_block1_0_conv (Conv2D)    (None, 28, 28, 512)  131584      conv2_block3_out[0][0]           \n",
            "__________________________________________________________________________________________________\n",
            "conv3_block1_3_conv (Conv2D)    (None, 28, 28, 512)  66048       conv3_block1_2_relu[0][0]        \n",
            "__________________________________________________________________________________________________\n",
            "conv3_block1_0_bn (BatchNormali (None, 28, 28, 512)  2048        conv3_block1_0_conv[0][0]        \n",
            "__________________________________________________________________________________________________\n",
            "conv3_block1_3_bn (BatchNormali (None, 28, 28, 512)  2048        conv3_block1_3_conv[0][0]        \n",
            "__________________________________________________________________________________________________\n",
            "conv3_block1_add (Add)          (None, 28, 28, 512)  0           conv3_block1_0_bn[0][0]          \n",
            "                                                                 conv3_block1_3_bn[0][0]          \n",
            "__________________________________________________________________________________________________\n",
            "conv3_block1_out (Activation)   (None, 28, 28, 512)  0           conv3_block1_add[0][0]           \n",
            "__________________________________________________________________________________________________\n",
            "conv3_block2_1_conv (Conv2D)    (None, 28, 28, 128)  65664       conv3_block1_out[0][0]           \n",
            "__________________________________________________________________________________________________\n",
            "conv3_block2_1_bn (BatchNormali (None, 28, 28, 128)  512         conv3_block2_1_conv[0][0]        \n",
            "__________________________________________________________________________________________________\n",
            "conv3_block2_1_relu (Activation (None, 28, 28, 128)  0           conv3_block2_1_bn[0][0]          \n",
            "__________________________________________________________________________________________________\n",
            "conv3_block2_2_conv (Conv2D)    (None, 28, 28, 128)  147584      conv3_block2_1_relu[0][0]        \n",
            "__________________________________________________________________________________________________\n",
            "conv3_block2_2_bn (BatchNormali (None, 28, 28, 128)  512         conv3_block2_2_conv[0][0]        \n",
            "__________________________________________________________________________________________________\n",
            "conv3_block2_2_relu (Activation (None, 28, 28, 128)  0           conv3_block2_2_bn[0][0]          \n",
            "__________________________________________________________________________________________________\n",
            "conv3_block2_3_conv (Conv2D)    (None, 28, 28, 512)  66048       conv3_block2_2_relu[0][0]        \n",
            "__________________________________________________________________________________________________\n",
            "conv3_block2_3_bn (BatchNormali (None, 28, 28, 512)  2048        conv3_block2_3_conv[0][0]        \n",
            "__________________________________________________________________________________________________\n",
            "conv3_block2_add (Add)          (None, 28, 28, 512)  0           conv3_block1_out[0][0]           \n",
            "                                                                 conv3_block2_3_bn[0][0]          \n",
            "__________________________________________________________________________________________________\n",
            "conv3_block2_out (Activation)   (None, 28, 28, 512)  0           conv3_block2_add[0][0]           \n",
            "__________________________________________________________________________________________________\n",
            "conv3_block3_1_conv (Conv2D)    (None, 28, 28, 128)  65664       conv3_block2_out[0][0]           \n",
            "__________________________________________________________________________________________________\n",
            "conv3_block3_1_bn (BatchNormali (None, 28, 28, 128)  512         conv3_block3_1_conv[0][0]        \n",
            "__________________________________________________________________________________________________\n",
            "conv3_block3_1_relu (Activation (None, 28, 28, 128)  0           conv3_block3_1_bn[0][0]          \n",
            "__________________________________________________________________________________________________\n",
            "conv3_block3_2_conv (Conv2D)    (None, 28, 28, 128)  147584      conv3_block3_1_relu[0][0]        \n",
            "__________________________________________________________________________________________________\n",
            "conv3_block3_2_bn (BatchNormali (None, 28, 28, 128)  512         conv3_block3_2_conv[0][0]        \n",
            "__________________________________________________________________________________________________\n",
            "conv3_block3_2_relu (Activation (None, 28, 28, 128)  0           conv3_block3_2_bn[0][0]          \n",
            "__________________________________________________________________________________________________\n",
            "conv3_block3_3_conv (Conv2D)    (None, 28, 28, 512)  66048       conv3_block3_2_relu[0][0]        \n",
            "__________________________________________________________________________________________________\n",
            "conv3_block3_3_bn (BatchNormali (None, 28, 28, 512)  2048        conv3_block3_3_conv[0][0]        \n",
            "__________________________________________________________________________________________________\n",
            "conv3_block3_add (Add)          (None, 28, 28, 512)  0           conv3_block2_out[0][0]           \n",
            "                                                                 conv3_block3_3_bn[0][0]          \n",
            "__________________________________________________________________________________________________\n",
            "conv3_block3_out (Activation)   (None, 28, 28, 512)  0           conv3_block3_add[0][0]           \n",
            "__________________________________________________________________________________________________\n",
            "conv3_block4_1_conv (Conv2D)    (None, 28, 28, 128)  65664       conv3_block3_out[0][0]           \n",
            "__________________________________________________________________________________________________\n",
            "conv3_block4_1_bn (BatchNormali (None, 28, 28, 128)  512         conv3_block4_1_conv[0][0]        \n",
            "__________________________________________________________________________________________________\n",
            "conv3_block4_1_relu (Activation (None, 28, 28, 128)  0           conv3_block4_1_bn[0][0]          \n",
            "__________________________________________________________________________________________________\n",
            "conv3_block4_2_conv (Conv2D)    (None, 28, 28, 128)  147584      conv3_block4_1_relu[0][0]        \n",
            "__________________________________________________________________________________________________\n",
            "conv3_block4_2_bn (BatchNormali (None, 28, 28, 128)  512         conv3_block4_2_conv[0][0]        \n",
            "__________________________________________________________________________________________________\n",
            "conv3_block4_2_relu (Activation (None, 28, 28, 128)  0           conv3_block4_2_bn[0][0]          \n",
            "__________________________________________________________________________________________________\n",
            "conv3_block4_3_conv (Conv2D)    (None, 28, 28, 512)  66048       conv3_block4_2_relu[0][0]        \n",
            "__________________________________________________________________________________________________\n",
            "conv3_block4_3_bn (BatchNormali (None, 28, 28, 512)  2048        conv3_block4_3_conv[0][0]        \n",
            "__________________________________________________________________________________________________\n",
            "conv3_block4_add (Add)          (None, 28, 28, 512)  0           conv3_block3_out[0][0]           \n",
            "                                                                 conv3_block4_3_bn[0][0]          \n",
            "__________________________________________________________________________________________________\n",
            "conv3_block4_out (Activation)   (None, 28, 28, 512)  0           conv3_block4_add[0][0]           \n",
            "__________________________________________________________________________________________________\n",
            "conv4_block1_1_conv (Conv2D)    (None, 14, 14, 256)  131328      conv3_block4_out[0][0]           \n",
            "__________________________________________________________________________________________________\n",
            "conv4_block1_1_bn (BatchNormali (None, 14, 14, 256)  1024        conv4_block1_1_conv[0][0]        \n",
            "__________________________________________________________________________________________________\n",
            "conv4_block1_1_relu (Activation (None, 14, 14, 256)  0           conv4_block1_1_bn[0][0]          \n",
            "__________________________________________________________________________________________________\n",
            "conv4_block1_2_conv (Conv2D)    (None, 14, 14, 256)  590080      conv4_block1_1_relu[0][0]        \n",
            "__________________________________________________________________________________________________\n",
            "conv4_block1_2_bn (BatchNormali (None, 14, 14, 256)  1024        conv4_block1_2_conv[0][0]        \n",
            "__________________________________________________________________________________________________\n",
            "conv4_block1_2_relu (Activation (None, 14, 14, 256)  0           conv4_block1_2_bn[0][0]          \n",
            "__________________________________________________________________________________________________\n",
            "conv4_block1_0_conv (Conv2D)    (None, 14, 14, 1024) 525312      conv3_block4_out[0][0]           \n",
            "__________________________________________________________________________________________________\n",
            "conv4_block1_3_conv (Conv2D)    (None, 14, 14, 1024) 263168      conv4_block1_2_relu[0][0]        \n",
            "__________________________________________________________________________________________________\n",
            "conv4_block1_0_bn (BatchNormali (None, 14, 14, 1024) 4096        conv4_block1_0_conv[0][0]        \n",
            "__________________________________________________________________________________________________\n",
            "conv4_block1_3_bn (BatchNormali (None, 14, 14, 1024) 4096        conv4_block1_3_conv[0][0]        \n",
            "__________________________________________________________________________________________________\n",
            "conv4_block1_add (Add)          (None, 14, 14, 1024) 0           conv4_block1_0_bn[0][0]          \n",
            "                                                                 conv4_block1_3_bn[0][0]          \n",
            "__________________________________________________________________________________________________\n",
            "conv4_block1_out (Activation)   (None, 14, 14, 1024) 0           conv4_block1_add[0][0]           \n",
            "__________________________________________________________________________________________________\n",
            "conv4_block2_1_conv (Conv2D)    (None, 14, 14, 256)  262400      conv4_block1_out[0][0]           \n",
            "__________________________________________________________________________________________________\n",
            "conv4_block2_1_bn (BatchNormali (None, 14, 14, 256)  1024        conv4_block2_1_conv[0][0]        \n",
            "__________________________________________________________________________________________________\n",
            "conv4_block2_1_relu (Activation (None, 14, 14, 256)  0           conv4_block2_1_bn[0][0]          \n",
            "__________________________________________________________________________________________________\n",
            "conv4_block2_2_conv (Conv2D)    (None, 14, 14, 256)  590080      conv4_block2_1_relu[0][0]        \n",
            "__________________________________________________________________________________________________\n",
            "conv4_block2_2_bn (BatchNormali (None, 14, 14, 256)  1024        conv4_block2_2_conv[0][0]        \n",
            "__________________________________________________________________________________________________\n",
            "conv4_block2_2_relu (Activation (None, 14, 14, 256)  0           conv4_block2_2_bn[0][0]          \n",
            "__________________________________________________________________________________________________\n",
            "conv4_block2_3_conv (Conv2D)    (None, 14, 14, 1024) 263168      conv4_block2_2_relu[0][0]        \n",
            "__________________________________________________________________________________________________\n",
            "conv4_block2_3_bn (BatchNormali (None, 14, 14, 1024) 4096        conv4_block2_3_conv[0][0]        \n",
            "__________________________________________________________________________________________________\n",
            "conv4_block2_add (Add)          (None, 14, 14, 1024) 0           conv4_block1_out[0][0]           \n",
            "                                                                 conv4_block2_3_bn[0][0]          \n",
            "__________________________________________________________________________________________________\n",
            "conv4_block2_out (Activation)   (None, 14, 14, 1024) 0           conv4_block2_add[0][0]           \n",
            "__________________________________________________________________________________________________\n",
            "conv4_block3_1_conv (Conv2D)    (None, 14, 14, 256)  262400      conv4_block2_out[0][0]           \n",
            "__________________________________________________________________________________________________\n",
            "conv4_block3_1_bn (BatchNormali (None, 14, 14, 256)  1024        conv4_block3_1_conv[0][0]        \n",
            "__________________________________________________________________________________________________\n",
            "conv4_block3_1_relu (Activation (None, 14, 14, 256)  0           conv4_block3_1_bn[0][0]          \n",
            "__________________________________________________________________________________________________\n",
            "conv4_block3_2_conv (Conv2D)    (None, 14, 14, 256)  590080      conv4_block3_1_relu[0][0]        \n",
            "__________________________________________________________________________________________________\n",
            "conv4_block3_2_bn (BatchNormali (None, 14, 14, 256)  1024        conv4_block3_2_conv[0][0]        \n",
            "__________________________________________________________________________________________________\n",
            "conv4_block3_2_relu (Activation (None, 14, 14, 256)  0           conv4_block3_2_bn[0][0]          \n",
            "__________________________________________________________________________________________________\n",
            "conv4_block3_3_conv (Conv2D)    (None, 14, 14, 1024) 263168      conv4_block3_2_relu[0][0]        \n",
            "__________________________________________________________________________________________________\n",
            "conv4_block3_3_bn (BatchNormali (None, 14, 14, 1024) 4096        conv4_block3_3_conv[0][0]        \n",
            "__________________________________________________________________________________________________\n",
            "conv4_block3_add (Add)          (None, 14, 14, 1024) 0           conv4_block2_out[0][0]           \n",
            "                                                                 conv4_block3_3_bn[0][0]          \n",
            "__________________________________________________________________________________________________\n",
            "conv4_block3_out (Activation)   (None, 14, 14, 1024) 0           conv4_block3_add[0][0]           \n",
            "__________________________________________________________________________________________________\n",
            "conv4_block4_1_conv (Conv2D)    (None, 14, 14, 256)  262400      conv4_block3_out[0][0]           \n",
            "__________________________________________________________________________________________________\n",
            "conv4_block4_1_bn (BatchNormali (None, 14, 14, 256)  1024        conv4_block4_1_conv[0][0]        \n",
            "__________________________________________________________________________________________________\n",
            "conv4_block4_1_relu (Activation (None, 14, 14, 256)  0           conv4_block4_1_bn[0][0]          \n",
            "__________________________________________________________________________________________________\n",
            "conv4_block4_2_conv (Conv2D)    (None, 14, 14, 256)  590080      conv4_block4_1_relu[0][0]        \n",
            "__________________________________________________________________________________________________\n",
            "conv4_block4_2_bn (BatchNormali (None, 14, 14, 256)  1024        conv4_block4_2_conv[0][0]        \n",
            "__________________________________________________________________________________________________\n",
            "conv4_block4_2_relu (Activation (None, 14, 14, 256)  0           conv4_block4_2_bn[0][0]          \n",
            "__________________________________________________________________________________________________\n",
            "conv4_block4_3_conv (Conv2D)    (None, 14, 14, 1024) 263168      conv4_block4_2_relu[0][0]        \n",
            "__________________________________________________________________________________________________\n",
            "conv4_block4_3_bn (BatchNormali (None, 14, 14, 1024) 4096        conv4_block4_3_conv[0][0]        \n",
            "__________________________________________________________________________________________________\n",
            "conv4_block4_add (Add)          (None, 14, 14, 1024) 0           conv4_block3_out[0][0]           \n",
            "                                                                 conv4_block4_3_bn[0][0]          \n",
            "__________________________________________________________________________________________________\n",
            "conv4_block4_out (Activation)   (None, 14, 14, 1024) 0           conv4_block4_add[0][0]           \n",
            "__________________________________________________________________________________________________\n",
            "conv4_block5_1_conv (Conv2D)    (None, 14, 14, 256)  262400      conv4_block4_out[0][0]           \n",
            "__________________________________________________________________________________________________\n",
            "conv4_block5_1_bn (BatchNormali (None, 14, 14, 256)  1024        conv4_block5_1_conv[0][0]        \n",
            "__________________________________________________________________________________________________\n",
            "conv4_block5_1_relu (Activation (None, 14, 14, 256)  0           conv4_block5_1_bn[0][0]          \n",
            "__________________________________________________________________________________________________\n",
            "conv4_block5_2_conv (Conv2D)    (None, 14, 14, 256)  590080      conv4_block5_1_relu[0][0]        \n",
            "__________________________________________________________________________________________________\n",
            "conv4_block5_2_bn (BatchNormali (None, 14, 14, 256)  1024        conv4_block5_2_conv[0][0]        \n",
            "__________________________________________________________________________________________________\n",
            "conv4_block5_2_relu (Activation (None, 14, 14, 256)  0           conv4_block5_2_bn[0][0]          \n",
            "__________________________________________________________________________________________________\n",
            "conv4_block5_3_conv (Conv2D)    (None, 14, 14, 1024) 263168      conv4_block5_2_relu[0][0]        \n",
            "__________________________________________________________________________________________________\n",
            "conv4_block5_3_bn (BatchNormali (None, 14, 14, 1024) 4096        conv4_block5_3_conv[0][0]        \n",
            "__________________________________________________________________________________________________\n",
            "conv4_block5_add (Add)          (None, 14, 14, 1024) 0           conv4_block4_out[0][0]           \n",
            "                                                                 conv4_block5_3_bn[0][0]          \n",
            "__________________________________________________________________________________________________\n",
            "conv4_block5_out (Activation)   (None, 14, 14, 1024) 0           conv4_block5_add[0][0]           \n",
            "__________________________________________________________________________________________________\n",
            "conv4_block6_1_conv (Conv2D)    (None, 14, 14, 256)  262400      conv4_block5_out[0][0]           \n",
            "__________________________________________________________________________________________________\n",
            "conv4_block6_1_bn (BatchNormali (None, 14, 14, 256)  1024        conv4_block6_1_conv[0][0]        \n",
            "__________________________________________________________________________________________________\n",
            "conv4_block6_1_relu (Activation (None, 14, 14, 256)  0           conv4_block6_1_bn[0][0]          \n",
            "__________________________________________________________________________________________________\n",
            "conv4_block6_2_conv (Conv2D)    (None, 14, 14, 256)  590080      conv4_block6_1_relu[0][0]        \n",
            "__________________________________________________________________________________________________\n",
            "conv4_block6_2_bn (BatchNormali (None, 14, 14, 256)  1024        conv4_block6_2_conv[0][0]        \n",
            "__________________________________________________________________________________________________\n",
            "conv4_block6_2_relu (Activation (None, 14, 14, 256)  0           conv4_block6_2_bn[0][0]          \n",
            "__________________________________________________________________________________________________\n",
            "conv4_block6_3_conv (Conv2D)    (None, 14, 14, 1024) 263168      conv4_block6_2_relu[0][0]        \n",
            "__________________________________________________________________________________________________\n",
            "conv4_block6_3_bn (BatchNormali (None, 14, 14, 1024) 4096        conv4_block6_3_conv[0][0]        \n",
            "__________________________________________________________________________________________________\n",
            "conv4_block6_add (Add)          (None, 14, 14, 1024) 0           conv4_block5_out[0][0]           \n",
            "                                                                 conv4_block6_3_bn[0][0]          \n",
            "__________________________________________________________________________________________________\n",
            "conv4_block6_out (Activation)   (None, 14, 14, 1024) 0           conv4_block6_add[0][0]           \n",
            "__________________________________________________________________________________________________\n",
            "conv4_block7_1_conv (Conv2D)    (None, 14, 14, 256)  262400      conv4_block6_out[0][0]           \n",
            "__________________________________________________________________________________________________\n",
            "conv4_block7_1_bn (BatchNormali (None, 14, 14, 256)  1024        conv4_block7_1_conv[0][0]        \n",
            "__________________________________________________________________________________________________\n",
            "conv4_block7_1_relu (Activation (None, 14, 14, 256)  0           conv4_block7_1_bn[0][0]          \n",
            "__________________________________________________________________________________________________\n",
            "conv4_block7_2_conv (Conv2D)    (None, 14, 14, 256)  590080      conv4_block7_1_relu[0][0]        \n",
            "__________________________________________________________________________________________________\n",
            "conv4_block7_2_bn (BatchNormali (None, 14, 14, 256)  1024        conv4_block7_2_conv[0][0]        \n",
            "__________________________________________________________________________________________________\n",
            "conv4_block7_2_relu (Activation (None, 14, 14, 256)  0           conv4_block7_2_bn[0][0]          \n",
            "__________________________________________________________________________________________________\n",
            "conv4_block7_3_conv (Conv2D)    (None, 14, 14, 1024) 263168      conv4_block7_2_relu[0][0]        \n",
            "__________________________________________________________________________________________________\n",
            "conv4_block7_3_bn (BatchNormali (None, 14, 14, 1024) 4096        conv4_block7_3_conv[0][0]        \n",
            "__________________________________________________________________________________________________\n",
            "conv4_block7_add (Add)          (None, 14, 14, 1024) 0           conv4_block6_out[0][0]           \n",
            "                                                                 conv4_block7_3_bn[0][0]          \n",
            "__________________________________________________________________________________________________\n",
            "conv4_block7_out (Activation)   (None, 14, 14, 1024) 0           conv4_block7_add[0][0]           \n",
            "__________________________________________________________________________________________________\n",
            "conv4_block8_1_conv (Conv2D)    (None, 14, 14, 256)  262400      conv4_block7_out[0][0]           \n",
            "__________________________________________________________________________________________________\n",
            "conv4_block8_1_bn (BatchNormali (None, 14, 14, 256)  1024        conv4_block8_1_conv[0][0]        \n",
            "__________________________________________________________________________________________________\n",
            "conv4_block8_1_relu (Activation (None, 14, 14, 256)  0           conv4_block8_1_bn[0][0]          \n",
            "__________________________________________________________________________________________________\n",
            "conv4_block8_2_conv (Conv2D)    (None, 14, 14, 256)  590080      conv4_block8_1_relu[0][0]        \n",
            "__________________________________________________________________________________________________\n",
            "conv4_block8_2_bn (BatchNormali (None, 14, 14, 256)  1024        conv4_block8_2_conv[0][0]        \n",
            "__________________________________________________________________________________________________\n",
            "conv4_block8_2_relu (Activation (None, 14, 14, 256)  0           conv4_block8_2_bn[0][0]          \n",
            "__________________________________________________________________________________________________\n",
            "conv4_block8_3_conv (Conv2D)    (None, 14, 14, 1024) 263168      conv4_block8_2_relu[0][0]        \n",
            "__________________________________________________________________________________________________\n",
            "conv4_block8_3_bn (BatchNormali (None, 14, 14, 1024) 4096        conv4_block8_3_conv[0][0]        \n",
            "__________________________________________________________________________________________________\n",
            "conv4_block8_add (Add)          (None, 14, 14, 1024) 0           conv4_block7_out[0][0]           \n",
            "                                                                 conv4_block8_3_bn[0][0]          \n",
            "__________________________________________________________________________________________________\n",
            "conv4_block8_out (Activation)   (None, 14, 14, 1024) 0           conv4_block8_add[0][0]           \n",
            "__________________________________________________________________________________________________\n",
            "conv4_block9_1_conv (Conv2D)    (None, 14, 14, 256)  262400      conv4_block8_out[0][0]           \n",
            "__________________________________________________________________________________________________\n",
            "conv4_block9_1_bn (BatchNormali (None, 14, 14, 256)  1024        conv4_block9_1_conv[0][0]        \n",
            "__________________________________________________________________________________________________\n",
            "conv4_block9_1_relu (Activation (None, 14, 14, 256)  0           conv4_block9_1_bn[0][0]          \n",
            "__________________________________________________________________________________________________\n",
            "conv4_block9_2_conv (Conv2D)    (None, 14, 14, 256)  590080      conv4_block9_1_relu[0][0]        \n",
            "__________________________________________________________________________________________________\n",
            "conv4_block9_2_bn (BatchNormali (None, 14, 14, 256)  1024        conv4_block9_2_conv[0][0]        \n",
            "__________________________________________________________________________________________________\n",
            "conv4_block9_2_relu (Activation (None, 14, 14, 256)  0           conv4_block9_2_bn[0][0]          \n",
            "__________________________________________________________________________________________________\n",
            "conv4_block9_3_conv (Conv2D)    (None, 14, 14, 1024) 263168      conv4_block9_2_relu[0][0]        \n",
            "__________________________________________________________________________________________________\n",
            "conv4_block9_3_bn (BatchNormali (None, 14, 14, 1024) 4096        conv4_block9_3_conv[0][0]        \n",
            "__________________________________________________________________________________________________\n",
            "conv4_block9_add (Add)          (None, 14, 14, 1024) 0           conv4_block8_out[0][0]           \n",
            "                                                                 conv4_block9_3_bn[0][0]          \n",
            "__________________________________________________________________________________________________\n",
            "conv4_block9_out (Activation)   (None, 14, 14, 1024) 0           conv4_block9_add[0][0]           \n",
            "__________________________________________________________________________________________________\n",
            "conv4_block10_1_conv (Conv2D)   (None, 14, 14, 256)  262400      conv4_block9_out[0][0]           \n",
            "__________________________________________________________________________________________________\n",
            "conv4_block10_1_bn (BatchNormal (None, 14, 14, 256)  1024        conv4_block10_1_conv[0][0]       \n",
            "__________________________________________________________________________________________________\n",
            "conv4_block10_1_relu (Activatio (None, 14, 14, 256)  0           conv4_block10_1_bn[0][0]         \n",
            "__________________________________________________________________________________________________\n",
            "conv4_block10_2_conv (Conv2D)   (None, 14, 14, 256)  590080      conv4_block10_1_relu[0][0]       \n",
            "__________________________________________________________________________________________________\n",
            "conv4_block10_2_bn (BatchNormal (None, 14, 14, 256)  1024        conv4_block10_2_conv[0][0]       \n",
            "__________________________________________________________________________________________________\n",
            "conv4_block10_2_relu (Activatio (None, 14, 14, 256)  0           conv4_block10_2_bn[0][0]         \n",
            "__________________________________________________________________________________________________\n",
            "conv4_block10_3_conv (Conv2D)   (None, 14, 14, 1024) 263168      conv4_block10_2_relu[0][0]       \n",
            "__________________________________________________________________________________________________\n",
            "conv4_block10_3_bn (BatchNormal (None, 14, 14, 1024) 4096        conv4_block10_3_conv[0][0]       \n",
            "__________________________________________________________________________________________________\n",
            "conv4_block10_add (Add)         (None, 14, 14, 1024) 0           conv4_block9_out[0][0]           \n",
            "                                                                 conv4_block10_3_bn[0][0]         \n",
            "__________________________________________________________________________________________________\n",
            "conv4_block10_out (Activation)  (None, 14, 14, 1024) 0           conv4_block10_add[0][0]          \n",
            "__________________________________________________________________________________________________\n",
            "conv4_block11_1_conv (Conv2D)   (None, 14, 14, 256)  262400      conv4_block10_out[0][0]          \n",
            "__________________________________________________________________________________________________\n",
            "conv4_block11_1_bn (BatchNormal (None, 14, 14, 256)  1024        conv4_block11_1_conv[0][0]       \n",
            "__________________________________________________________________________________________________\n",
            "conv4_block11_1_relu (Activatio (None, 14, 14, 256)  0           conv4_block11_1_bn[0][0]         \n",
            "__________________________________________________________________________________________________\n",
            "conv4_block11_2_conv (Conv2D)   (None, 14, 14, 256)  590080      conv4_block11_1_relu[0][0]       \n",
            "__________________________________________________________________________________________________\n",
            "conv4_block11_2_bn (BatchNormal (None, 14, 14, 256)  1024        conv4_block11_2_conv[0][0]       \n",
            "__________________________________________________________________________________________________\n",
            "conv4_block11_2_relu (Activatio (None, 14, 14, 256)  0           conv4_block11_2_bn[0][0]         \n",
            "__________________________________________________________________________________________________\n",
            "conv4_block11_3_conv (Conv2D)   (None, 14, 14, 1024) 263168      conv4_block11_2_relu[0][0]       \n",
            "__________________________________________________________________________________________________\n",
            "conv4_block11_3_bn (BatchNormal (None, 14, 14, 1024) 4096        conv4_block11_3_conv[0][0]       \n",
            "__________________________________________________________________________________________________\n",
            "conv4_block11_add (Add)         (None, 14, 14, 1024) 0           conv4_block10_out[0][0]          \n",
            "                                                                 conv4_block11_3_bn[0][0]         \n",
            "__________________________________________________________________________________________________\n",
            "conv4_block11_out (Activation)  (None, 14, 14, 1024) 0           conv4_block11_add[0][0]          \n",
            "__________________________________________________________________________________________________\n",
            "conv4_block12_1_conv (Conv2D)   (None, 14, 14, 256)  262400      conv4_block11_out[0][0]          \n",
            "__________________________________________________________________________________________________\n",
            "conv4_block12_1_bn (BatchNormal (None, 14, 14, 256)  1024        conv4_block12_1_conv[0][0]       \n",
            "__________________________________________________________________________________________________\n",
            "conv4_block12_1_relu (Activatio (None, 14, 14, 256)  0           conv4_block12_1_bn[0][0]         \n",
            "__________________________________________________________________________________________________\n",
            "conv4_block12_2_conv (Conv2D)   (None, 14, 14, 256)  590080      conv4_block12_1_relu[0][0]       \n",
            "__________________________________________________________________________________________________\n",
            "conv4_block12_2_bn (BatchNormal (None, 14, 14, 256)  1024        conv4_block12_2_conv[0][0]       \n",
            "__________________________________________________________________________________________________\n",
            "conv4_block12_2_relu (Activatio (None, 14, 14, 256)  0           conv4_block12_2_bn[0][0]         \n",
            "__________________________________________________________________________________________________\n",
            "conv4_block12_3_conv (Conv2D)   (None, 14, 14, 1024) 263168      conv4_block12_2_relu[0][0]       \n",
            "__________________________________________________________________________________________________\n",
            "conv4_block12_3_bn (BatchNormal (None, 14, 14, 1024) 4096        conv4_block12_3_conv[0][0]       \n",
            "__________________________________________________________________________________________________\n",
            "conv4_block12_add (Add)         (None, 14, 14, 1024) 0           conv4_block11_out[0][0]          \n",
            "                                                                 conv4_block12_3_bn[0][0]         \n",
            "__________________________________________________________________________________________________\n",
            "conv4_block12_out (Activation)  (None, 14, 14, 1024) 0           conv4_block12_add[0][0]          \n",
            "__________________________________________________________________________________________________\n",
            "conv4_block13_1_conv (Conv2D)   (None, 14, 14, 256)  262400      conv4_block12_out[0][0]          \n",
            "__________________________________________________________________________________________________\n",
            "conv4_block13_1_bn (BatchNormal (None, 14, 14, 256)  1024        conv4_block13_1_conv[0][0]       \n",
            "__________________________________________________________________________________________________\n",
            "conv4_block13_1_relu (Activatio (None, 14, 14, 256)  0           conv4_block13_1_bn[0][0]         \n",
            "__________________________________________________________________________________________________\n",
            "conv4_block13_2_conv (Conv2D)   (None, 14, 14, 256)  590080      conv4_block13_1_relu[0][0]       \n",
            "__________________________________________________________________________________________________\n",
            "conv4_block13_2_bn (BatchNormal (None, 14, 14, 256)  1024        conv4_block13_2_conv[0][0]       \n",
            "__________________________________________________________________________________________________\n",
            "conv4_block13_2_relu (Activatio (None, 14, 14, 256)  0           conv4_block13_2_bn[0][0]         \n",
            "__________________________________________________________________________________________________\n",
            "conv4_block13_3_conv (Conv2D)   (None, 14, 14, 1024) 263168      conv4_block13_2_relu[0][0]       \n",
            "__________________________________________________________________________________________________\n",
            "conv4_block13_3_bn (BatchNormal (None, 14, 14, 1024) 4096        conv4_block13_3_conv[0][0]       \n",
            "__________________________________________________________________________________________________\n",
            "conv4_block13_add (Add)         (None, 14, 14, 1024) 0           conv4_block12_out[0][0]          \n",
            "                                                                 conv4_block13_3_bn[0][0]         \n",
            "__________________________________________________________________________________________________\n",
            "conv4_block13_out (Activation)  (None, 14, 14, 1024) 0           conv4_block13_add[0][0]          \n",
            "__________________________________________________________________________________________________\n",
            "conv4_block14_1_conv (Conv2D)   (None, 14, 14, 256)  262400      conv4_block13_out[0][0]          \n",
            "__________________________________________________________________________________________________\n",
            "conv4_block14_1_bn (BatchNormal (None, 14, 14, 256)  1024        conv4_block14_1_conv[0][0]       \n",
            "__________________________________________________________________________________________________\n",
            "conv4_block14_1_relu (Activatio (None, 14, 14, 256)  0           conv4_block14_1_bn[0][0]         \n",
            "__________________________________________________________________________________________________\n",
            "conv4_block14_2_conv (Conv2D)   (None, 14, 14, 256)  590080      conv4_block14_1_relu[0][0]       \n",
            "__________________________________________________________________________________________________\n",
            "conv4_block14_2_bn (BatchNormal (None, 14, 14, 256)  1024        conv4_block14_2_conv[0][0]       \n",
            "__________________________________________________________________________________________________\n",
            "conv4_block14_2_relu (Activatio (None, 14, 14, 256)  0           conv4_block14_2_bn[0][0]         \n",
            "__________________________________________________________________________________________________\n",
            "conv4_block14_3_conv (Conv2D)   (None, 14, 14, 1024) 263168      conv4_block14_2_relu[0][0]       \n",
            "__________________________________________________________________________________________________\n",
            "conv4_block14_3_bn (BatchNormal (None, 14, 14, 1024) 4096        conv4_block14_3_conv[0][0]       \n",
            "__________________________________________________________________________________________________\n",
            "conv4_block14_add (Add)         (None, 14, 14, 1024) 0           conv4_block13_out[0][0]          \n",
            "                                                                 conv4_block14_3_bn[0][0]         \n",
            "__________________________________________________________________________________________________\n",
            "conv4_block14_out (Activation)  (None, 14, 14, 1024) 0           conv4_block14_add[0][0]          \n",
            "__________________________________________________________________________________________________\n",
            "conv4_block15_1_conv (Conv2D)   (None, 14, 14, 256)  262400      conv4_block14_out[0][0]          \n",
            "__________________________________________________________________________________________________\n",
            "conv4_block15_1_bn (BatchNormal (None, 14, 14, 256)  1024        conv4_block15_1_conv[0][0]       \n",
            "__________________________________________________________________________________________________\n",
            "conv4_block15_1_relu (Activatio (None, 14, 14, 256)  0           conv4_block15_1_bn[0][0]         \n",
            "__________________________________________________________________________________________________\n",
            "conv4_block15_2_conv (Conv2D)   (None, 14, 14, 256)  590080      conv4_block15_1_relu[0][0]       \n",
            "__________________________________________________________________________________________________\n",
            "conv4_block15_2_bn (BatchNormal (None, 14, 14, 256)  1024        conv4_block15_2_conv[0][0]       \n",
            "__________________________________________________________________________________________________\n",
            "conv4_block15_2_relu (Activatio (None, 14, 14, 256)  0           conv4_block15_2_bn[0][0]         \n",
            "__________________________________________________________________________________________________\n",
            "conv4_block15_3_conv (Conv2D)   (None, 14, 14, 1024) 263168      conv4_block15_2_relu[0][0]       \n",
            "__________________________________________________________________________________________________\n",
            "conv4_block15_3_bn (BatchNormal (None, 14, 14, 1024) 4096        conv4_block15_3_conv[0][0]       \n",
            "__________________________________________________________________________________________________\n",
            "conv4_block15_add (Add)         (None, 14, 14, 1024) 0           conv4_block14_out[0][0]          \n",
            "                                                                 conv4_block15_3_bn[0][0]         \n",
            "__________________________________________________________________________________________________\n",
            "conv4_block15_out (Activation)  (None, 14, 14, 1024) 0           conv4_block15_add[0][0]          \n",
            "__________________________________________________________________________________________________\n",
            "conv4_block16_1_conv (Conv2D)   (None, 14, 14, 256)  262400      conv4_block15_out[0][0]          \n",
            "__________________________________________________________________________________________________\n",
            "conv4_block16_1_bn (BatchNormal (None, 14, 14, 256)  1024        conv4_block16_1_conv[0][0]       \n",
            "__________________________________________________________________________________________________\n",
            "conv4_block16_1_relu (Activatio (None, 14, 14, 256)  0           conv4_block16_1_bn[0][0]         \n",
            "__________________________________________________________________________________________________\n",
            "conv4_block16_2_conv (Conv2D)   (None, 14, 14, 256)  590080      conv4_block16_1_relu[0][0]       \n",
            "__________________________________________________________________________________________________\n",
            "conv4_block16_2_bn (BatchNormal (None, 14, 14, 256)  1024        conv4_block16_2_conv[0][0]       \n",
            "__________________________________________________________________________________________________\n",
            "conv4_block16_2_relu (Activatio (None, 14, 14, 256)  0           conv4_block16_2_bn[0][0]         \n",
            "__________________________________________________________________________________________________\n",
            "conv4_block16_3_conv (Conv2D)   (None, 14, 14, 1024) 263168      conv4_block16_2_relu[0][0]       \n",
            "__________________________________________________________________________________________________\n",
            "conv4_block16_3_bn (BatchNormal (None, 14, 14, 1024) 4096        conv4_block16_3_conv[0][0]       \n",
            "__________________________________________________________________________________________________\n",
            "conv4_block16_add (Add)         (None, 14, 14, 1024) 0           conv4_block15_out[0][0]          \n",
            "                                                                 conv4_block16_3_bn[0][0]         \n",
            "__________________________________________________________________________________________________\n",
            "conv4_block16_out (Activation)  (None, 14, 14, 1024) 0           conv4_block16_add[0][0]          \n",
            "__________________________________________________________________________________________________\n",
            "conv4_block17_1_conv (Conv2D)   (None, 14, 14, 256)  262400      conv4_block16_out[0][0]          \n",
            "__________________________________________________________________________________________________\n",
            "conv4_block17_1_bn (BatchNormal (None, 14, 14, 256)  1024        conv4_block17_1_conv[0][0]       \n",
            "__________________________________________________________________________________________________\n",
            "conv4_block17_1_relu (Activatio (None, 14, 14, 256)  0           conv4_block17_1_bn[0][0]         \n",
            "__________________________________________________________________________________________________\n",
            "conv4_block17_2_conv (Conv2D)   (None, 14, 14, 256)  590080      conv4_block17_1_relu[0][0]       \n",
            "__________________________________________________________________________________________________\n",
            "conv4_block17_2_bn (BatchNormal (None, 14, 14, 256)  1024        conv4_block17_2_conv[0][0]       \n",
            "__________________________________________________________________________________________________\n",
            "conv4_block17_2_relu (Activatio (None, 14, 14, 256)  0           conv4_block17_2_bn[0][0]         \n",
            "__________________________________________________________________________________________________\n",
            "conv4_block17_3_conv (Conv2D)   (None, 14, 14, 1024) 263168      conv4_block17_2_relu[0][0]       \n",
            "__________________________________________________________________________________________________\n",
            "conv4_block17_3_bn (BatchNormal (None, 14, 14, 1024) 4096        conv4_block17_3_conv[0][0]       \n",
            "__________________________________________________________________________________________________\n",
            "conv4_block17_add (Add)         (None, 14, 14, 1024) 0           conv4_block16_out[0][0]          \n",
            "                                                                 conv4_block17_3_bn[0][0]         \n",
            "__________________________________________________________________________________________________\n",
            "conv4_block17_out (Activation)  (None, 14, 14, 1024) 0           conv4_block17_add[0][0]          \n",
            "__________________________________________________________________________________________________\n",
            "conv4_block18_1_conv (Conv2D)   (None, 14, 14, 256)  262400      conv4_block17_out[0][0]          \n",
            "__________________________________________________________________________________________________\n",
            "conv4_block18_1_bn (BatchNormal (None, 14, 14, 256)  1024        conv4_block18_1_conv[0][0]       \n",
            "__________________________________________________________________________________________________\n",
            "conv4_block18_1_relu (Activatio (None, 14, 14, 256)  0           conv4_block18_1_bn[0][0]         \n",
            "__________________________________________________________________________________________________\n",
            "conv4_block18_2_conv (Conv2D)   (None, 14, 14, 256)  590080      conv4_block18_1_relu[0][0]       \n",
            "__________________________________________________________________________________________________\n",
            "conv4_block18_2_bn (BatchNormal (None, 14, 14, 256)  1024        conv4_block18_2_conv[0][0]       \n",
            "__________________________________________________________________________________________________\n",
            "conv4_block18_2_relu (Activatio (None, 14, 14, 256)  0           conv4_block18_2_bn[0][0]         \n",
            "__________________________________________________________________________________________________\n",
            "conv4_block18_3_conv (Conv2D)   (None, 14, 14, 1024) 263168      conv4_block18_2_relu[0][0]       \n",
            "__________________________________________________________________________________________________\n",
            "conv4_block18_3_bn (BatchNormal (None, 14, 14, 1024) 4096        conv4_block18_3_conv[0][0]       \n",
            "__________________________________________________________________________________________________\n",
            "conv4_block18_add (Add)         (None, 14, 14, 1024) 0           conv4_block17_out[0][0]          \n",
            "                                                                 conv4_block18_3_bn[0][0]         \n",
            "__________________________________________________________________________________________________\n",
            "conv4_block18_out (Activation)  (None, 14, 14, 1024) 0           conv4_block18_add[0][0]          \n",
            "__________________________________________________________________________________________________\n",
            "conv4_block19_1_conv (Conv2D)   (None, 14, 14, 256)  262400      conv4_block18_out[0][0]          \n",
            "__________________________________________________________________________________________________\n",
            "conv4_block19_1_bn (BatchNormal (None, 14, 14, 256)  1024        conv4_block19_1_conv[0][0]       \n",
            "__________________________________________________________________________________________________\n",
            "conv4_block19_1_relu (Activatio (None, 14, 14, 256)  0           conv4_block19_1_bn[0][0]         \n",
            "__________________________________________________________________________________________________\n",
            "conv4_block19_2_conv (Conv2D)   (None, 14, 14, 256)  590080      conv4_block19_1_relu[0][0]       \n",
            "__________________________________________________________________________________________________\n",
            "conv4_block19_2_bn (BatchNormal (None, 14, 14, 256)  1024        conv4_block19_2_conv[0][0]       \n",
            "__________________________________________________________________________________________________\n",
            "conv4_block19_2_relu (Activatio (None, 14, 14, 256)  0           conv4_block19_2_bn[0][0]         \n",
            "__________________________________________________________________________________________________\n",
            "conv4_block19_3_conv (Conv2D)   (None, 14, 14, 1024) 263168      conv4_block19_2_relu[0][0]       \n",
            "__________________________________________________________________________________________________\n",
            "conv4_block19_3_bn (BatchNormal (None, 14, 14, 1024) 4096        conv4_block19_3_conv[0][0]       \n",
            "__________________________________________________________________________________________________\n",
            "conv4_block19_add (Add)         (None, 14, 14, 1024) 0           conv4_block18_out[0][0]          \n",
            "                                                                 conv4_block19_3_bn[0][0]         \n",
            "__________________________________________________________________________________________________\n",
            "conv4_block19_out (Activation)  (None, 14, 14, 1024) 0           conv4_block19_add[0][0]          \n",
            "__________________________________________________________________________________________________\n",
            "conv4_block20_1_conv (Conv2D)   (None, 14, 14, 256)  262400      conv4_block19_out[0][0]          \n",
            "__________________________________________________________________________________________________\n",
            "conv4_block20_1_bn (BatchNormal (None, 14, 14, 256)  1024        conv4_block20_1_conv[0][0]       \n",
            "__________________________________________________________________________________________________\n",
            "conv4_block20_1_relu (Activatio (None, 14, 14, 256)  0           conv4_block20_1_bn[0][0]         \n",
            "__________________________________________________________________________________________________\n",
            "conv4_block20_2_conv (Conv2D)   (None, 14, 14, 256)  590080      conv4_block20_1_relu[0][0]       \n",
            "__________________________________________________________________________________________________\n",
            "conv4_block20_2_bn (BatchNormal (None, 14, 14, 256)  1024        conv4_block20_2_conv[0][0]       \n",
            "__________________________________________________________________________________________________\n",
            "conv4_block20_2_relu (Activatio (None, 14, 14, 256)  0           conv4_block20_2_bn[0][0]         \n",
            "__________________________________________________________________________________________________\n",
            "conv4_block20_3_conv (Conv2D)   (None, 14, 14, 1024) 263168      conv4_block20_2_relu[0][0]       \n",
            "__________________________________________________________________________________________________\n",
            "conv4_block20_3_bn (BatchNormal (None, 14, 14, 1024) 4096        conv4_block20_3_conv[0][0]       \n",
            "__________________________________________________________________________________________________\n",
            "conv4_block20_add (Add)         (None, 14, 14, 1024) 0           conv4_block19_out[0][0]          \n",
            "                                                                 conv4_block20_3_bn[0][0]         \n",
            "__________________________________________________________________________________________________\n",
            "conv4_block20_out (Activation)  (None, 14, 14, 1024) 0           conv4_block20_add[0][0]          \n",
            "__________________________________________________________________________________________________\n",
            "conv4_block21_1_conv (Conv2D)   (None, 14, 14, 256)  262400      conv4_block20_out[0][0]          \n",
            "__________________________________________________________________________________________________\n",
            "conv4_block21_1_bn (BatchNormal (None, 14, 14, 256)  1024        conv4_block21_1_conv[0][0]       \n",
            "__________________________________________________________________________________________________\n",
            "conv4_block21_1_relu (Activatio (None, 14, 14, 256)  0           conv4_block21_1_bn[0][0]         \n",
            "__________________________________________________________________________________________________\n",
            "conv4_block21_2_conv (Conv2D)   (None, 14, 14, 256)  590080      conv4_block21_1_relu[0][0]       \n",
            "__________________________________________________________________________________________________\n",
            "conv4_block21_2_bn (BatchNormal (None, 14, 14, 256)  1024        conv4_block21_2_conv[0][0]       \n",
            "__________________________________________________________________________________________________\n",
            "conv4_block21_2_relu (Activatio (None, 14, 14, 256)  0           conv4_block21_2_bn[0][0]         \n",
            "__________________________________________________________________________________________________\n",
            "conv4_block21_3_conv (Conv2D)   (None, 14, 14, 1024) 263168      conv4_block21_2_relu[0][0]       \n",
            "__________________________________________________________________________________________________\n",
            "conv4_block21_3_bn (BatchNormal (None, 14, 14, 1024) 4096        conv4_block21_3_conv[0][0]       \n",
            "__________________________________________________________________________________________________\n",
            "conv4_block21_add (Add)         (None, 14, 14, 1024) 0           conv4_block20_out[0][0]          \n",
            "                                                                 conv4_block21_3_bn[0][0]         \n",
            "__________________________________________________________________________________________________\n",
            "conv4_block21_out (Activation)  (None, 14, 14, 1024) 0           conv4_block21_add[0][0]          \n",
            "__________________________________________________________________________________________________\n",
            "conv4_block22_1_conv (Conv2D)   (None, 14, 14, 256)  262400      conv4_block21_out[0][0]          \n",
            "__________________________________________________________________________________________________\n",
            "conv4_block22_1_bn (BatchNormal (None, 14, 14, 256)  1024        conv4_block22_1_conv[0][0]       \n",
            "__________________________________________________________________________________________________\n",
            "conv4_block22_1_relu (Activatio (None, 14, 14, 256)  0           conv4_block22_1_bn[0][0]         \n",
            "__________________________________________________________________________________________________\n",
            "conv4_block22_2_conv (Conv2D)   (None, 14, 14, 256)  590080      conv4_block22_1_relu[0][0]       \n",
            "__________________________________________________________________________________________________\n",
            "conv4_block22_2_bn (BatchNormal (None, 14, 14, 256)  1024        conv4_block22_2_conv[0][0]       \n",
            "__________________________________________________________________________________________________\n",
            "conv4_block22_2_relu (Activatio (None, 14, 14, 256)  0           conv4_block22_2_bn[0][0]         \n",
            "__________________________________________________________________________________________________\n",
            "conv4_block22_3_conv (Conv2D)   (None, 14, 14, 1024) 263168      conv4_block22_2_relu[0][0]       \n",
            "__________________________________________________________________________________________________\n",
            "conv4_block22_3_bn (BatchNormal (None, 14, 14, 1024) 4096        conv4_block22_3_conv[0][0]       \n",
            "__________________________________________________________________________________________________\n",
            "conv4_block22_add (Add)         (None, 14, 14, 1024) 0           conv4_block21_out[0][0]          \n",
            "                                                                 conv4_block22_3_bn[0][0]         \n",
            "__________________________________________________________________________________________________\n",
            "conv4_block22_out (Activation)  (None, 14, 14, 1024) 0           conv4_block22_add[0][0]          \n",
            "__________________________________________________________________________________________________\n",
            "conv4_block23_1_conv (Conv2D)   (None, 14, 14, 256)  262400      conv4_block22_out[0][0]          \n",
            "__________________________________________________________________________________________________\n",
            "conv4_block23_1_bn (BatchNormal (None, 14, 14, 256)  1024        conv4_block23_1_conv[0][0]       \n",
            "__________________________________________________________________________________________________\n",
            "conv4_block23_1_relu (Activatio (None, 14, 14, 256)  0           conv4_block23_1_bn[0][0]         \n",
            "__________________________________________________________________________________________________\n",
            "conv4_block23_2_conv (Conv2D)   (None, 14, 14, 256)  590080      conv4_block23_1_relu[0][0]       \n",
            "__________________________________________________________________________________________________\n",
            "conv4_block23_2_bn (BatchNormal (None, 14, 14, 256)  1024        conv4_block23_2_conv[0][0]       \n",
            "__________________________________________________________________________________________________\n",
            "conv4_block23_2_relu (Activatio (None, 14, 14, 256)  0           conv4_block23_2_bn[0][0]         \n",
            "__________________________________________________________________________________________________\n",
            "conv4_block23_3_conv (Conv2D)   (None, 14, 14, 1024) 263168      conv4_block23_2_relu[0][0]       \n",
            "__________________________________________________________________________________________________\n",
            "conv4_block23_3_bn (BatchNormal (None, 14, 14, 1024) 4096        conv4_block23_3_conv[0][0]       \n",
            "__________________________________________________________________________________________________\n",
            "conv4_block23_add (Add)         (None, 14, 14, 1024) 0           conv4_block22_out[0][0]          \n",
            "                                                                 conv4_block23_3_bn[0][0]         \n",
            "__________________________________________________________________________________________________\n",
            "conv4_block23_out (Activation)  (None, 14, 14, 1024) 0           conv4_block23_add[0][0]          \n",
            "__________________________________________________________________________________________________\n",
            "conv5_block1_1_conv (Conv2D)    (None, 7, 7, 512)    524800      conv4_block23_out[0][0]          \n",
            "__________________________________________________________________________________________________\n",
            "conv5_block1_1_bn (BatchNormali (None, 7, 7, 512)    2048        conv5_block1_1_conv[0][0]        \n",
            "__________________________________________________________________________________________________\n",
            "conv5_block1_1_relu (Activation (None, 7, 7, 512)    0           conv5_block1_1_bn[0][0]          \n",
            "__________________________________________________________________________________________________\n",
            "conv5_block1_2_conv (Conv2D)    (None, 7, 7, 512)    2359808     conv5_block1_1_relu[0][0]        \n",
            "__________________________________________________________________________________________________\n",
            "conv5_block1_2_bn (BatchNormali (None, 7, 7, 512)    2048        conv5_block1_2_conv[0][0]        \n",
            "__________________________________________________________________________________________________\n",
            "conv5_block1_2_relu (Activation (None, 7, 7, 512)    0           conv5_block1_2_bn[0][0]          \n",
            "__________________________________________________________________________________________________\n",
            "conv5_block1_0_conv (Conv2D)    (None, 7, 7, 2048)   2099200     conv4_block23_out[0][0]          \n",
            "__________________________________________________________________________________________________\n",
            "conv5_block1_3_conv (Conv2D)    (None, 7, 7, 2048)   1050624     conv5_block1_2_relu[0][0]        \n",
            "__________________________________________________________________________________________________\n",
            "conv5_block1_0_bn (BatchNormali (None, 7, 7, 2048)   8192        conv5_block1_0_conv[0][0]        \n",
            "__________________________________________________________________________________________________\n",
            "conv5_block1_3_bn (BatchNormali (None, 7, 7, 2048)   8192        conv5_block1_3_conv[0][0]        \n",
            "__________________________________________________________________________________________________\n",
            "conv5_block1_add (Add)          (None, 7, 7, 2048)   0           conv5_block1_0_bn[0][0]          \n",
            "                                                                 conv5_block1_3_bn[0][0]          \n",
            "__________________________________________________________________________________________________\n",
            "conv5_block1_out (Activation)   (None, 7, 7, 2048)   0           conv5_block1_add[0][0]           \n",
            "__________________________________________________________________________________________________\n",
            "conv5_block2_1_conv (Conv2D)    (None, 7, 7, 512)    1049088     conv5_block1_out[0][0]           \n",
            "__________________________________________________________________________________________________\n",
            "conv5_block2_1_bn (BatchNormali (None, 7, 7, 512)    2048        conv5_block2_1_conv[0][0]        \n",
            "__________________________________________________________________________________________________\n",
            "conv5_block2_1_relu (Activation (None, 7, 7, 512)    0           conv5_block2_1_bn[0][0]          \n",
            "__________________________________________________________________________________________________\n",
            "conv5_block2_2_conv (Conv2D)    (None, 7, 7, 512)    2359808     conv5_block2_1_relu[0][0]        \n",
            "__________________________________________________________________________________________________\n",
            "conv5_block2_2_bn (BatchNormali (None, 7, 7, 512)    2048        conv5_block2_2_conv[0][0]        \n",
            "__________________________________________________________________________________________________\n",
            "conv5_block2_2_relu (Activation (None, 7, 7, 512)    0           conv5_block2_2_bn[0][0]          \n",
            "__________________________________________________________________________________________________\n",
            "conv5_block2_3_conv (Conv2D)    (None, 7, 7, 2048)   1050624     conv5_block2_2_relu[0][0]        \n",
            "__________________________________________________________________________________________________\n",
            "conv5_block2_3_bn (BatchNormali (None, 7, 7, 2048)   8192        conv5_block2_3_conv[0][0]        \n",
            "__________________________________________________________________________________________________\n",
            "conv5_block2_add (Add)          (None, 7, 7, 2048)   0           conv5_block1_out[0][0]           \n",
            "                                                                 conv5_block2_3_bn[0][0]          \n",
            "__________________________________________________________________________________________________\n",
            "conv5_block2_out (Activation)   (None, 7, 7, 2048)   0           conv5_block2_add[0][0]           \n",
            "__________________________________________________________________________________________________\n",
            "conv5_block3_1_conv (Conv2D)    (None, 7, 7, 512)    1049088     conv5_block2_out[0][0]           \n",
            "__________________________________________________________________________________________________\n",
            "conv5_block3_1_bn (BatchNormali (None, 7, 7, 512)    2048        conv5_block3_1_conv[0][0]        \n",
            "__________________________________________________________________________________________________\n",
            "conv5_block3_1_relu (Activation (None, 7, 7, 512)    0           conv5_block3_1_bn[0][0]          \n",
            "__________________________________________________________________________________________________\n",
            "conv5_block3_2_conv (Conv2D)    (None, 7, 7, 512)    2359808     conv5_block3_1_relu[0][0]        \n",
            "__________________________________________________________________________________________________\n",
            "conv5_block3_2_bn (BatchNormali (None, 7, 7, 512)    2048        conv5_block3_2_conv[0][0]        \n",
            "__________________________________________________________________________________________________\n",
            "conv5_block3_2_relu (Activation (None, 7, 7, 512)    0           conv5_block3_2_bn[0][0]          \n",
            "__________________________________________________________________________________________________\n",
            "conv5_block3_3_conv (Conv2D)    (None, 7, 7, 2048)   1050624     conv5_block3_2_relu[0][0]        \n",
            "__________________________________________________________________________________________________\n",
            "conv5_block3_3_bn (BatchNormali (None, 7, 7, 2048)   8192        conv5_block3_3_conv[0][0]        \n",
            "__________________________________________________________________________________________________\n",
            "conv5_block3_add (Add)          (None, 7, 7, 2048)   0           conv5_block2_out[0][0]           \n",
            "                                                                 conv5_block3_3_bn[0][0]          \n",
            "__________________________________________________________________________________________________\n",
            "conv5_block3_out (Activation)   (None, 7, 7, 2048)   0           conv5_block3_add[0][0]           \n",
            "==================================================================================================\n",
            "Total params: 42,658,176\n",
            "Trainable params: 42,552,832\n",
            "Non-trainable params: 105,344\n",
            "__________________________________________________________________________________________________\n"
          ],
          "name": "stdout"
        }
      ]
    },
    {
      "cell_type": "code",
      "metadata": {
        "colab": {
          "base_uri": "https://localhost:8080/"
        },
        "id": "vh1ug9NGVAMM",
        "outputId": "49aa8dbe-77ab-4bf3-d5fd-2c453033adde"
      },
      "source": [
        "\n",
        "pt_features = Input(base_pretrained_model.layers[-1].output.shape[1:], name = 'feature_input')\n",
        "pt_depth = base_pretrained_model.layers[-1].output.shape[1:]\n",
        "\n",
        "from keras.layers import BatchNormalization\n",
        "\n",
        "bn_features = BatchNormalization()(pt_features)\n",
        "gap = GlobalAveragePooling2D()(bn_features)\n",
        "\n",
        "gap_dr = Dropout(DROPOUT)(gap)\n",
        "dr_steps = Dropout(DROPOUT)(Dense(DENSE_COUNT, activation = 'elu')(gap_dr))\n",
        "\n",
        "#dr_steps = BatchNormalization()(dr_steps)\n",
        "#dr_steps = LeakyReLU(0.1)(dr_steps)\n",
        "#dr_steps = Dropout(DROPOUT)(Dense(DENSE_COUNT, activation = 'elu')(dr_steps))\n",
        "#dr_steps = Dropout(DROPOUT)(Dense(DENSE_COUNT, activation = 'elu')(dr_steps))\n",
        "\n",
        "\n",
        "out_layer = Dense(t_y.shape[1], activation = 'softmax')(dr_steps)\n",
        "\n",
        "attn_model = Model(inputs = [pt_features], \n",
        "                   outputs = [out_layer], name = 'trained_model')\n",
        "pneu_model = Sequential(name = 'combined_model')\n",
        "#base_pretrained_model.trainable = False\n",
        "pneu_model.add(base_pretrained_model)\n",
        "pneu_model.add(attn_model)\n",
        "pneu_model.compile(optimizer = RMSprop(lr=0.0001, decay=1e-5), loss = 'binary_crossentropy', #Adam(lr = LEARN_RATE)\n",
        "                           metrics = ['binary_accuracy'])\n",
        "pneu_model.summary()"
      ],
      "execution_count": null,
      "outputs": [
        {
          "output_type": "stream",
          "text": [
            "Model: \"combined_model\"\n",
            "_________________________________________________________________\n",
            "Layer (type)                 Output Shape              Param #   \n",
            "=================================================================\n",
            "resnet101 (Functional)       (None, 7, 7, 2048)        42658176  \n",
            "_________________________________________________________________\n",
            "trained_model (Functional)   (None, 2)                 270722    \n",
            "=================================================================\n",
            "Total params: 42,928,898\n",
            "Trainable params: 42,819,458\n",
            "Non-trainable params: 109,440\n",
            "_________________________________________________________________\n"
          ],
          "name": "stdout"
        }
      ]
    },
    {
      "cell_type": "code",
      "metadata": {
        "id": "avhrYGCLVAPv"
      },
      "source": [
        "from keras.callbacks import ModelCheckpoint, LearningRateScheduler, EarlyStopping, ReduceLROnPlateau\n",
        "weight_path=\"{}_weights.best.hdf5\".format('lung_opacity')\n",
        "\n",
        "checkpoint = ModelCheckpoint(weight_path, monitor='val_loss', verbose=1, \n",
        "                             save_best_only=True, mode='min', save_weights_only = True)\n",
        "\n",
        "reduceLROnPlat = ReduceLROnPlateau(monitor='val_loss', factor=0.8, \n",
        "                                   patience=10, verbose=1, mode='auto', \n",
        "                                   min_delta=0.0001, cooldown=5, min_lr=0.0001)\n",
        "early = EarlyStopping(monitor=\"val_loss\", \n",
        "                      mode=\"min\", \n",
        "                      patience=10) # probably needs to be more patient, but kaggle time is limited\n",
        "callbacks_list = [checkpoint, early, reduceLROnPlat]"
      ],
      "execution_count": null,
      "outputs": []
    },
    {
      "cell_type": "code",
      "metadata": {
        "colab": {
          "base_uri": "https://localhost:8080/"
        },
        "id": "FfBFu_0PVARZ",
        "outputId": "d0c15644-814a-4444-c985-9f5c3d19a54f"
      },
      "source": [
        "train_gen.batch_size = BATCH_SIZE\n",
        "history = pneu_model.fit_generator(train_gen, \n",
        "                         steps_per_epoch=train_gen.n//BATCH_SIZE,\n",
        "                         validation_data=(valid_X, valid_Y), \n",
        "                         epochs=11, \n",
        "                         callbacks=callbacks_list,\n",
        "                         workers=2)"
      ],
      "execution_count": null,
      "outputs": [
        {
          "output_type": "stream",
          "text": [
            "/usr/local/lib/python3.7/dist-packages/tensorflow/python/keras/engine/training.py:1844: UserWarning: `Model.fit_generator` is deprecated and will be removed in a future version. Please use `Model.fit`, which supports generators.\n",
            "  warnings.warn('`Model.fit_generator` is deprecated and '\n"
          ],
          "name": "stderr"
        },
        {
          "output_type": "stream",
          "text": [
            "Epoch 1/11\n",
            "50/50 [==============================] - 154s 2s/step - loss: 0.5710 - binary_accuracy: 0.7246 - val_loss: 0.4850 - val_binary_accuracy: 0.8800\n",
            "\n",
            "Epoch 00001: val_loss improved from inf to 0.48504, saving model to lung_opacity_weights.best.hdf5\n",
            "Epoch 2/11\n",
            "50/50 [==============================] - 29s 569ms/step - loss: 0.4227 - binary_accuracy: 0.8243 - val_loss: 0.3702 - val_binary_accuracy: 0.9162\n",
            "\n",
            "Epoch 00002: val_loss improved from 0.48504 to 0.37017, saving model to lung_opacity_weights.best.hdf5\n",
            "Epoch 3/11\n",
            "50/50 [==============================] - 29s 566ms/step - loss: 0.3742 - binary_accuracy: 0.8552 - val_loss: 0.3965 - val_binary_accuracy: 0.9137\n",
            "\n",
            "Epoch 00003: val_loss did not improve from 0.37017\n",
            "Epoch 4/11\n",
            "50/50 [==============================] - 29s 572ms/step - loss: 0.3093 - binary_accuracy: 0.8584 - val_loss: 0.8529 - val_binary_accuracy: 0.8550\n",
            "\n",
            "Epoch 00004: val_loss did not improve from 0.37017\n",
            "Epoch 5/11\n",
            "50/50 [==============================] - 30s 573ms/step - loss: 0.3301 - binary_accuracy: 0.8734 - val_loss: 1.1284 - val_binary_accuracy: 0.7700\n",
            "\n",
            "Epoch 00005: val_loss did not improve from 0.37017\n",
            "Epoch 6/11\n",
            "50/50 [==============================] - 30s 586ms/step - loss: 0.3192 - binary_accuracy: 0.8727 - val_loss: 0.2958 - val_binary_accuracy: 0.9112\n",
            "\n",
            "Epoch 00006: val_loss improved from 0.37017 to 0.29584, saving model to lung_opacity_weights.best.hdf5\n",
            "Epoch 7/11\n",
            "50/50 [==============================] - 30s 574ms/step - loss: 0.2380 - binary_accuracy: 0.9075 - val_loss: 0.5337 - val_binary_accuracy: 0.8750\n",
            "\n",
            "Epoch 00007: val_loss did not improve from 0.29584\n",
            "Epoch 8/11\n",
            "50/50 [==============================] - 30s 581ms/step - loss: 0.2798 - binary_accuracy: 0.8824 - val_loss: 0.5764 - val_binary_accuracy: 0.7825\n",
            "\n",
            "Epoch 00008: val_loss did not improve from 0.29584\n",
            "Epoch 9/11\n",
            "50/50 [==============================] - 30s 581ms/step - loss: 0.2355 - binary_accuracy: 0.9101 - val_loss: 0.8949 - val_binary_accuracy: 0.7912\n",
            "\n",
            "Epoch 00009: val_loss did not improve from 0.29584\n",
            "Epoch 10/11\n",
            "50/50 [==============================] - 30s 583ms/step - loss: 0.2326 - binary_accuracy: 0.8953 - val_loss: 3.2616 - val_binary_accuracy: 0.6538\n",
            "\n",
            "Epoch 00010: val_loss did not improve from 0.29584\n",
            "Epoch 11/11\n",
            "50/50 [==============================] - 30s 579ms/step - loss: 0.2575 - binary_accuracy: 0.9037 - val_loss: 1.2460 - val_binary_accuracy: 0.7850\n",
            "\n",
            "Epoch 00011: val_loss did not improve from 0.29584\n"
          ],
          "name": "stdout"
        }
      ]
    },
    {
      "cell_type": "code",
      "metadata": {
        "colab": {
          "base_uri": "https://localhost:8080/"
        },
        "id": "dtDjH6PGVAVA",
        "outputId": "6513e4a1-933d-4c32-ec6f-43425f9c2907"
      },
      "source": [
        "\n",
        "\n",
        "pred_Y = pneu_model.predict(valid_X, \n",
        "                          batch_size = BATCH_SIZE,  \n",
        "                          verbose = True\n",
        "                          ) \n",
        "\n"
      ],
      "execution_count": null,
      "outputs": [
        {
          "output_type": "stream",
          "text": [
            "50/50 [==============================] - 5s 80ms/step\n"
          ],
          "name": "stdout"
        }
      ]
    },
    {
      "cell_type": "code",
      "metadata": {
        "colab": {
          "base_uri": "https://localhost:8080/",
          "height": 591
        },
        "id": "8JRQ77meVQkO",
        "outputId": "b67014d9-3c61-45ad-8398-e5836491762b"
      },
      "source": [
        "print(history.history.keys())\n",
        "# summarize history for accuracy\n",
        "plt.plot(history.history['binary_accuracy'])\n",
        "plt.plot(history.history['val_binary_accuracy'])\n",
        "plt.title('model accuracy')\n",
        "plt.ylabel('accuracy')\n",
        "plt.xlabel('epoch')\n",
        "plt.legend(['train', 'validation'], loc='upper left')\n",
        "plt.show()\n",
        "# summarize history for loss\n",
        "plt.plot(history.history['loss'])\n",
        "plt.plot(history.history['val_loss'])\n",
        "plt.title('model loss')\n",
        "plt.ylabel('loss')\n",
        "plt.xlabel('epoch')\n",
        "plt.legend(['train', 'validation'], loc='upper left')\n",
        "plt.show()"
      ],
      "execution_count": null,
      "outputs": [
        {
          "output_type": "stream",
          "text": [
            "dict_keys(['loss', 'binary_accuracy', 'val_loss', 'val_binary_accuracy', 'lr'])\n"
          ],
          "name": "stdout"
        },
        {
          "output_type": "display_data",
          "data": {
            "image/png": "[encoded data removed]",
            "text/plain": [
              "<Figure size 432x288 with 1 Axes>"
            ]
          },
          "metadata": {
            "tags": [],
            "needs_background": "light"
          }
        },
        {
          "output_type": "display_data",
          "data": {
            "image/png": "[encoded data removed]",
            "text/plain": [
              "<Figure size 432x288 with 1 Axes>"
            ]
          },
          "metadata": {
            "tags": [],
            "needs_background": "light"
          }
        }
      ]
    },
    {
      "cell_type": "code",
      "metadata": {
        "colab": {
          "base_uri": "https://localhost:8080/",
          "height": 591
        },
        "id": "tPlY6U1kCpSz",
        "outputId": "d8a155ff-ad69-48de-8a2e-cc2e8f1526e6"
      },
      "source": [
        "print(history.history.keys())\n",
        "# summarize history for accuracy\n",
        "plt.plot(history.history['binary_accuracy'])\n",
        "plt.plot(history.history['val_binary_accuracy'])\n",
        "plt.title('model accuracy')\n",
        "plt.ylabel('accuracy')\n",
        "plt.xlabel('epoch')\n",
        "plt.legend(['train', 'validation'], loc='upper left')\n",
        "plt.show()\n",
        "#summarize history for loss\n",
        "plt.plot(history.history['loss'])\n",
        "plt.plot(history.history['val_loss'])\n",
        "plt.title('model loss')\n",
        "plt.ylabel('loss')\n",
        "plt.xlabel('epoch')\n",
        "plt.legend(['train', 'validation'], loc='upper left')\n",
        "plt.show()"
      ],
      "execution_count": null,
      "outputs": [
        {
          "output_type": "stream",
          "text": [
            "dict_keys(['loss', 'binary_accuracy', 'val_loss', 'val_binary_accuracy', 'lr'])\n"
          ],
          "name": "stdout"
        },
        {
          "output_type": "display_data",
          "data": {
            "image/png": "[encoded data removed]",
            "text/plain": [
              "<Figure size 432x288 with 1 Axes>"
            ]
          },
          "metadata": {
            "tags": [],
            "needs_background": "light"
          }
        },
        {
          "output_type": "display_data",
          "data": {
            "image/png": "[encoded data removed]",
            "text/plain": [
              "<Figure size 432x288 with 1 Axes>"
            ]
          },
          "metadata": {
            "tags": [],
            "needs_background": "light"
          }
        }
      ]
    },
    {
      "cell_type": "code",
      "metadata": {
        "colab": {
          "base_uri": "https://localhost:8080/",
          "height": 439
        },
        "id": "42J7pYGJVQlw",
        "outputId": "2eb5b1ca-5c80-4783-d55c-a023b0c8e49e"
      },
      "source": [
        "from sklearn.metrics import classification_report, confusion_matrix\n",
        "plt.matshow(confusion_matrix(np.argmax(valid_Y, -1), np.argmax(pred_Y,-1)))\n",
        "print(classification_report(np.argmax(valid_Y, -1), \n",
        "                            np.argmax(pred_Y,-1), target_names = class_enc.classes_))"
      ],
      "execution_count": null,
      "outputs": [
        {
          "output_type": "stream",
          "text": [
            "               precision    recall  f1-score   support\n",
            "\n",
            "Non-Pneumonia       0.96      0.77      0.86       662\n",
            "    Pneumonia       0.44      0.86      0.58       138\n",
            "\n",
            "     accuracy                           0.79       800\n",
            "    macro avg       0.70      0.82      0.72       800\n",
            " weighted avg       0.87      0.79      0.81       800\n",
            "\n"
          ],
          "name": "stdout"
        },
        {
          "output_type": "display_data",
          "data": {
            "image/png": "[encoded data removed]",
            "text/plain": [
              "<Figure size 288x288 with 1 Axes>"
            ]
          },
          "metadata": {
            "tags": [],
            "needs_background": "light"
          }
        }
      ]
    },
    {
      "cell_type": "code",
      "metadata": {
        "colab": {
          "base_uri": "https://localhost:8080/",
          "height": 1000
        },
        "id": "BJTVj76OVQpA",
        "outputId": "bb1620a4-89d5-4578-d7d3-72d708c6c142"
      },
      "source": [
        "from sklearn.metrics import roc_curve, roc_auc_score\n",
        "fpr, tpr, _ = roc_curve(np.argmax(valid_Y,-1)==0, pred_Y[:,0])\n",
        "fig, ax1 = plt.subplots(1,1, figsize = (5, 5), dpi = 250)\n",
        "ax1.plot(fpr, tpr, 'b.-', label = 'ResNet101 (AUC:%2.2f)' % roc_auc_score(np.argmax(valid_Y,-1)==0, pred_Y[:,0]))\n",
        "ax1.plot(fpr, fpr, 'k-', label = 'Random Guessing')\n",
        "ax1.legend(loc = 4)\n",
        "ax1.set_xlabel('False Positive Rate')\n",
        "ax1.set_ylabel('True Positive Rate');\n",
        "ax1.set_title('Lung Opacity ROC Curve')\n",
        "fig.savefig('roc_valid.pdf') "
      ],
      "execution_count": null,
      "outputs": [
        {
          "output_type": "display_data",
          "data": {
            "image/png": "[encoded data removed]",
            "text/plain": [
              "<Figure size 1250x1250 with 1 Axes>"
            ]
          },
          "metadata": {
            "tags": [],
            "needs_background": "light"
          }
        }
      ]
    },
    {
      "cell_type": "markdown",
      "metadata": {
        "id": "DtAhDNDVgAPW"
      },
      "source": [
        "Load local test data"
      ]
    },
    {
      "cell_type": "code",
      "metadata": {
        "id": "bh5lk4WiVQqz"
      },
      "source": [
        "local_output = pd.read_csv('/content/drive/MyDrive/Pneumonia/loca_data_output_final/local_data_output_final.csv')\n",
        "local_output = local_output.drop(['Unnamed: 0'], axis = 1)"
      ],
      "execution_count": null,
      "outputs": []
    },
    {
      "cell_type": "code",
      "metadata": {
        "colab": {
          "base_uri": "https://localhost:8080/",
          "height": 206
        },
        "id": "Ygm7VTZjVee9",
        "outputId": "32ded428-0c31-4905-94db-b6e1f60ee9da"
      },
      "source": [
        "local_output['Doctor 1/Ground Truth'] = local_output['Doctor 1/Ground Truth'].map({'No':0, 'Yes': 1})\n",
        "local_output['Doctor 2'] = local_output['Doctor 2'].map({'No':0, 'Yes': 1})\n",
        "local_output['Doctor 3'] = local_output['Doctor 3'].map({'No':0, 'Yes': 1})\n",
        "local_output['class'] = local_output['class'].map({'No':0, 'Yes': 1})\n",
        "local_output.head()"
      ],
      "execution_count": null,
      "outputs": [
        {
          "output_type": "execute_result",
          "data": {
            "text/html": [
              "<div>\n",
              "<style scoped>\n",
              "    .dataframe tbody tr th:only-of-type {\n",
              "        vertical-align: middle;\n",
              "    }\n",
              "\n",
              "    .dataframe tbody tr th {\n",
              "        vertical-align: top;\n",
              "    }\n",
              "\n",
              "    .dataframe thead th {\n",
              "        text-align: right;\n",
              "    }\n",
              "</style>\n",
              "<table border=\"1\" class=\"dataframe\">\n",
              "  <thead>\n",
              "    <tr style=\"text-align: right;\">\n",
              "      <th></th>\n",
              "      <th>ID</th>\n",
              "      <th>Doctor 1/Ground Truth</th>\n",
              "      <th>Doctor 2</th>\n",
              "      <th>Doctor 3</th>\n",
              "      <th>class</th>\n",
              "    </tr>\n",
              "  </thead>\n",
              "  <tbody>\n",
              "    <tr>\n",
              "      <th>0</th>\n",
              "      <td>1</td>\n",
              "      <td>0</td>\n",
              "      <td>0</td>\n",
              "      <td>1</td>\n",
              "      <td>0</td>\n",
              "    </tr>\n",
              "    <tr>\n",
              "      <th>1</th>\n",
              "      <td>2</td>\n",
              "      <td>0</td>\n",
              "      <td>0</td>\n",
              "      <td>0</td>\n",
              "      <td>0</td>\n",
              "    </tr>\n",
              "    <tr>\n",
              "      <th>2</th>\n",
              "      <td>3</td>\n",
              "      <td>0</td>\n",
              "      <td>1</td>\n",
              "      <td>1</td>\n",
              "      <td>1</td>\n",
              "    </tr>\n",
              "    <tr>\n",
              "      <th>3</th>\n",
              "      <td>4</td>\n",
              "      <td>1</td>\n",
              "      <td>0</td>\n",
              "      <td>1</td>\n",
              "      <td>1</td>\n",
              "    </tr>\n",
              "    <tr>\n",
              "      <th>4</th>\n",
              "      <td>5</td>\n",
              "      <td>1</td>\n",
              "      <td>0</td>\n",
              "      <td>1</td>\n",
              "      <td>1</td>\n",
              "    </tr>\n",
              "  </tbody>\n",
              "</table>\n",
              "</div>"
            ],
            "text/plain": [
              "   ID   Doctor 1/Ground Truth  Doctor 2  Doctor 3  class\n",
              "0    1                      0         0         1      0\n",
              "1    2                      0         0         0      0\n",
              "2    3                      0         1         1      1\n",
              "3    4                      1         0         1      1\n",
              "4    5                      1         0         1      1"
            ]
          },
          "metadata": {
            "tags": []
          },
          "execution_count": 45
        }
      ]
    },
    {
      "cell_type": "code",
      "metadata": {
        "colab": {
          "base_uri": "https://localhost:8080/"
        },
        "id": "vWP2ZhS1Vego",
        "outputId": "31604735-dd02-4ffb-9999-5c9d756ea77a"
      },
      "source": [
        "\n",
        "\n",
        "TEST_DIR2 =  \"/content/drive/MyDrive/Pneumonia/local separated images\"\n",
        "batch_size_test = 1\n",
        "nb_test_samples2 = 129\n",
        "\n",
        "test_generator2 = img_gen.flow_from_directory(\n",
        "    TEST_DIR2,\n",
        "    classes=['male-female-mod'],\n",
        "    # don't generate labels\n",
        "    class_mode='binary',\n",
        "    # don't shuffle\n",
        "    shuffle=False,\n",
        "    target_size = IMG_SIZE,\n",
        "    color_mode = 'rgb',\n",
        "    batch_size=batch_size_test,)\n",
        "\n"
      ],
      "execution_count": null,
      "outputs": [
        {
          "output_type": "stream",
          "text": [
            "Found 129 images belonging to 1 classes.\n"
          ],
          "name": "stdout"
        }
      ]
    },
    {
      "cell_type": "code",
      "metadata": {
        "colab": {
          "base_uri": "https://localhost:8080/"
        },
        "id": "hi9anucNVekt",
        "outputId": "02ac12f8-9e3a-47bf-ec85-1330e5378240"
      },
      "source": [
        "test_generator2.reset()\n",
        "preds2 = pneu_model.predict_generator(test_generator2, workers = 1,steps=np.ceil(nb_test_samples2/batch_size_test)) #changed worker to 0"
      ],
      "execution_count": null,
      "outputs": [
        {
          "output_type": "stream",
          "text": [
            "/usr/local/lib/python3.6/dist-packages/tensorflow/python/keras/engine/training.py:1905: UserWarning: `Model.predict_generator` is deprecated and will be removed in a future version. Please use `Model.predict`, which supports generators.\n",
            "  warnings.warn('`Model.predict_generator` is deprecated and '\n"
          ],
          "name": "stderr"
        }
      ]
    },
    {
      "cell_type": "code",
      "metadata": {
        "id": "5-cgCUSbB_IE",
        "colab": {
          "base_uri": "https://localhost:8080/"
        },
        "outputId": "ce468e1d-8f50-4250-9042-fe53025e46bb"
      },
      "source": [
        "preds2"
      ],
      "execution_count": null,
      "outputs": [
        {
          "output_type": "execute_result",
          "data": {
            "text/plain": [
              "array([[3.55921075e-05, 9.99964356e-01],\n",
              "       [9.99999881e-01, 7.55528262e-08],\n",
              "       [7.83657444e-11, 1.00000000e+00],\n",
              "       [9.99999523e-01, 4.66253425e-07],\n",
              "       [9.99915600e-01, 8.43604648e-05],\n",
              "       [9.93771255e-01, 6.22872310e-03],\n",
              "       [9.99995112e-01, 4.93250900e-06],\n",
              "       [4.71121781e-02, 9.52887833e-01],\n",
              "       [4.48282994e-02, 9.55171645e-01],\n",
              "       [9.99990821e-01, 9.18963178e-06],\n",
              "       [9.99998212e-01, 1.76559547e-06],\n",
              "       [9.99975801e-01, 2.42304031e-05],\n",
              "       [9.99406099e-01, 5.93853241e-04],\n",
              "       [7.13793124e-05, 9.99928594e-01],\n",
              "       [1.00000000e+00, 2.60274441e-10],\n",
              "       [9.99999285e-01, 7.33487980e-07],\n",
              "       [1.00000000e+00, 5.06621500e-09],\n",
              "       [1.90285202e-02, 9.80971515e-01],\n",
              "       [2.85302964e-03, 9.97147024e-01],\n",
              "       [9.42110121e-01, 5.78898601e-02],\n",
              "       [7.66042252e-09, 1.00000000e+00],\n",
              "       [2.27849139e-03, 9.97721493e-01],\n",
              "       [9.99957681e-01, 4.22769117e-05],\n",
              "       [9.99234557e-01, 7.65506062e-04],\n",
              "       [9.97527659e-01, 2.47239741e-03],\n",
              "       [1.00000000e+00, 8.14287457e-11],\n",
              "       [9.99993682e-01, 6.28909856e-06],\n",
              "       [1.00000000e+00, 3.29663030e-09],\n",
              "       [9.99999762e-01, 2.76936390e-07],\n",
              "       [9.99958158e-01, 4.18717100e-05],\n",
              "       [4.63344865e-02, 9.53665555e-01],\n",
              "       [2.22719051e-02, 9.77728128e-01],\n",
              "       [9.99999881e-01, 1.33328967e-07],\n",
              "       [9.99999046e-01, 9.33396564e-07],\n",
              "       [4.12293017e-01, 5.87707043e-01],\n",
              "       [9.99999642e-01, 3.63353791e-07],\n",
              "       [9.87902462e-01, 1.20974779e-02],\n",
              "       [6.22367144e-01, 3.77632886e-01],\n",
              "       [1.00000000e+00, 1.16577736e-09],\n",
              "       [9.99542356e-01, 4.57664573e-04],\n",
              "       [1.53435292e-14, 1.00000000e+00],\n",
              "       [1.46626607e-01, 8.53373468e-01],\n",
              "       [7.03839865e-03, 9.92961586e-01],\n",
              "       [1.00000000e+00, 2.52796978e-10],\n",
              "       [9.99998927e-01, 1.04509922e-06],\n",
              "       [9.35660601e-01, 6.43394291e-02],\n",
              "       [8.04721177e-01, 1.95278868e-01],\n",
              "       [9.99999881e-01, 1.13239025e-07],\n",
              "       [9.99991775e-01, 8.27155691e-06],\n",
              "       [6.68351576e-02, 9.33164835e-01],\n",
              "       [1.00000000e+00, 1.39001605e-11],\n",
              "       [2.25079106e-03, 9.97749150e-01],\n",
              "       [1.37688916e-10, 1.00000000e+00],\n",
              "       [1.54313529e-05, 9.99984622e-01],\n",
              "       [9.99996543e-01, 3.49169181e-06],\n",
              "       [2.04574334e-07, 9.99999762e-01],\n",
              "       [9.87284839e-01, 1.27151823e-02],\n",
              "       [8.98081064e-01, 1.01918913e-01],\n",
              "       [9.39294934e-01, 6.07051216e-02],\n",
              "       [1.00000000e+00, 5.65611735e-09],\n",
              "       [9.99960899e-01, 3.90586974e-05],\n",
              "       [9.98792887e-01, 1.20710477e-03],\n",
              "       [9.99999642e-01, 3.08752504e-07],\n",
              "       [1.08525594e-04, 9.99891520e-01],\n",
              "       [9.19574320e-01, 8.04257169e-02],\n",
              "       [9.26312268e-01, 7.36876726e-02],\n",
              "       [3.41793793e-09, 1.00000000e+00],\n",
              "       [9.99998927e-01, 1.07533526e-06],\n",
              "       [9.99997497e-01, 2.50634912e-06],\n",
              "       [9.99871254e-01, 1.28738000e-04],\n",
              "       [4.47153172e-04, 9.99552786e-01],\n",
              "       [9.99944806e-01, 5.51933408e-05],\n",
              "       [2.24998303e-07, 9.99999762e-01],\n",
              "       [1.22866859e-05, 9.99987721e-01],\n",
              "       [9.99999881e-01, 6.16253786e-08],\n",
              "       [9.91253555e-01, 8.74644984e-03],\n",
              "       [9.99957442e-01, 4.25013823e-05],\n",
              "       [2.17123772e-03, 9.97828782e-01],\n",
              "       [9.02345896e-01, 9.76541191e-02],\n",
              "       [9.98171806e-01, 1.82817958e-03],\n",
              "       [9.99998808e-01, 1.13807118e-06],\n",
              "       [9.95676577e-01, 4.32339031e-03],\n",
              "       [1.01315379e-01, 8.98684621e-01],\n",
              "       [1.00000000e+00, 4.32448088e-12],\n",
              "       [9.99999285e-01, 7.00760665e-07],\n",
              "       [9.99895334e-01, 1.04648505e-04],\n",
              "       [2.27632420e-03, 9.97723639e-01],\n",
              "       [9.96867836e-01, 3.13211442e-03],\n",
              "       [9.99838114e-01, 1.61843665e-04],\n",
              "       [9.47868764e-01, 5.21312356e-02],\n",
              "       [9.99999762e-01, 2.66627239e-07],\n",
              "       [9.99988914e-01, 1.11271784e-05],\n",
              "       [4.92091349e-04, 9.99507904e-01],\n",
              "       [9.99992967e-01, 7.04788590e-06],\n",
              "       [5.85699581e-07, 9.99999404e-01],\n",
              "       [3.77779156e-01, 6.22220814e-01],\n",
              "       [9.99998331e-01, 1.68179110e-06],\n",
              "       [1.48005160e-02, 9.85199451e-01],\n",
              "       [1.56639365e-03, 9.98433650e-01],\n",
              "       [4.91579235e-01, 5.08420765e-01],\n",
              "       [9.96697426e-01, 3.30261700e-03],\n",
              "       [9.99999285e-01, 7.32690978e-07],\n",
              "       [5.97424150e-01, 4.02575880e-01],\n",
              "       [9.99920368e-01, 7.95852247e-05],\n",
              "       [7.39215255e-01, 2.60784715e-01],\n",
              "       [9.99999881e-01, 1.14455361e-07],\n",
              "       [8.78474832e-01, 1.21525168e-01],\n",
              "       [7.55326077e-03, 9.92446661e-01],\n",
              "       [4.72309366e-02, 9.52769101e-01],\n",
              "       [9.99985933e-01, 1.41039627e-05],\n",
              "       [9.99997497e-01, 2.44690796e-06],\n",
              "       [9.99969125e-01, 3.08199451e-05],\n",
              "       [3.57718091e-05, 9.99964237e-01],\n",
              "       [9.99966621e-01, 3.33740281e-05],\n",
              "       [4.36187953e-01, 5.63812077e-01],\n",
              "       [1.00000000e+00, 1.60285910e-10],\n",
              "       [5.43715805e-02, 9.45628405e-01],\n",
              "       [9.99987364e-01, 1.26310515e-05],\n",
              "       [3.08113545e-03, 9.96918917e-01],\n",
              "       [9.99595463e-01, 4.04509628e-04],\n",
              "       [9.98209476e-01, 1.79047789e-03],\n",
              "       [1.05357654e-02, 9.89464283e-01],\n",
              "       [9.99937892e-01, 6.20456995e-05],\n",
              "       [1.00000000e+00, 3.10126147e-08],\n",
              "       [3.19558574e-04, 9.99680400e-01],\n",
              "       [1.00000000e+00, 5.35215578e-12],\n",
              "       [1.35329292e-05, 9.99986410e-01],\n",
              "       [1.86288804e-01, 8.13711166e-01],\n",
              "       [2.01047988e-06, 9.99997973e-01]], dtype=float32)"
            ]
          },
          "metadata": {
            "tags": []
          },
          "execution_count": 48
        }
      ]
    },
    {
      "cell_type": "code",
      "metadata": {
        "id": "Q0tmMhIIVlrQ"
      },
      "source": [
        "\n",
        "preds2 = np.argmax(preds2, axis=-1)\n",
        "\n",
        "data = {'col_1': test_generator2.filenames, 'col_2': preds2}\n",
        "df=pd.DataFrame.from_dict(data)\n"
      ],
      "execution_count": null,
      "outputs": []
    },
    {
      "cell_type": "code",
      "metadata": {
        "id": "sG08cHUdVls3"
      },
      "source": [
        "import re\n",
        "\n",
        "def atoi(text):\n",
        "    return int(text) if text.isdigit() else text\n",
        "\n",
        "def natural_keys(text):\n",
        "    '''\n",
        "    alist.sort(key=natural_keys) sorts in human order\n",
        "    http://nedbatchelder.com/blog/200712/human_sorting.html\n",
        "    (See Toothy's implementation in the comments)\n",
        "    '''\n",
        "    return [ atoi(c) for c in re.split(r'(\\d+)', text) ]"
      ],
      "execution_count": null,
      "outputs": []
    },
    {
      "cell_type": "code",
      "metadata": {
        "id": "El07WEOzVlww"
      },
      "source": [
        "ids = [x for x in df['col_1'] ]\n",
        "ids = [natural_keys(x)[1] for x in ids]\n",
        "df['ID'] = np.asarray(ids)\n",
        "df = df.sort_values(by='ID')\n",
        "df = df.reset_index(drop  =True)"
      ],
      "execution_count": null,
      "outputs": []
    },
    {
      "cell_type": "code",
      "metadata": {
        "id": "DsXyHHZEVtWD",
        "colab": {
          "base_uri": "https://localhost:8080/",
          "height": 424
        },
        "outputId": "860f937f-aa32-4c3d-e958-61ca8b537ed7"
      },
      "source": [
        "df"
      ],
      "execution_count": null,
      "outputs": [
        {
          "output_type": "execute_result",
          "data": {
            "text/html": [
              "<div>\n",
              "<style scoped>\n",
              "    .dataframe tbody tr th:only-of-type {\n",
              "        vertical-align: middle;\n",
              "    }\n",
              "\n",
              "    .dataframe tbody tr th {\n",
              "        vertical-align: top;\n",
              "    }\n",
              "\n",
              "    .dataframe thead th {\n",
              "        text-align: right;\n",
              "    }\n",
              "</style>\n",
              "<table border=\"1\" class=\"dataframe\">\n",
              "  <thead>\n",
              "    <tr style=\"text-align: right;\">\n",
              "      <th></th>\n",
              "      <th>col_1</th>\n",
              "      <th>col_2</th>\n",
              "      <th>ID</th>\n",
              "    </tr>\n",
              "  </thead>\n",
              "  <tbody>\n",
              "    <tr>\n",
              "      <th>0</th>\n",
              "      <td>male-female-mod/1.jpg</td>\n",
              "      <td>1</td>\n",
              "      <td>1</td>\n",
              "    </tr>\n",
              "    <tr>\n",
              "      <th>1</th>\n",
              "      <td>male-female-mod/2.jpg</td>\n",
              "      <td>0</td>\n",
              "      <td>2</td>\n",
              "    </tr>\n",
              "    <tr>\n",
              "      <th>2</th>\n",
              "      <td>male-female-mod/3.jpg</td>\n",
              "      <td>0</td>\n",
              "      <td>3</td>\n",
              "    </tr>\n",
              "    <tr>\n",
              "      <th>3</th>\n",
              "      <td>male-female-mod/4.jpg</td>\n",
              "      <td>0</td>\n",
              "      <td>4</td>\n",
              "    </tr>\n",
              "    <tr>\n",
              "      <th>4</th>\n",
              "      <td>male-female-mod/5.jpg</td>\n",
              "      <td>1</td>\n",
              "      <td>5</td>\n",
              "    </tr>\n",
              "    <tr>\n",
              "      <th>...</th>\n",
              "      <td>...</td>\n",
              "      <td>...</td>\n",
              "      <td>...</td>\n",
              "    </tr>\n",
              "    <tr>\n",
              "      <th>124</th>\n",
              "      <td>male-female-mod/134.jpg</td>\n",
              "      <td>0</td>\n",
              "      <td>134</td>\n",
              "    </tr>\n",
              "    <tr>\n",
              "      <th>125</th>\n",
              "      <td>male-female-mod/136.jpg</td>\n",
              "      <td>0</td>\n",
              "      <td>136</td>\n",
              "    </tr>\n",
              "    <tr>\n",
              "      <th>126</th>\n",
              "      <td>male-female-mod/137.jpg</td>\n",
              "      <td>0</td>\n",
              "      <td>137</td>\n",
              "    </tr>\n",
              "    <tr>\n",
              "      <th>127</th>\n",
              "      <td>male-female-mod/138.jpg</td>\n",
              "      <td>1</td>\n",
              "      <td>138</td>\n",
              "    </tr>\n",
              "    <tr>\n",
              "      <th>128</th>\n",
              "      <td>male-female-mod/139.jpg</td>\n",
              "      <td>1</td>\n",
              "      <td>139</td>\n",
              "    </tr>\n",
              "  </tbody>\n",
              "</table>\n",
              "<p>129 rows × 3 columns</p>\n",
              "</div>"
            ],
            "text/plain": [
              "                       col_1  col_2   ID\n",
              "0      male-female-mod/1.jpg      1    1\n",
              "1      male-female-mod/2.jpg      0    2\n",
              "2      male-female-mod/3.jpg      0    3\n",
              "3      male-female-mod/4.jpg      0    4\n",
              "4      male-female-mod/5.jpg      1    5\n",
              "..                       ...    ...  ...\n",
              "124  male-female-mod/134.jpg      0  134\n",
              "125  male-female-mod/136.jpg      0  136\n",
              "126  male-female-mod/137.jpg      0  137\n",
              "127  male-female-mod/138.jpg      1  138\n",
              "128  male-female-mod/139.jpg      1  139\n",
              "\n",
              "[129 rows x 3 columns]"
            ]
          },
          "metadata": {
            "tags": []
          },
          "execution_count": 52
        }
      ]
    },
    {
      "cell_type": "code",
      "metadata": {
        "id": "RkY8jUjxVwEr",
        "colab": {
          "base_uri": "https://localhost:8080/",
          "height": 1000
        },
        "outputId": "2f19d93e-045f-465e-b896-2cd440ea4e5e"
      },
      "source": [
        "df[df['col_2'] == 1]"
      ],
      "execution_count": null,
      "outputs": [
        {
          "output_type": "execute_result",
          "data": {
            "text/html": [
              "<div>\n",
              "<style scoped>\n",
              "    .dataframe tbody tr th:only-of-type {\n",
              "        vertical-align: middle;\n",
              "    }\n",
              "\n",
              "    .dataframe tbody tr th {\n",
              "        vertical-align: top;\n",
              "    }\n",
              "\n",
              "    .dataframe thead th {\n",
              "        text-align: right;\n",
              "    }\n",
              "</style>\n",
              "<table border=\"1\" class=\"dataframe\">\n",
              "  <thead>\n",
              "    <tr style=\"text-align: right;\">\n",
              "      <th></th>\n",
              "      <th>col_1</th>\n",
              "      <th>col_2</th>\n",
              "      <th>ID</th>\n",
              "    </tr>\n",
              "  </thead>\n",
              "  <tbody>\n",
              "    <tr>\n",
              "      <th>0</th>\n",
              "      <td>male-female-mod/1.jpg</td>\n",
              "      <td>1</td>\n",
              "      <td>1</td>\n",
              "    </tr>\n",
              "    <tr>\n",
              "      <th>4</th>\n",
              "      <td>male-female-mod/5.jpg</td>\n",
              "      <td>1</td>\n",
              "      <td>5</td>\n",
              "    </tr>\n",
              "    <tr>\n",
              "      <th>7</th>\n",
              "      <td>male-female-mod/8.jpg</td>\n",
              "      <td>1</td>\n",
              "      <td>8</td>\n",
              "    </tr>\n",
              "    <tr>\n",
              "      <th>8</th>\n",
              "      <td>male-female-mod/9.jpg</td>\n",
              "      <td>1</td>\n",
              "      <td>9</td>\n",
              "    </tr>\n",
              "    <tr>\n",
              "      <th>10</th>\n",
              "      <td>male-female-mod/12.jpg</td>\n",
              "      <td>1</td>\n",
              "      <td>12</td>\n",
              "    </tr>\n",
              "    <tr>\n",
              "      <th>12</th>\n",
              "      <td>male-female-mod/14.jpg</td>\n",
              "      <td>1</td>\n",
              "      <td>14</td>\n",
              "    </tr>\n",
              "    <tr>\n",
              "      <th>18</th>\n",
              "      <td>male-female-mod/20.jpg</td>\n",
              "      <td>1</td>\n",
              "      <td>20</td>\n",
              "    </tr>\n",
              "    <tr>\n",
              "      <th>20</th>\n",
              "      <td>male-female-mod/22.jpg</td>\n",
              "      <td>1</td>\n",
              "      <td>22</td>\n",
              "    </tr>\n",
              "    <tr>\n",
              "      <th>21</th>\n",
              "      <td>male-female-mod/24.jpg</td>\n",
              "      <td>1</td>\n",
              "      <td>24</td>\n",
              "    </tr>\n",
              "    <tr>\n",
              "      <th>22</th>\n",
              "      <td>male-female-mod/25.jpg</td>\n",
              "      <td>1</td>\n",
              "      <td>25</td>\n",
              "    </tr>\n",
              "    <tr>\n",
              "      <th>24</th>\n",
              "      <td>male-female-mod/27.jpg</td>\n",
              "      <td>1</td>\n",
              "      <td>27</td>\n",
              "    </tr>\n",
              "    <tr>\n",
              "      <th>31</th>\n",
              "      <td>male-female-mod/36.jpg</td>\n",
              "      <td>1</td>\n",
              "      <td>36</td>\n",
              "    </tr>\n",
              "    <tr>\n",
              "      <th>34</th>\n",
              "      <td>male-female-mod/39.jpg</td>\n",
              "      <td>1</td>\n",
              "      <td>39</td>\n",
              "    </tr>\n",
              "    <tr>\n",
              "      <th>37</th>\n",
              "      <td>male-female-mod/42.jpg</td>\n",
              "      <td>1</td>\n",
              "      <td>42</td>\n",
              "    </tr>\n",
              "    <tr>\n",
              "      <th>39</th>\n",
              "      <td>male-female-mod/45.jpg</td>\n",
              "      <td>1</td>\n",
              "      <td>45</td>\n",
              "    </tr>\n",
              "    <tr>\n",
              "      <th>40</th>\n",
              "      <td>male-female-mod/46.jpg</td>\n",
              "      <td>1</td>\n",
              "      <td>46</td>\n",
              "    </tr>\n",
              "    <tr>\n",
              "      <th>48</th>\n",
              "      <td>male-female-mod/54.jpg</td>\n",
              "      <td>1</td>\n",
              "      <td>54</td>\n",
              "    </tr>\n",
              "    <tr>\n",
              "      <th>52</th>\n",
              "      <td>male-female-mod/59.jpg</td>\n",
              "      <td>1</td>\n",
              "      <td>59</td>\n",
              "    </tr>\n",
              "    <tr>\n",
              "      <th>57</th>\n",
              "      <td>male-female-mod/64.jpg</td>\n",
              "      <td>1</td>\n",
              "      <td>64</td>\n",
              "    </tr>\n",
              "    <tr>\n",
              "      <th>59</th>\n",
              "      <td>male-female-mod/68.jpg</td>\n",
              "      <td>1</td>\n",
              "      <td>68</td>\n",
              "    </tr>\n",
              "    <tr>\n",
              "      <th>60</th>\n",
              "      <td>male-female-mod/69.jpg</td>\n",
              "      <td>1</td>\n",
              "      <td>69</td>\n",
              "    </tr>\n",
              "    <tr>\n",
              "      <th>61</th>\n",
              "      <td>male-female-mod/70.jpg</td>\n",
              "      <td>1</td>\n",
              "      <td>70</td>\n",
              "    </tr>\n",
              "    <tr>\n",
              "      <th>62</th>\n",
              "      <td>male-female-mod/71.jpg</td>\n",
              "      <td>1</td>\n",
              "      <td>71</td>\n",
              "    </tr>\n",
              "    <tr>\n",
              "      <th>63</th>\n",
              "      <td>male-female-mod/72.jpg</td>\n",
              "      <td>1</td>\n",
              "      <td>72</td>\n",
              "    </tr>\n",
              "    <tr>\n",
              "      <th>71</th>\n",
              "      <td>male-female-mod/80.jpg</td>\n",
              "      <td>1</td>\n",
              "      <td>80</td>\n",
              "    </tr>\n",
              "    <tr>\n",
              "      <th>75</th>\n",
              "      <td>male-female-mod/84.jpg</td>\n",
              "      <td>1</td>\n",
              "      <td>84</td>\n",
              "    </tr>\n",
              "    <tr>\n",
              "      <th>77</th>\n",
              "      <td>male-female-mod/86.jpg</td>\n",
              "      <td>1</td>\n",
              "      <td>86</td>\n",
              "    </tr>\n",
              "    <tr>\n",
              "      <th>79</th>\n",
              "      <td>male-female-mod/88.jpg</td>\n",
              "      <td>1</td>\n",
              "      <td>88</td>\n",
              "    </tr>\n",
              "    <tr>\n",
              "      <th>83</th>\n",
              "      <td>male-female-mod/92.jpg</td>\n",
              "      <td>1</td>\n",
              "      <td>92</td>\n",
              "    </tr>\n",
              "    <tr>\n",
              "      <th>86</th>\n",
              "      <td>male-female-mod/95.jpg</td>\n",
              "      <td>1</td>\n",
              "      <td>95</td>\n",
              "    </tr>\n",
              "    <tr>\n",
              "      <th>88</th>\n",
              "      <td>male-female-mod/97.jpg</td>\n",
              "      <td>1</td>\n",
              "      <td>97</td>\n",
              "    </tr>\n",
              "    <tr>\n",
              "      <th>89</th>\n",
              "      <td>male-female-mod/98.jpg</td>\n",
              "      <td>1</td>\n",
              "      <td>98</td>\n",
              "    </tr>\n",
              "    <tr>\n",
              "      <th>90</th>\n",
              "      <td>male-female-mod/99.jpg</td>\n",
              "      <td>1</td>\n",
              "      <td>99</td>\n",
              "    </tr>\n",
              "    <tr>\n",
              "      <th>91</th>\n",
              "      <td>male-female-mod/100.jpg</td>\n",
              "      <td>1</td>\n",
              "      <td>100</td>\n",
              "    </tr>\n",
              "    <tr>\n",
              "      <th>96</th>\n",
              "      <td>male-female-mod/105.jpg</td>\n",
              "      <td>1</td>\n",
              "      <td>105</td>\n",
              "    </tr>\n",
              "    <tr>\n",
              "      <th>97</th>\n",
              "      <td>male-female-mod/106.jpg</td>\n",
              "      <td>1</td>\n",
              "      <td>106</td>\n",
              "    </tr>\n",
              "    <tr>\n",
              "      <th>102</th>\n",
              "      <td>male-female-mod/111.jpg</td>\n",
              "      <td>1</td>\n",
              "      <td>111</td>\n",
              "    </tr>\n",
              "    <tr>\n",
              "      <th>106</th>\n",
              "      <td>male-female-mod/115.jpg</td>\n",
              "      <td>1</td>\n",
              "      <td>115</td>\n",
              "    </tr>\n",
              "    <tr>\n",
              "      <th>107</th>\n",
              "      <td>male-female-mod/117.jpg</td>\n",
              "      <td>1</td>\n",
              "      <td>117</td>\n",
              "    </tr>\n",
              "    <tr>\n",
              "      <th>109</th>\n",
              "      <td>male-female-mod/119.jpg</td>\n",
              "      <td>1</td>\n",
              "      <td>119</td>\n",
              "    </tr>\n",
              "    <tr>\n",
              "      <th>118</th>\n",
              "      <td>male-female-mod/128.jpg</td>\n",
              "      <td>1</td>\n",
              "      <td>128</td>\n",
              "    </tr>\n",
              "    <tr>\n",
              "      <th>119</th>\n",
              "      <td>male-female-mod/129.jpg</td>\n",
              "      <td>1</td>\n",
              "      <td>129</td>\n",
              "    </tr>\n",
              "    <tr>\n",
              "      <th>121</th>\n",
              "      <td>male-female-mod/131.jpg</td>\n",
              "      <td>1</td>\n",
              "      <td>131</td>\n",
              "    </tr>\n",
              "    <tr>\n",
              "      <th>127</th>\n",
              "      <td>male-female-mod/138.jpg</td>\n",
              "      <td>1</td>\n",
              "      <td>138</td>\n",
              "    </tr>\n",
              "    <tr>\n",
              "      <th>128</th>\n",
              "      <td>male-female-mod/139.jpg</td>\n",
              "      <td>1</td>\n",
              "      <td>139</td>\n",
              "    </tr>\n",
              "  </tbody>\n",
              "</table>\n",
              "</div>"
            ],
            "text/plain": [
              "                       col_1  col_2   ID\n",
              "0      male-female-mod/1.jpg      1    1\n",
              "4      male-female-mod/5.jpg      1    5\n",
              "7      male-female-mod/8.jpg      1    8\n",
              "8      male-female-mod/9.jpg      1    9\n",
              "10    male-female-mod/12.jpg      1   12\n",
              "12    male-female-mod/14.jpg      1   14\n",
              "18    male-female-mod/20.jpg      1   20\n",
              "20    male-female-mod/22.jpg      1   22\n",
              "21    male-female-mod/24.jpg      1   24\n",
              "22    male-female-mod/25.jpg      1   25\n",
              "24    male-female-mod/27.jpg      1   27\n",
              "31    male-female-mod/36.jpg      1   36\n",
              "34    male-female-mod/39.jpg      1   39\n",
              "37    male-female-mod/42.jpg      1   42\n",
              "39    male-female-mod/45.jpg      1   45\n",
              "40    male-female-mod/46.jpg      1   46\n",
              "48    male-female-mod/54.jpg      1   54\n",
              "52    male-female-mod/59.jpg      1   59\n",
              "57    male-female-mod/64.jpg      1   64\n",
              "59    male-female-mod/68.jpg      1   68\n",
              "60    male-female-mod/69.jpg      1   69\n",
              "61    male-female-mod/70.jpg      1   70\n",
              "62    male-female-mod/71.jpg      1   71\n",
              "63    male-female-mod/72.jpg      1   72\n",
              "71    male-female-mod/80.jpg      1   80\n",
              "75    male-female-mod/84.jpg      1   84\n",
              "77    male-female-mod/86.jpg      1   86\n",
              "79    male-female-mod/88.jpg      1   88\n",
              "83    male-female-mod/92.jpg      1   92\n",
              "86    male-female-mod/95.jpg      1   95\n",
              "88    male-female-mod/97.jpg      1   97\n",
              "89    male-female-mod/98.jpg      1   98\n",
              "90    male-female-mod/99.jpg      1   99\n",
              "91   male-female-mod/100.jpg      1  100\n",
              "96   male-female-mod/105.jpg      1  105\n",
              "97   male-female-mod/106.jpg      1  106\n",
              "102  male-female-mod/111.jpg      1  111\n",
              "106  male-female-mod/115.jpg      1  115\n",
              "107  male-female-mod/117.jpg      1  117\n",
              "109  male-female-mod/119.jpg      1  119\n",
              "118  male-female-mod/128.jpg      1  128\n",
              "119  male-female-mod/129.jpg      1  129\n",
              "121  male-female-mod/131.jpg      1  131\n",
              "127  male-female-mod/138.jpg      1  138\n",
              "128  male-female-mod/139.jpg      1  139"
            ]
          },
          "metadata": {
            "tags": []
          },
          "execution_count": 53
        }
      ]
    },
    {
      "cell_type": "code",
      "metadata": {
        "id": "OaNWJgB9YllZ"
      },
      "source": [
        ""
      ],
      "execution_count": null,
      "outputs": []
    },
    {
      "cell_type": "code",
      "metadata": {
        "id": "xdCLh9ZZOgni",
        "colab": {
          "base_uri": "https://localhost:8080/"
        },
        "outputId": "ad51f1f4-5c20-4929-a914-de70be0c375d"
      },
      "source": [
        "df[df['col_2'] == 1].shape"
      ],
      "execution_count": null,
      "outputs": [
        {
          "output_type": "execute_result",
          "data": {
            "text/plain": [
              "(45, 3)"
            ]
          },
          "metadata": {
            "tags": []
          },
          "execution_count": 54
        }
      ]
    },
    {
      "cell_type": "code",
      "metadata": {
        "id": "RkYNr-7nVwGZ",
        "colab": {
          "base_uri": "https://localhost:8080/",
          "height": 439
        },
        "outputId": "99ce8942-0f1a-40b5-d988-bbad8b452e85"
      },
      "source": [
        "plt.matshow(confusion_matrix(np.asarray(local_output['class']), np.asarray(df['col_2'])))\n",
        "print(classification_report(np.asarray(local_output['class']), \n",
        "                           np.asarray(df['col_2']), target_names = class_enc.classes_))"
      ],
      "execution_count": null,
      "outputs": [
        {
          "output_type": "stream",
          "text": [
            "               precision    recall  f1-score   support\n",
            "\n",
            "Non-Pneumonia       0.77      0.76      0.77        85\n",
            "    Pneumonia       0.56      0.57      0.56        44\n",
            "\n",
            "     accuracy                           0.70       129\n",
            "    macro avg       0.66      0.67      0.67       129\n",
            " weighted avg       0.70      0.70      0.70       129\n",
            "\n"
          ],
          "name": "stdout"
        },
        {
          "output_type": "display_data",
          "data": {
            "image/png": "[encoded data removed]",
            "text/plain": [
              "<Figure size 288x288 with 1 Axes>"
            ]
          },
          "metadata": {
            "tags": [],
            "needs_background": "light"
          }
        }
      ]
    },
    {
      "cell_type": "code",
      "metadata": {
        "id": "M_VrM382VwLP",
        "colab": {
          "base_uri": "https://localhost:8080/",
          "height": 1000
        },
        "outputId": "565265b1-517d-4839-e17c-abf0375e6716"
      },
      "source": [
        "\n",
        "\n",
        "from sklearn.metrics import roc_curve, roc_auc_score\n",
        "fpr, tpr, _ = roc_curve(np.asarray(local_output['class'])==0, np.asarray(df['col_2'] == 0))\n",
        "fig, ax1 = plt.subplots(1,1, figsize = (5, 5), dpi = 250)\n",
        "ax1.plot(fpr, tpr, 'b.-', label = 'Densenet121 (AUC:%2.2f)' % roc_auc_score(np.asarray(local_output['class'])==0,np.asarray(df['col_2'] == 0)))\n",
        "ax1.plot(fpr, fpr, 'k-', label = 'Random Guessing')\n",
        "ax1.legend(loc = 4)\n",
        "ax1.set_xlabel('False Positive Rate')\n",
        "ax1.set_ylabel('True Positive Rate');\n",
        "ax1.set_title('Lung Opacity ROC Curve')\n",
        "fig.savefig('roc_valid.pdf') \n",
        "\n"
      ],
      "execution_count": null,
      "outputs": [
        {
          "output_type": "display_data",
          "data": {
            "image/png": "[encoded data removed]",
            "text/plain": [
              "<Figure size 1250x1250 with 1 Axes>"
            ]
          },
          "metadata": {
            "tags": [],
            "needs_background": "light"
          }
        }
      ]
    },
    {
      "cell_type": "code",
      "metadata": {
        "id": "SUB93xg2VwM5"
      },
      "source": [
        "pneu_model.save('densenet121 male female pa rsna normal and pneumonea 11 epochs train auc 96% test auc 67% last to 14_14 layer unfreeze_new augmentation_zoom.h5')"
      ],
      "execution_count": null,
      "outputs": []
    },
    {
      "cell_type": "code",
      "metadata": {
        "id": "1ilzMtwkjDYO"
      },
      "source": [
        "from PIL import Image\n",
        "import numpy as np\n",
        "from skimage import transform\n",
        "def load(filename):\n",
        "   np_image = Image.open(filename)\n",
        "   np_image = np.array(np_image).astype('float32')/255\n",
        "   np_image = transform.resize(np_image, (224, 224, 3))\n",
        "   np_image = np.expand_dims(np_image, axis=0)\n",
        "   return np_image"
      ],
      "execution_count": null,
      "outputs": []
    },
    {
      "cell_type": "code",
      "metadata": {
        "id": "uznYlN6t6KKW"
      },
      "source": [
        ""
      ],
      "execution_count": null,
      "outputs": []
    },
    {
      "cell_type": "markdown",
      "metadata": {
        "id": "-3-91Y0XexOj"
      },
      "source": [
        "Prediction for each image"
      ]
    },
    {
      "cell_type": "code",
      "metadata": {
        "id": "wwIqfnK-5Jvs"
      },
      "source": [
        "ids = [i for i in df['ID']]\n",
        "preds = []\n",
        "for i in ids:\n",
        "  image = load('/content/drive/MyDrive/Pneumonia/local separated images/male-female-mod/' + str(i) + '.jpg')\n",
        "  pred = pneu_model.predict(image)\n",
        "  preds.append(pred)\n",
        "\n"
      ],
      "execution_count": null,
      "outputs": []
    },
    {
      "cell_type": "code",
      "metadata": {
        "id": "9AcYKIxo5ocH"
      },
      "source": [
        "data = {'image_id':ids , 'probability(no and yes)': preds}\n",
        "df=pd.DataFrame.from_dict(data)"
      ],
      "execution_count": null,
      "outputs": []
    },
    {
      "cell_type": "code",
      "metadata": {
        "id": "j9oYzVbE78Tz",
        "colab": {
          "base_uri": "https://localhost:8080/",
          "height": 424
        },
        "outputId": "9c84bc57-222a-447d-9c77-252accd2d38b"
      },
      "source": [
        "df"
      ],
      "execution_count": null,
      "outputs": [
        {
          "output_type": "execute_result",
          "data": {
            "text/html": [
              "<div>\n",
              "<style scoped>\n",
              "    .dataframe tbody tr th:only-of-type {\n",
              "        vertical-align: middle;\n",
              "    }\n",
              "\n",
              "    .dataframe tbody tr th {\n",
              "        vertical-align: top;\n",
              "    }\n",
              "\n",
              "    .dataframe thead th {\n",
              "        text-align: right;\n",
              "    }\n",
              "</style>\n",
              "<table border=\"1\" class=\"dataframe\">\n",
              "  <thead>\n",
              "    <tr style=\"text-align: right;\">\n",
              "      <th></th>\n",
              "      <th>image_id</th>\n",
              "      <th>probability(no and yes)</th>\n",
              "    </tr>\n",
              "  </thead>\n",
              "  <tbody>\n",
              "    <tr>\n",
              "      <th>0</th>\n",
              "      <td>1</td>\n",
              "      <td>[[9.256325e-08, 0.9999999]]</td>\n",
              "    </tr>\n",
              "    <tr>\n",
              "      <th>1</th>\n",
              "      <td>2</td>\n",
              "      <td>[[0.99994445, 5.5570104e-05]]</td>\n",
              "    </tr>\n",
              "    <tr>\n",
              "      <th>2</th>\n",
              "      <td>3</td>\n",
              "      <td>[[0.010087229, 0.9899128]]</td>\n",
              "    </tr>\n",
              "    <tr>\n",
              "      <th>3</th>\n",
              "      <td>4</td>\n",
              "      <td>[[0.9784627, 0.021537304]]</td>\n",
              "    </tr>\n",
              "    <tr>\n",
              "      <th>4</th>\n",
              "      <td>5</td>\n",
              "      <td>[[8.115067e-09, 1.0]]</td>\n",
              "    </tr>\n",
              "    <tr>\n",
              "      <th>...</th>\n",
              "      <td>...</td>\n",
              "      <td>...</td>\n",
              "    </tr>\n",
              "    <tr>\n",
              "      <th>124</th>\n",
              "      <td>134</td>\n",
              "      <td>[[0.023178779, 0.97682124]]</td>\n",
              "    </tr>\n",
              "    <tr>\n",
              "      <th>125</th>\n",
              "      <td>136</td>\n",
              "      <td>[[0.9981791, 0.0018209369]]</td>\n",
              "    </tr>\n",
              "    <tr>\n",
              "      <th>126</th>\n",
              "      <td>137</td>\n",
              "      <td>[[0.30931672, 0.69068325]]</td>\n",
              "    </tr>\n",
              "    <tr>\n",
              "      <th>127</th>\n",
              "      <td>138</td>\n",
              "      <td>[[2.9131572e-10, 1.0]]</td>\n",
              "    </tr>\n",
              "    <tr>\n",
              "      <th>128</th>\n",
              "      <td>139</td>\n",
              "      <td>[[0.30931672, 0.69068325]]</td>\n",
              "    </tr>\n",
              "  </tbody>\n",
              "</table>\n",
              "<p>129 rows × 2 columns</p>\n",
              "</div>"
            ],
            "text/plain": [
              "     image_id        probability(no and yes)\n",
              "0           1    [[9.256325e-08, 0.9999999]]\n",
              "1           2  [[0.99994445, 5.5570104e-05]]\n",
              "2           3     [[0.010087229, 0.9899128]]\n",
              "3           4     [[0.9784627, 0.021537304]]\n",
              "4           5          [[8.115067e-09, 1.0]]\n",
              "..        ...                            ...\n",
              "124       134    [[0.023178779, 0.97682124]]\n",
              "125       136    [[0.9981791, 0.0018209369]]\n",
              "126       137     [[0.30931672, 0.69068325]]\n",
              "127       138         [[2.9131572e-10, 1.0]]\n",
              "128       139     [[0.30931672, 0.69068325]]\n",
              "\n",
              "[129 rows x 2 columns]"
            ]
          },
          "metadata": {
            "tags": []
          },
          "execution_count": 69
        }
      ]
    },
    {
      "cell_type": "code",
      "metadata": {
        "id": "FguXTHJ3788B"
      },
      "source": [
        "df.to_csv('male female total densenet121 7*7_freeze_11 epochs_new augmentation+zoom.csv')"
      ],
      "execution_count": null,
      "outputs": []
    },
    {
      "cell_type": "code",
      "metadata": {
        "id": "MQlUb7jV8v_N",
        "colab": {
          "base_uri": "https://localhost:8080/",
          "height": 81
        },
        "outputId": "9c0b9f9d-48ed-4667-fbb3-dcce41344a3a"
      },
      "source": [
        "df[df['image_id'] == 101]"
      ],
      "execution_count": null,
      "outputs": [
        {
          "output_type": "execute_result",
          "data": {
            "text/html": [
              "<div>\n",
              "<style scoped>\n",
              "    .dataframe tbody tr th:only-of-type {\n",
              "        vertical-align: middle;\n",
              "    }\n",
              "\n",
              "    .dataframe tbody tr th {\n",
              "        vertical-align: top;\n",
              "    }\n",
              "\n",
              "    .dataframe thead th {\n",
              "        text-align: right;\n",
              "    }\n",
              "</style>\n",
              "<table border=\"1\" class=\"dataframe\">\n",
              "  <thead>\n",
              "    <tr style=\"text-align: right;\">\n",
              "      <th></th>\n",
              "      <th>image_id</th>\n",
              "      <th>probability(no and yes)</th>\n",
              "    </tr>\n",
              "  </thead>\n",
              "  <tbody>\n",
              "    <tr>\n",
              "      <th>92</th>\n",
              "      <td>101</td>\n",
              "      <td>[[0.99370944, 0.00629051]]</td>\n",
              "    </tr>\n",
              "  </tbody>\n",
              "</table>\n",
              "</div>"
            ],
            "text/plain": [
              "    image_id     probability(no and yes)\n",
              "92       101  [[0.99370944, 0.00629051]]"
            ]
          },
          "metadata": {
            "tags": []
          },
          "execution_count": 126
        }
      ]
    },
    {
      "cell_type": "code",
      "metadata": {
        "id": "ATDW59vSDCT4"
      },
      "source": [
        ""
      ],
      "execution_count": null,
      "outputs": []
    },
    {
      "cell_type": "markdown",
      "metadata": {
        "id": "GTIxR6mctkjO"
      },
      "source": [
        "covxnet"
      ]
    },
    {
      "cell_type": "code",
      "metadata": {
        "id": "Yy1cvBMDtly3"
      },
      "source": [
        "import numpy as np # linear algebra\n",
        "import pandas as pd\n",
        "from tqdm import tqdm\n",
        "from glob import glob\n",
        "from keras.layers import *\n",
        "from keras.models import *\n",
        "from keras.utils import *\n",
        "\n",
        "def Residual_Unit(input_tensor, nb_of_input_channels, max_dilation, number_of_units):\n",
        "    \n",
        "    for i in range(number_of_units):\n",
        "        x1 = Conv2D(nb_of_input_channels*2, kernel_size = (1,1), strides = (1,1), padding='same', dilation_rate= (1,1), activation='relu')(input_tensor)\n",
        "        x1 = BatchNormalization()(x1)\n",
        "  \n",
        "        a = []\n",
        "\n",
        "        for i in range(1, max_dilation+1):\n",
        "            temp = DepthwiseConv2D( kernel_size=(3,3), dilation_rate = (i,i), padding = 'same', activation= 'relu')(x1)\n",
        "            temp = BatchNormalization()(temp)\n",
        "            a.append(temp)\n",
        "\n",
        "        x = Concatenate(axis= -1)(a)\n",
        "        x = Conv2D(nb_of_input_channels, kernel_size = (1,1), strides = (1,1), padding='same', dilation_rate= (1,1), activation='relu')(x)\n",
        "        x = BatchNormalization()(x)\n",
        "\n",
        "        x = Add()([x, input_tensor])\n",
        "\n",
        "        input_tensor = x\n",
        "  \n",
        "    return x\n",
        "\n",
        "# Shifter Unit:\n",
        "\n",
        "def Shifter_Unit(input_tensor, nb_of_input_channels, max_dilation):\n",
        "    x1 = Conv2D(nb_of_input_channels*4, kernel_size = (1,1), strides = (1,1), padding='same', dilation_rate= (1,1), activation='relu')(input_tensor)\n",
        "    x1 = BatchNormalization()(x1)\n",
        "\n",
        "    a = []\n",
        "\n",
        "    for i in range(1, max_dilation+1):\n",
        "        temp = DepthwiseConv2D( kernel_size=(3,3), dilation_rate = (i,i), padding = 'same', activation= 'relu')(x1)\n",
        "        temp = MaxPool2D(pool_size=(2,2))(temp)\n",
        "        temp = BatchNormalization()(temp)\n",
        "        a.append(temp)\n",
        "\n",
        "    x = Concatenate(axis= -1)(a)\n",
        "\n",
        "    x = Conv2D(nb_of_input_channels*2, kernel_size = (1,1), strides = (1,1), padding='same', dilation_rate= (1,1), activation='relu')(x)\n",
        "    x = BatchNormalization()(x)\n",
        "\n",
        "    return x\n",
        "\n",
        "\n",
        "\n",
        "from keras.optimizers import Adam\n",
        "\n",
        "#Network:\n",
        "  \n",
        "def Network128(input_shape, nb_class, depth):\n",
        "    xin = Input(shape= input_shape)\n",
        "\n",
        "    x = Conv2D(16, kernel_size = (5,5), strides= (1,1), padding = 'same', activation='relu')(xin)\n",
        "    x = BatchNormalization()(x)\n",
        "\n",
        "    x = Conv2D(32, kernel_size = (3,3), strides= (2,2), padding = 'same', activation='relu')(x)\n",
        "    x = BatchNormalization()(x)\n",
        "  \n",
        "  ##Max Dilation rate will be vary in the range (1,5). \n",
        "\n",
        "# Max Dilation rate is 5 for tensor (64x64x32)\n",
        "    x = Residual_Unit(input_tensor=x, nb_of_input_channels=32, max_dilation=5, number_of_units=depth)\n",
        "    x = Shifter_Unit(input_tensor=x, nb_of_input_channels=32, max_dilation=5)\n",
        "\n",
        "\n",
        "# Max Dilation rate is 4 for (32x32x64)\n",
        "    x = Residual_Unit(input_tensor=x, nb_of_input_channels=64, max_dilation=4, number_of_units=depth)\n",
        "    x = Shifter_Unit(input_tensor=x, nb_of_input_channels=64, max_dilation=4)\n",
        "\n",
        "# Max Dilation rate is 3 for (16x16x128)\n",
        "    x = Residual_Unit(input_tensor=x, nb_of_input_channels=128, max_dilation=3, number_of_units=depth)\n",
        "    x = Shifter_Unit(input_tensor=x, nb_of_input_channels=128, max_dilation=3)\n",
        "\n",
        "# Max Dilation rate is 2 for (8x8x256)\n",
        "    x = Residual_Unit(input_tensor=x, nb_of_input_channels=256, max_dilation=2, number_of_units=depth)\n",
        "\n",
        "    x = GlobalAveragePooling2D()(x)\n",
        "\n",
        "    x = Dense(128, activation='relu')(x)\n",
        "    x = Dense(64, activation='relu')(x)\n",
        "\n",
        "    x = Dense(nb_class, activation= 'softmax')(x)\n",
        "\n",
        "    model = Model(xin, x)\n",
        "\n",
        "    model.compile(loss='categorical_crossentropy', optimizer = Adam(lr = 1e-3), metrics = ['accuracy'])\n",
        "\n",
        "    return model "
      ],
      "execution_count": null,
      "outputs": []
    },
    {
      "cell_type": "code",
      "metadata": {
        "id": "NTllRW1Hto8b"
      },
      "source": [
        "model = Network128(input_shape = (128, 128, 1), nb_class = 2, depth = 5)\n",
        "model.summary() "
      ],
      "execution_count": null,
      "outputs": []
    },
    {
      "cell_type": "code",
      "metadata": {
        "id": "19ygHvvjtufC"
      },
      "source": [
        "\n",
        "\n",
        "pred = model.predict_generator(valid_gen, workers = 1,steps=np.ceil(101/16))\n",
        "\n"
      ],
      "execution_count": null,
      "outputs": []
    },
    {
      "cell_type": "code",
      "metadata": {
        "id": "4yfOhAhwtwwT"
      },
      "source": [
        "\n",
        "\n",
        "pred = np.argmax(pred, axis=-1)\n",
        "print(pred)\n",
        "\n"
      ],
      "execution_count": null,
      "outputs": []
    },
    {
      "cell_type": "code",
      "metadata": {
        "id": "OEKYnM2quBjg"
      },
      "source": [
        ""
      ],
      "execution_count": null,
      "outputs": []
    },
    {
      "cell_type": "code",
      "metadata": {
        "id": "TkRS3soRuBok"
      },
      "source": [
        "import numpy as np\n",
        "import pandas as pd\n",
        "import os\n",
        "import cv2\n",
        "from random import shuffle\n",
        "import scipy\n",
        "from tqdm import tqdm  \n",
        "import skimage\n",
        "from skimage.transform import resize\n",
        "\n",
        "import matplotlib.pyplot as plt\n",
        "\n",
        "from keras.preprocessing.image import ImageDataGenerator, load_img\n",
        "from keras.layers import BatchNormalization\n",
        "from keras.layers import Conv2D\n",
        "from keras.layers import UpSampling2D\n",
        "from keras.layers import Activation\n",
        "from keras.layers import MaxPool2D\n",
        "from keras.layers import Add\n",
        "from keras.layers import Multiply\n",
        "from keras.layers import Lambda\n",
        "\n",
        "from keras.layers import Input\n",
        "from keras.layers import Dense\n",
        "from keras.layers import AveragePooling2D\n",
        "from keras.layers import Flatten\n",
        "from keras.layers import Activation\n",
        "from keras.layers import BatchNormalization\n",
        "from keras.layers import Dropout\n",
        "from keras.models import Model\n",
        "from keras.regularizers import l2\n",
        "\n",
        "from keras.callbacks import ReduceLROnPlateau, EarlyStopping\n",
        "from IPython.display import SVG\n",
        "from keras.utils.vis_utils import model_to_dot\n",
        "\n",
        "import keras\n",
        "\n",
        "from sklearn.metrics import confusion_matrix\n",
        "from mlxtend.plotting import plot_confusion_matrix"
      ],
      "execution_count": null,
      "outputs": []
    },
    {
      "cell_type": "code",
      "metadata": {
        "id": "bF1ycfZ3uIiK"
      },
      "source": [
        "def residual_block(input, input_channels=None, output_channels=None, kernel_size=(3, 3), stride=1, blockName=None):\n",
        "\n",
        "    if output_channels is None:\n",
        "        output_channels = input.get_shape()[-1].value\n",
        "    if input_channels is None:\n",
        "        input_channels = output_channels // 4\n",
        "\n",
        "    strides = (stride, stride)\n",
        "\n",
        "#     x = BatchNormalization()(input)\n",
        "#     x = Activation('relu')(x)\n",
        "#     x = Conv2D(input_channels, (1, 1))(x)\n",
        " \n",
        "    x = BatchNormalization()(input)\n",
        "    x = Activation('relu')(x)\n",
        "    if blockName is not None:\n",
        "        blockName = blockName + 'conv1'\n",
        "    x = Conv2D(input_channels, kernel_size, padding='same', strides=stride, name=blockName )(x)\n",
        "    \n",
        "    x = BatchNormalization()(x)\n",
        "    x = Activation('relu')(x)\n",
        "    if blockName is not None:\n",
        "        blockName = blockName + 'conv2'\n",
        "    x = Conv2D(output_channels, (1, 1), padding='same', name=blockName )(x)\n",
        "\n",
        "    if input_channels != output_channels or stride != 1:\n",
        "        if blockName is not None:\n",
        "            blockName = blockName + 'conv3'\n",
        "        input = Conv2D(output_channels, (1, 1), padding='same', strides=strides, name=blockName )(input)\n",
        "\n",
        "    x = Add()([x, input])\n",
        "    return x"
      ],
      "execution_count": null,
      "outputs": []
    },
    {
      "cell_type": "code",
      "metadata": {
        "id": "JuOr0jYguNL8"
      },
      "source": [
        "def attention_block(input, input_channels=None, output_channels=None, encoder_depth=1):\n",
        "\n",
        "    p = 1\n",
        "    t = 2\n",
        "    r = 1\n",
        "\n",
        "    if input_channels is None:\n",
        "        input_channels = input.get_shape()[-1].value\n",
        "    if output_channels is None:\n",
        "        output_channels = input_channels\n",
        "\n",
        "    # First Residual Block\n",
        "    for i in range(p):\n",
        "        input = residual_block(input)\n",
        "\n",
        "    # Trunc Branch\n",
        "    output_trunk = input\n",
        "    for i in range(t):\n",
        "        output_trunk = residual_block(output_trunk)\n",
        "\n",
        "    # Soft Mask Branch\n",
        "\n",
        "    ## encoder\n",
        "    ### first down sampling\n",
        "    output_soft_mask = MaxPool2D(padding='same')(input)  # 32x32\n",
        "    for i in range(r):\n",
        "        output_soft_mask = residual_block(output_soft_mask)\n",
        "\n",
        "    skip_connections = []\n",
        "    for i in range(encoder_depth - 1):\n",
        "\n",
        "        ## skip connections\n",
        "        output_skip_connection = residual_block(output_soft_mask)\n",
        "        skip_connections.append(output_skip_connection)\n",
        "        # print ('skip shape:', output_skip_connection.get_shape())\n",
        "\n",
        "        ## down sampling\n",
        "        output_soft_mask = MaxPool2D(padding='same')(output_soft_mask)\n",
        "        for _ in range(r):\n",
        "            output_soft_mask = residual_block(output_soft_mask)\n",
        "\n",
        "            ## decoder\n",
        "    skip_connections = list(reversed(skip_connections))\n",
        "    for i in range(encoder_depth - 1):\n",
        "        ## upsampling\n",
        "        for _ in range(r):\n",
        "            output_soft_mask = residual_block(output_soft_mask)\n",
        "        output_soft_mask = UpSampling2D()(output_soft_mask)\n",
        "        ## skip connections\n",
        "        output_soft_mask = Add()([output_soft_mask, skip_connections[i]])\n",
        "\n",
        "    ### last upsampling\n",
        "    for i in range(r):\n",
        "        output_soft_mask = residual_block(output_soft_mask)\n",
        "    output_soft_mask = UpSampling2D()(output_soft_mask)\n",
        "\n",
        "    ## Output\n",
        "    output_soft_mask = Conv2D(input_channels, (1, 1))(output_soft_mask)\n",
        "    output_soft_mask = Conv2D(input_channels, (1, 1))(output_soft_mask)\n",
        "    output_soft_mask = Activation('sigmoid')(output_soft_mask)\n",
        "\n",
        "    # Attention: (1 + output_soft_mask) * output_trunk\n",
        "    output = Lambda(lambda x: x + 1)(output_soft_mask)\n",
        "    output = Multiply()([output, output_trunk])  #\n",
        "\n",
        "    # Last Residual Block\n",
        "    for i in range(p):\n",
        "        output = residual_block(output)\n",
        "\n",
        "    return output"
      ],
      "execution_count": null,
      "outputs": []
    },
    {
      "cell_type": "code",
      "metadata": {
        "id": "r_QM8A2RuQuy"
      },
      "source": [
        "def AttentionResNet56(shape=(224, 224, 3), n_channels=64, n_classes=100,\n",
        "                      dropout=0, regularization=0.01):\n",
        "\n",
        "    regularizer = l2(regularization)\n",
        "\n",
        "    input_ = Input(shape=shape)\n",
        "    #x = Conv2D(n_channels, (7, 7), strides=(2, 2), padding='same')(input_) # 112x112\n",
        "    x = Conv2D(n_channels, (3, 3), strides=(1, 1), padding='same')(input_) # 224x224\n",
        "    x = BatchNormalization()(x)\n",
        "    x = Activation('relu')(x)\n",
        "    x = MaxPool2D(pool_size=(3, 3), strides=(1, 1), padding='same')(x)  # 56x56 ##same output 224\n",
        "\n",
        "    x = residual_block(x, output_channels=n_channels * 4,stride=2, blockName = 'resblock1')  # 56x56  ##112\n",
        "    x = attention_block(x, encoder_depth=2)  # bottleneck 7x7                                           ##112\n",
        "\n",
        "    x = residual_block(x, output_channels=n_channels * 8, stride=2, blockName = 'resblock2')  # 28x28  ##56\n",
        "    x = attention_block(x, encoder_depth=1)  # bottleneck 7x7                                           ##56\n",
        "    \n",
        "    x = residual_block(x, output_channels=n_channels * 8, stride=2, blockName = 'resblock3')  # 28x28   ##28\n",
        "    x = attention_block(x, encoder_depth=1)  # bottleneck 7x7  ##28\n",
        "    \n",
        "    x = residual_block(x, output_channels=n_channels * 8, stride=2, blockName = 'resblock4')  # 28x28   ##14\n",
        "    x = attention_block(x, encoder_depth=1)  # bottleneck 7x7  ##14\n",
        "\n",
        "    x = residual_block(x, output_channels=n_channels * 16, stride=2, blockName = 'resblock5')  # 7x7\n",
        "    input_channels_same = x.get_shape()[-1].value\n",
        "    \n",
        "    x = residual_block(x, input_channels = input_channels_same,  output_channels=input_channels_same, stride=1, blockName = 'resblock6')  # 7x7\n",
        "    x = residual_block(x,input_channels = input_channels_same,  output_channels=input_channels_same, stride=1, blockName = 'resblock7')  # 7x7\n",
        "\n",
        "    pool_size = (x.get_shape()[1].value, x.get_shape()[2].value)\n",
        "    x = AveragePooling2D(pool_size=pool_size, strides=(1, 1))(x)\n",
        "    x = Flatten()(x)\n",
        "    x = Dropout(dropout)(x)\n",
        "    x = Dense(256, kernel_regularizer=regularizer, activation='relu')(x)\n",
        "    x = Dropout(dropout)(x)\n",
        "    x = Dense(16, kernel_regularizer=regularizer, activation='relu')(x)\n",
        "    x = Dropout(dropout)(x)\n",
        "    output = Dense(n_classes, kernel_regularizer=regularizer, activation='softmax')(x)\n",
        "\n",
        "    model = Model(input_, output)\n",
        "    return model"
      ],
      "execution_count": null,
      "outputs": []
    },
    {
      "cell_type": "code",
      "metadata": {
        "id": "upd255FQuTAf",
        "colab": {
          "base_uri": "https://localhost:8080/",
          "height": 376
        },
        "outputId": "ec107d2a-934e-4fed-a50f-b8863aef888c"
      },
      "source": [
        "\n",
        "\n",
        "model = AttentionResNet56(n_classes=2,dropout=.25)\n",
        "\n"
      ],
      "execution_count": null,
      "outputs": [
        {
          "output_type": "error",
          "ename": "AttributeError",
          "evalue": "ignored",
          "traceback": [
            "\u001b[0;31m---------------------------------------------------------------------------\u001b[0m",
            "\u001b[0;31mAttributeError\u001b[0m                            Traceback (most recent call last)",
            "\u001b[0;32m<ipython-input-41-e7664234fd10>\u001b[0m in \u001b[0;36m<module>\u001b[0;34m()\u001b[0m\n\u001b[1;32m      1\u001b[0m \u001b[0;34m\u001b[0m\u001b[0m\n\u001b[1;32m      2\u001b[0m \u001b[0;34m\u001b[0m\u001b[0m\n\u001b[0;32m----> 3\u001b[0;31m \u001b[0mmodel\u001b[0m \u001b[0;34m=\u001b[0m \u001b[0mAttentionResNet56\u001b[0m\u001b[0;34m(\u001b[0m\u001b[0mn_classes\u001b[0m\u001b[0;34m=\u001b[0m\u001b[0;36m2\u001b[0m\u001b[0;34m,\u001b[0m\u001b[0mdropout\u001b[0m\u001b[0;34m=\u001b[0m\u001b[0;36m.25\u001b[0m\u001b[0;34m)\u001b[0m\u001b[0;34m\u001b[0m\u001b[0;34m\u001b[0m\u001b[0m\n\u001b[0m\u001b[1;32m      4\u001b[0m \u001b[0;34m\u001b[0m\u001b[0m\n",
            "\u001b[0;32m<ipython-input-40-ac5e6d3ea757>\u001b[0m in \u001b[0;36mAttentionResNet56\u001b[0;34m(shape, n_channels, n_classes, dropout, regularization)\u001b[0m\n\u001b[1;32m     12\u001b[0m \u001b[0;34m\u001b[0m\u001b[0m\n\u001b[1;32m     13\u001b[0m     \u001b[0mx\u001b[0m \u001b[0;34m=\u001b[0m \u001b[0mresidual_block\u001b[0m\u001b[0;34m(\u001b[0m\u001b[0mx\u001b[0m\u001b[0;34m,\u001b[0m \u001b[0moutput_channels\u001b[0m\u001b[0;34m=\u001b[0m\u001b[0mn_channels\u001b[0m \u001b[0;34m*\u001b[0m \u001b[0;36m4\u001b[0m\u001b[0;34m,\u001b[0m\u001b[0mstride\u001b[0m\u001b[0;34m=\u001b[0m\u001b[0;36m2\u001b[0m\u001b[0;34m,\u001b[0m \u001b[0mblockName\u001b[0m \u001b[0;34m=\u001b[0m \u001b[0;34m'resblock1'\u001b[0m\u001b[0;34m)\u001b[0m  \u001b[0;31m# 56x56  ##112\u001b[0m\u001b[0;34m\u001b[0m\u001b[0;34m\u001b[0m\u001b[0m\n\u001b[0;32m---> 14\u001b[0;31m     \u001b[0mx\u001b[0m \u001b[0;34m=\u001b[0m \u001b[0mattention_block\u001b[0m\u001b[0;34m(\u001b[0m\u001b[0mx\u001b[0m\u001b[0;34m,\u001b[0m \u001b[0mencoder_depth\u001b[0m\u001b[0;34m=\u001b[0m\u001b[0;36m2\u001b[0m\u001b[0;34m)\u001b[0m  \u001b[0;31m# bottleneck 7x7                                           ##112\u001b[0m\u001b[0;34m\u001b[0m\u001b[0;34m\u001b[0m\u001b[0m\n\u001b[0m\u001b[1;32m     15\u001b[0m \u001b[0;34m\u001b[0m\u001b[0m\n\u001b[1;32m     16\u001b[0m     \u001b[0mx\u001b[0m \u001b[0;34m=\u001b[0m \u001b[0mresidual_block\u001b[0m\u001b[0;34m(\u001b[0m\u001b[0mx\u001b[0m\u001b[0;34m,\u001b[0m \u001b[0moutput_channels\u001b[0m\u001b[0;34m=\u001b[0m\u001b[0mn_channels\u001b[0m \u001b[0;34m*\u001b[0m \u001b[0;36m8\u001b[0m\u001b[0;34m,\u001b[0m \u001b[0mstride\u001b[0m\u001b[0;34m=\u001b[0m\u001b[0;36m2\u001b[0m\u001b[0;34m,\u001b[0m \u001b[0mblockName\u001b[0m \u001b[0;34m=\u001b[0m \u001b[0;34m'resblock2'\u001b[0m\u001b[0;34m)\u001b[0m  \u001b[0;31m# 28x28  ##56\u001b[0m\u001b[0;34m\u001b[0m\u001b[0;34m\u001b[0m\u001b[0m\n",
            "\u001b[0;32m<ipython-input-39-0435d967fc81>\u001b[0m in \u001b[0;36mattention_block\u001b[0;34m(input, input_channels, output_channels, encoder_depth)\u001b[0m\n\u001b[1;32m      6\u001b[0m \u001b[0;34m\u001b[0m\u001b[0m\n\u001b[1;32m      7\u001b[0m     \u001b[0;32mif\u001b[0m \u001b[0minput_channels\u001b[0m \u001b[0;32mis\u001b[0m \u001b[0;32mNone\u001b[0m\u001b[0;34m:\u001b[0m\u001b[0;34m\u001b[0m\u001b[0;34m\u001b[0m\u001b[0m\n\u001b[0;32m----> 8\u001b[0;31m         \u001b[0minput_channels\u001b[0m \u001b[0;34m=\u001b[0m \u001b[0minput\u001b[0m\u001b[0;34m.\u001b[0m\u001b[0mget_shape\u001b[0m\u001b[0;34m(\u001b[0m\u001b[0;34m)\u001b[0m\u001b[0;34m[\u001b[0m\u001b[0;34m-\u001b[0m\u001b[0;36m1\u001b[0m\u001b[0;34m]\u001b[0m\u001b[0;34m.\u001b[0m\u001b[0mvalue\u001b[0m\u001b[0;34m\u001b[0m\u001b[0;34m\u001b[0m\u001b[0m\n\u001b[0m\u001b[1;32m      9\u001b[0m     \u001b[0;32mif\u001b[0m \u001b[0moutput_channels\u001b[0m \u001b[0;32mis\u001b[0m \u001b[0;32mNone\u001b[0m\u001b[0;34m:\u001b[0m\u001b[0;34m\u001b[0m\u001b[0;34m\u001b[0m\u001b[0m\n\u001b[1;32m     10\u001b[0m         \u001b[0moutput_channels\u001b[0m \u001b[0;34m=\u001b[0m \u001b[0minput_channels\u001b[0m\u001b[0;34m\u001b[0m\u001b[0;34m\u001b[0m\u001b[0m\n",
            "\u001b[0;31mAttributeError\u001b[0m: 'int' object has no attribute 'value'"
          ]
        }
      ]
    },
    {
      "cell_type": "code",
      "metadata": {
        "id": "jv2CPojjuWAa"
      },
      "source": [
        "from keras.optimizers import Adam, SGD, RMSprop\n",
        "from keras.callbacks import ModelCheckpoint, Callback, EarlyStopping\n",
        "opt = RMSprop(lr=0.0001, decay=1e-5)\n",
        "es = EarlyStopping(monitor='val_loss', patience=10, \n",
        "                    verbose = 1, \n",
        "                    restore_best_weights=True)\n",
        "chkpt = ModelCheckpoint(filepath='best_model_todate', save_best_only=True, save_weights_only=True)\n",
        "model.compile(loss='binary_crossentropy', metrics=['accuracy'],optimizer=opt)"
      ],
      "execution_count": null,
      "outputs": []
    },
    {
      "cell_type": "code",
      "metadata": {
        "id": "iiKIO3_Yuao0"
      },
      "source": [
        "\n",
        "\n",
        "img_height = 224\n",
        "img_width = 224\n",
        "\n",
        "nb_train_samples = 5217\n",
        "nb_validation_samples = 17\n",
        "nb_test_samples=624\n",
        "epochs = 30\n",
        "batch_size = 16\n",
        "\n"
      ],
      "execution_count": null,
      "outputs": []
    },
    {
      "cell_type": "code",
      "metadata": {
        "id": "7Ugnu9FCudKD"
      },
      "source": [
        "\n",
        "\n",
        "# params we will probably want to do some hyperparameter optimization later\n",
        "BASE_MODEL= 'VGG16' # ['VGG16', 'RESNET52', 'InceptionV3', 'Xception', 'DenseNet169', 'DenseNet121']\n",
        "IMG_SIZE = (224, 224) # [(224, 224), (384, 384), (512, 512), (640, 640)]\n",
        "BATCH_SIZE = 16 # [1, 8, 16, 24]\n",
        "DENSE_COUNT = 128 # [32, 64, 128, 256]\n",
        "DROPOUT = 0.25 # [0, 0.25, 0.5]\n",
        "LEARN_RATE = 1e-4 # [1e-4, 1e-3, 4e-3]\n",
        "TRAIN_SAMPLES = 8000 # [3000, 6000, 15000]\n",
        "TEST_SAMPLES = 800\n",
        "USE_ATTN = False # [True, False]\n",
        "\n"
      ],
      "execution_count": null,
      "outputs": []
    },
    {
      "cell_type": "code",
      "metadata": {
        "id": "CidJ-3QrufyA"
      },
      "source": [
        "train_gen.batch_size = BATCH_SIZE\n",
        "model.fit_generator(train_gen, \n",
        "                         steps_per_epoch=train_gen.n//BATCH_SIZE,\n",
        "                         validation_data=(valid_X, valid_Y), \n",
        "                         epochs=30, \n",
        "                         callbacks=[es, chkpt],\n",
        "                         workers=2)"
      ],
      "execution_count": null,
      "outputs": []
    }
  ]
}
